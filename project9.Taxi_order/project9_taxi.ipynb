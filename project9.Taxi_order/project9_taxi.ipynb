{
 "cells": [
  {
   "cell_type": "markdown",
   "metadata": {
    "id": "KU5aS-0u_av5"
   },
   "source": [
    "**Проект:  Прогнозирование заказов такси**\n",
    "\n",
    "\n",
    "---\n",
    "\n",
    "\n",
    "Описание проекта:\n",
    "\n",
    "Компания собрала исторические данные о заказах такси в аэропортах. Чтобы привлекать больше водителей в период пиковой нагрузки, нужно спрогнозировать количество заказов такси на следующий час.\n",
    "\n",
    "\n",
    "---\n",
    "\n",
    "\n",
    "Требование к модели:\n",
    "Значение метрики RMSE на тестовой выборке должно быть не больше 48."
   ]
  },
  {
   "cell_type": "markdown",
   "metadata": {
    "id": "uItyKCpS_wsu"
   },
   "source": [
    "## Импорт данных"
   ]
  },
  {
   "cell_type": "code",
   "execution_count": 1,
   "metadata": {
    "colab": {
     "base_uri": "https://localhost:8080/"
    },
    "id": "wEhJTpBIL0OW",
    "outputId": "13d0254d-4593-459b-e228-d435e4ed017d"
   },
   "outputs": [],
   "source": [
    "import pandas as pd\n",
    "from sklearn.metrics import mean_squared_error\n",
    "from sklearn.linear_model import LinearRegression\n",
    "from matplotlib.pyplot import plot\n",
    "from statsmodels.tsa.seasonal import seasonal_decompose\n",
    "from sklearn.model_selection import train_test_split"
   ]
  },
  {
   "cell_type": "code",
   "execution_count": 2,
   "metadata": {
    "id": "HvX-dI6OS2x_"
   },
   "outputs": [],
   "source": [
    "df= pd.read_csv('https://code.s3.yandex.net/datasets/taxi.csv', parse_dates=[0])"
   ]
  },
  {
   "cell_type": "code",
   "execution_count": 3,
   "metadata": {
    "colab": {
     "base_uri": "https://localhost:8080/",
     "height": 443
    },
    "id": "RabSa0RzL4bh",
    "outputId": "a3312e17-67ef-48cd-dd80-0e381c02f9e7"
   },
   "outputs": [
    {
     "data": {
      "text/html": [
       "<div>\n",
       "<style scoped>\n",
       "    .dataframe tbody tr th:only-of-type {\n",
       "        vertical-align: middle;\n",
       "    }\n",
       "\n",
       "    .dataframe tbody tr th {\n",
       "        vertical-align: top;\n",
       "    }\n",
       "\n",
       "    .dataframe thead th {\n",
       "        text-align: right;\n",
       "    }\n",
       "</style>\n",
       "<table border=\"1\" class=\"dataframe\">\n",
       "  <thead>\n",
       "    <tr style=\"text-align: right;\">\n",
       "      <th></th>\n",
       "      <th>num_orders</th>\n",
       "    </tr>\n",
       "    <tr>\n",
       "      <th>datetime</th>\n",
       "      <th></th>\n",
       "    </tr>\n",
       "  </thead>\n",
       "  <tbody>\n",
       "    <tr>\n",
       "      <td>2018-03-01 00:00:00</td>\n",
       "      <td>9</td>\n",
       "    </tr>\n",
       "    <tr>\n",
       "      <td>2018-03-01 00:10:00</td>\n",
       "      <td>14</td>\n",
       "    </tr>\n",
       "    <tr>\n",
       "      <td>2018-03-01 00:20:00</td>\n",
       "      <td>28</td>\n",
       "    </tr>\n",
       "    <tr>\n",
       "      <td>2018-03-01 00:30:00</td>\n",
       "      <td>20</td>\n",
       "    </tr>\n",
       "    <tr>\n",
       "      <td>2018-03-01 00:40:00</td>\n",
       "      <td>32</td>\n",
       "    </tr>\n",
       "    <tr>\n",
       "      <td>...</td>\n",
       "      <td>...</td>\n",
       "    </tr>\n",
       "    <tr>\n",
       "      <td>2018-08-31 23:10:00</td>\n",
       "      <td>32</td>\n",
       "    </tr>\n",
       "    <tr>\n",
       "      <td>2018-08-31 23:20:00</td>\n",
       "      <td>24</td>\n",
       "    </tr>\n",
       "    <tr>\n",
       "      <td>2018-08-31 23:30:00</td>\n",
       "      <td>27</td>\n",
       "    </tr>\n",
       "    <tr>\n",
       "      <td>2018-08-31 23:40:00</td>\n",
       "      <td>39</td>\n",
       "    </tr>\n",
       "    <tr>\n",
       "      <td>2018-08-31 23:50:00</td>\n",
       "      <td>53</td>\n",
       "    </tr>\n",
       "  </tbody>\n",
       "</table>\n",
       "<p>26496 rows × 1 columns</p>\n",
       "</div>"
      ],
      "text/plain": [
       "                     num_orders\n",
       "datetime                       \n",
       "2018-03-01 00:00:00           9\n",
       "2018-03-01 00:10:00          14\n",
       "2018-03-01 00:20:00          28\n",
       "2018-03-01 00:30:00          20\n",
       "2018-03-01 00:40:00          32\n",
       "...                         ...\n",
       "2018-08-31 23:10:00          32\n",
       "2018-08-31 23:20:00          24\n",
       "2018-08-31 23:30:00          27\n",
       "2018-08-31 23:40:00          39\n",
       "2018-08-31 23:50:00          53\n",
       "\n",
       "[26496 rows x 1 columns]"
      ]
     },
     "execution_count": 3,
     "metadata": {},
     "output_type": "execute_result"
    }
   ],
   "source": [
    "df.set_index('datetime')"
   ]
  },
  {
   "cell_type": "markdown",
   "metadata": {
    "id": "SOExvtTZ_4At"
   },
   "source": [
    "## Анализ данных"
   ]
  },
  {
   "cell_type": "code",
   "execution_count": 4,
   "metadata": {
    "colab": {
     "base_uri": "https://localhost:8080/"
    },
    "id": "1qM6UJ4zN0xO",
    "outputId": "677f057c-933a-4612-c092-d0986db0f14b"
   },
   "outputs": [
    {
     "name": "stdout",
     "output_type": "stream",
     "text": [
      "<class 'pandas.core.frame.DataFrame'>\n",
      "RangeIndex: 26496 entries, 0 to 26495\n",
      "Data columns (total 2 columns):\n",
      "datetime      26496 non-null datetime64[ns]\n",
      "num_orders    26496 non-null int64\n",
      "dtypes: datetime64[ns](1), int64(1)\n",
      "memory usage: 414.1 KB\n"
     ]
    }
   ],
   "source": [
    "df.info()"
   ]
  },
  {
   "cell_type": "markdown",
   "metadata": {
    "id": "wTrcWjeQ_6p3"
   },
   "source": [
    "проверим монотонность индексов:"
   ]
  },
  {
   "cell_type": "code",
   "execution_count": 5,
   "metadata": {
    "colab": {
     "base_uri": "https://localhost:8080/"
    },
    "id": "efeOq2qpL7yB",
    "outputId": "9d19ecfc-536b-4fac-8d9e-d183e8fb901a"
   },
   "outputs": [
    {
     "data": {
      "text/plain": [
       "True"
      ]
     },
     "execution_count": 5,
     "metadata": {},
     "output_type": "execute_result"
    }
   ],
   "source": [
    "df.index.is_monotonic"
   ]
  },
  {
   "cell_type": "code",
   "execution_count": 6,
   "metadata": {
    "id": "pFjPhbduMb97"
   },
   "outputs": [],
   "source": [
    "df = df.set_index('datetime')\n",
    "df.sort_index(inplace=True)"
   ]
  },
  {
   "cell_type": "code",
   "execution_count": 7,
   "metadata": {
    "id": "CO_FWHwXL-fZ"
   },
   "outputs": [],
   "source": [
    "hour_df = df.resample('1h').mean()"
   ]
  },
  {
   "cell_type": "code",
   "execution_count": 8,
   "metadata": {
    "colab": {
     "base_uri": "https://localhost:8080/",
     "height": 267
    },
    "id": "lM0w32VrMHAY",
    "outputId": "05b8b27c-d5bb-49fd-a7e4-26426d7b8911"
   },
   "outputs": [
    {
     "name": "stderr",
     "output_type": "stream",
     "text": [
      "/opt/conda/lib/python3.7/site-packages/pandas/plotting/_matplotlib/converter.py:103: FutureWarning: Using an implicitly registered datetime converter for a matplotlib plotting method. The converter was registered by pandas on import. Future versions of pandas will require you to explicitly register matplotlib converters.\n",
      "\n",
      "To register the converters:\n",
      "\t>>> from pandas.plotting import register_matplotlib_converters\n",
      "\t>>> register_matplotlib_converters()\n",
      "  warnings.warn(msg, FutureWarning)\n"
     ]
    },
    {
     "data": {
      "image/png": "[encoded data removed]",
      "text/plain": [
       "<Figure size 432x288 with 1 Axes>"
      ]
     },
     "metadata": {
      "needs_background": "light"
     },
     "output_type": "display_data"
    }
   ],
   "source": [
    "plt = plot(hour_df.index, hour_df.num_orders)"
   ]
  },
  {
   "cell_type": "markdown",
   "metadata": {
    "id": "bIRNg3TpADS_"
   },
   "source": [
    "Проверим циклы и сезонности во временном ряду:"
   ]
  },
  {
   "cell_type": "code",
   "execution_count": 9,
   "metadata": {
    "id": "nVKJ1bpXSrdM"
   },
   "outputs": [],
   "source": [
    "decomposed = seasonal_decompose(hour_df)"
   ]
  },
  {
   "cell_type": "code",
   "execution_count": 12,
   "metadata": {
    "colab": {
     "base_uri": "https://localhost:8080/",
     "height": 283
    },
    "id": "Dzuj590oUO-v",
    "outputId": "58b558d9-f93a-4f67-8bda-1337a9d7cce5"
   },
   "outputs": [
    {
     "data": {
      "text/plain": [
       "[<matplotlib.lines.Line2D at 0x7f1c512dc910>]"
      ]
     },
     "execution_count": 12,
     "metadata": {},
     "output_type": "execute_result"
    },
    {
     "data": {
      "image/png": "[encoded data removed]",
      "text/plain": [
       "<Figure size 432x288 with 1 Axes>"
      ]
     },
     "metadata": {
      "needs_background": "light"
     },
     "output_type": "display_data"
    }
   ],
   "source": [
    "plot(decomposed.trend['2018-03-01':'2018-04'].index, decomposed.trend['2018-03':'2018-04'].num_orders)"
   ]
  },
  {
   "cell_type": "markdown",
   "metadata": {
    "id": "xIHBTZXmX4tj"
   },
   "source": [
    "У графика тренда меняется среднее, значит ряд не стационарный."
   ]
  },
  {
   "cell_type": "code",
   "execution_count": 13,
   "metadata": {
    "colab": {
     "base_uri": "https://localhost:8080/",
     "height": 282
    },
    "id": "tIJPd_Oru-D8",
    "outputId": "0fca64c8-6249-4401-8315-f82aaa972aec"
   },
   "outputs": [
    {
     "data": {
      "text/plain": [
       "[<matplotlib.lines.Line2D at 0x7f1c512445d0>]"
      ]
     },
     "execution_count": 13,
     "metadata": {},
     "output_type": "execute_result"
    },
    {
     "data": {
      "image/png": "[encoded data removed]",
      "text/plain": [
       "<Figure size 432x288 with 1 Axes>"
      ]
     },
     "metadata": {
      "needs_background": "light"
     },
     "output_type": "display_data"
    }
   ],
   "source": [
    "plot(decomposed.trend['2018-03-01 00 ':'2018-03-02 23'].index, decomposed.trend['2018-03-01 00':'2018-03-02 23'].num_orders)\n"
   ]
  },
  {
   "cell_type": "code",
   "execution_count": 14,
   "metadata": {
    "colab": {
     "base_uri": "https://localhost:8080/",
     "height": 282
    },
    "id": "pgXozzQ-m1w9",
    "outputId": "246a9819-e0a7-497f-feeb-25e62bf838ce"
   },
   "outputs": [
    {
     "data": {
      "text/plain": [
       "[<matplotlib.lines.Line2D at 0x7f1c511a5cd0>]"
      ]
     },
     "execution_count": 14,
     "metadata": {},
     "output_type": "execute_result"
    },
    {
     "data": {
      "image/png": "[encoded data removed]",
      "text/plain": [
       "<Figure size 432x288 with 1 Axes>"
      ]
     },
     "metadata": {
      "needs_background": "light"
     },
     "output_type": "display_data"
    }
   ],
   "source": [
    "day_df = df.resample('1d').mean()\n",
    "decomposed = seasonal_decompose(day_df)\n",
    "plot(decomposed.trend.index, decomposed.trend.num_orders)"
   ]
  },
  {
   "cell_type": "code",
   "execution_count": 15,
   "metadata": {
    "colab": {
     "base_uri": "https://localhost:8080/",
     "height": 282
    },
    "id": "bzFjCCKtXodH",
    "outputId": "2c4075c7-c729-45c7-9f1e-14c3d9512000"
   },
   "outputs": [
    {
     "data": {
      "text/plain": [
       "[<matplotlib.lines.Line2D at 0x7f1c51147250>]"
      ]
     },
     "execution_count": 15,
     "metadata": {},
     "output_type": "execute_result"
    },
    {
     "data": {
      "image/png": "[encoded data removed]",
      "text/plain": [
       "<Figure size 432x288 with 1 Axes>"
      ]
     },
     "metadata": {
      "needs_background": "light"
     },
     "output_type": "display_data"
    }
   ],
   "source": [
    "plot(decomposed.seasonal.index, decomposed.seasonal.num_orders)"
   ]
  },
  {
   "cell_type": "code",
   "execution_count": 16,
   "metadata": {
    "colab": {
     "base_uri": "https://localhost:8080/",
     "height": 282
    },
    "id": "NSN0kxyZpR85",
    "outputId": "b37d11a5-7076-4b15-ac99-0ce7d83b436b"
   },
   "outputs": [
    {
     "data": {
      "text/plain": [
       "[<matplotlib.lines.Line2D at 0x7f1c510b1210>]"
      ]
     },
     "execution_count": 16,
     "metadata": {},
     "output_type": "execute_result"
    },
    {
     "data": {
      "image/png": "[encoded data removed]",
      "text/plain": [
       "<Figure size 432x288 with 1 Axes>"
      ]
     },
     "metadata": {
      "needs_background": "light"
     },
     "output_type": "display_data"
    }
   ],
   "source": [
    "plot(decomposed.resid.index, decomposed.resid.num_orders)"
   ]
  },
  {
   "cell_type": "code",
   "execution_count": 17,
   "metadata": {
    "id": "DAZ0N40SptL-"
   },
   "outputs": [],
   "source": [
    "day_df['num_orders'] = day_df - day_df.shift()\n",
    "day_df['mean'] = day_df['num_orders'].rolling(15).mean()\n",
    "day_df['std'] = day_df['num_orders'].rolling(15).std()"
   ]
  },
  {
   "cell_type": "code",
   "execution_count": 18,
   "metadata": {
    "colab": {
     "base_uri": "https://localhost:8080/",
     "height": 308
    },
    "id": "6MtKZLWLvvZL",
    "outputId": "c66c2b8c-001e-449e-9457-6d55eb137221"
   },
   "outputs": [
    {
     "data": {
      "text/plain": [
       "<matplotlib.axes._subplots.AxesSubplot at 0x7f1c5106f610>"
      ]
     },
     "execution_count": 18,
     "metadata": {},
     "output_type": "execute_result"
    },
    {
     "data": {
      "image/png": "[encoded data removed]",
      "text/plain": [
       "<Figure size 432x288 with 1 Axes>"
      ]
     },
     "metadata": {
      "needs_background": "light"
     },
     "output_type": "display_data"
    }
   ],
   "source": [
    "day_df.plot()"
   ]
  },
  {
   "cell_type": "code",
   "execution_count": 19,
   "metadata": {
    "id": "MUpYt1uOv_MT"
   },
   "outputs": [],
   "source": [
    "day_df = df.resample('1d').mean()"
   ]
  },
  {
   "cell_type": "markdown",
   "metadata": {
    "id": "UWSew6VYy_vZ"
   },
   "source": [
    "## Обучение моделей"
   ]
  },
  {
   "cell_type": "code",
   "execution_count": 20,
   "metadata": {
    "id": "aG-wKOLsIq89"
   },
   "outputs": [],
   "source": [
    "hour_df = df.resample('1h').sum()"
   ]
  },
  {
   "cell_type": "markdown",
   "metadata": {
    "id": "M1qeZN6hBcjD"
   },
   "source": [
    "Сгенерируем больше признаков для обучения:"
   ]
  },
  {
   "cell_type": "code",
   "execution_count": 21,
   "metadata": {
    "id": "4J4rWmalzCAA"
   },
   "outputs": [],
   "source": [
    "def make_features(data, max_lag,rolling_size):\n",
    "    data['year'] = data.index.year\n",
    "    data['month'] = data.index.month\n",
    "    data['day'] = data.index.day\n",
    "    data['dayofweek'] = data.index.dayofweek\n",
    "\n",
    "    for lag in range(1, max_lag + 1):\n",
    "        data['lag_{}'.format(lag)] = data['num_orders'].shift(lag)\n",
    "    data['rolling_mean'] = data['num_orders'].shift().rolling(rolling_size).mean()\n",
    "\n"
   ]
  },
  {
   "cell_type": "code",
   "execution_count": 22,
   "metadata": {
    "id": "p9KU-3ck2crJ"
   },
   "outputs": [],
   "source": [
    "make_features(hour_df, 25, 2)"
   ]
  },
  {
   "cell_type": "code",
   "execution_count": 23,
   "metadata": {
    "id": "QblmFSeg61bS"
   },
   "outputs": [],
   "source": [
    "hour_df = hour_df.dropna()"
   ]
  },
  {
   "cell_type": "code",
   "execution_count": 24,
   "metadata": {
    "id": "hrysfeNS4eHN"
   },
   "outputs": [],
   "source": [
    "y = hour_df['num_orders']\n",
    "X = hour_df.drop(columns=['num_orders'])\n",
    "X_train, X_test, y_train, y_test = train_test_split(X,y,test_size = 0.1, shuffle = False)\n"
   ]
  },
  {
   "cell_type": "code",
   "execution_count": 25,
   "metadata": {
    "id": "M5bhA3TF4eD6"
   },
   "outputs": [],
   "source": [
    "result_dict = {}"
   ]
  },
  {
   "cell_type": "markdown",
   "metadata": {
    "id": "LOS4h3GTB5Wi"
   },
   "source": [
    "### Baseline. LinearRegression"
   ]
  },
  {
   "cell_type": "code",
   "execution_count": 26,
   "metadata": {
    "colab": {
     "base_uri": "https://localhost:8080/"
    },
    "id": "9epkL3RY2eKR",
    "outputId": "d38dc34a-d495-4cb4-c932-f6db79e40337"
   },
   "outputs": [
    {
     "name": "stdout",
     "output_type": "stream",
     "text": [
      "LinearRegression : 45.68738572668911\n"
     ]
    }
   ],
   "source": [
    "model_name = 'LinearRegression'\n",
    "model = LinearRegression().fit(X_train, y_train)\n",
    "predictions = model.predict(X_test)\n",
    "result_dict[model_name] = mean_squared_error(y_test, predictions)**0.5\n",
    "print(f'{model_name} : {result_dict[model_name]}')"
   ]
  },
  {
   "cell_type": "markdown",
   "metadata": {
    "id": "Ml9aMw4W7tly"
   },
   "source": [
    "### DecisionTreeRegressor"
   ]
  },
  {
   "cell_type": "code",
   "execution_count": 27,
   "metadata": {
    "id": "KPSVhemh3Y7M"
   },
   "outputs": [],
   "source": [
    "from sklearn.tree import DecisionTreeRegressor\n",
    "from sklearn.model_selection import GridSearchCV,TimeSeriesSplit"
   ]
  },
  {
   "cell_type": "code",
   "execution_count": 28,
   "metadata": {},
   "outputs": [],
   "source": [
    "def fit_predict_result(X_train,y_train,X_test,model, params,n_splits):\n",
    "    grd = GridSearchCV(model, params, scoring = 'neg_mean_squared_error',cv=TimeSeriesSplit(n_splits=n_splits))\n",
    "    grd.fit(X_train, y_train)\n",
    "    model = grd.best_estimator_\n",
    "    predictions = model.predict(X_test)\n",
    "    result_dict[model_name] = mean_squared_error(y_test, predictions)**0.5\n",
    "    return predictions"
   ]
  },
  {
   "cell_type": "code",
   "execution_count": 29,
   "metadata": {
    "colab": {
     "base_uri": "https://localhost:8080/"
    },
    "id": "p4G5yEVV8BTx",
    "outputId": "f567396c-356f-45c7-9635-8995ddc09e6f"
   },
   "outputs": [
    {
     "name": "stdout",
     "output_type": "stream",
     "text": [
      "DecisionTreeRegressor : 49.24845108723241\n",
      "CPU times: user 17.3 s, sys: 18.7 ms, total: 17.3 s\n",
      "Wall time: 17.4 s\n"
     ]
    },
    {
     "data": {
      "text/plain": [
       "49.24845108723241"
      ]
     },
     "execution_count": 29,
     "metadata": {},
     "output_type": "execute_result"
    }
   ],
   "source": [
    "%%time\n",
    "model_name = 'DecisionTreeRegressor'\n",
    "params = {'max_depth' : range(10,30,4), 'min_samples_split' : range(20,80,10), 'min_samples_leaf' : range(4,20,4), 'random_state' : [42]}\n",
    "fit_predict_result(X_train,y_train,X_test,DecisionTreeRegressor(), params,4)\n",
    "print(f'{model_name} : {result_dict[model_name]}')\n",
    "result_dict[model_name]"
   ]
  },
  {
   "cell_type": "markdown",
   "metadata": {
    "id": "cjhE902YAqCl"
   },
   "source": [
    "### RandomForestRegressor"
   ]
  },
  {
   "cell_type": "code",
   "execution_count": 30,
   "metadata": {
    "id": "36EGH653_g3W"
   },
   "outputs": [],
   "source": [
    "from sklearn.ensemble import RandomForestRegressor"
   ]
  },
  {
   "cell_type": "code",
   "execution_count": 31,
   "metadata": {
    "colab": {
     "base_uri": "https://localhost:8080/"
    },
    "id": "deb0k7VdAu4P",
    "outputId": "217248a3-cdd0-4ed5-848b-e11443849a96"
   },
   "outputs": [
    {
     "name": "stdout",
     "output_type": "stream",
     "text": [
      "RandomForestTreeRegressor : 45.68738572668911\n",
      "CPU times: user 6min 5s, sys: 478 ms, total: 6min 5s\n",
      "Wall time: 6min 9s\n"
     ]
    }
   ],
   "source": [
    "%%time\n",
    "model_name = 'RandomForestTreeRegressor'\n",
    "params = { 'max_depth' : range(6,15,3), 'min_samples_split' : range(4,11,3), 'min_samples_leaf' : range(2,11,2), 'random_state' : [42], 'n_estimators' : [100]}\n",
    "fit_predict_result(X_train,y_train,X_test,RandomForestRegressor(), params,4)\n",
    "\n",
    "result_dict[model_name] = mean_squared_error(y_test, predictions)**0.5\n",
    "print(f'{model_name} : {result_dict[model_name]}')\n"
   ]
  },
  {
   "cell_type": "markdown",
   "metadata": {
    "id": "pbQbc5UeBqVY"
   },
   "source": [
    "### LGBM"
   ]
  },
  {
   "cell_type": "code",
   "execution_count": 33,
   "metadata": {
    "id": "YRdY3d1hAJ8X"
   },
   "outputs": [],
   "source": [
    "from lightgbm import LGBMRegressor"
   ]
  },
  {
   "cell_type": "code",
   "execution_count": 34,
   "metadata": {
    "colab": {
     "base_uri": "https://localhost:8080/"
    },
    "id": "dksRkTJYa1j0",
    "outputId": "efaf0745-428e-4fee-d150-ca9bf5993470"
   },
   "outputs": [
    {
     "name": "stdout",
     "output_type": "stream",
     "text": [
      "41.28939497214491\n",
      "CPU times: user 13min 17s, sys: 4.89 s, total: 13min 22s\n",
      "Wall time: 13min 27s\n"
     ]
    }
   ],
   "source": [
    "%%time\n",
    "model_name = 'LGBMRegressor'\n",
    "params = {'boosting_type': ['gbdt'], 'max_depth' : range(20,50,10), 'random_state' : [42], 'n_estimators' : [200],'reg_alpha':[0.01,0.1],'reg_lambda':[0.5,0.8]}\n",
    "predictions = fit_predict_result(X_train,y_train,X_test,LGBMRegressor(), params,4)\n",
    "\n",
    "print(result_dict[model_name])"
   ]
  },
  {
   "cell_type": "code",
   "execution_count": 36,
   "metadata": {},
   "outputs": [
    {
     "data": {
      "text/html": [
       "<div>\n",
       "<style scoped>\n",
       "    .dataframe tbody tr th:only-of-type {\n",
       "        vertical-align: middle;\n",
       "    }\n",
       "\n",
       "    .dataframe tbody tr th {\n",
       "        vertical-align: top;\n",
       "    }\n",
       "\n",
       "    .dataframe thead th {\n",
       "        text-align: right;\n",
       "    }\n",
       "</style>\n",
       "<table border=\"1\" class=\"dataframe\">\n",
       "  <thead>\n",
       "    <tr style=\"text-align: right;\">\n",
       "      <th></th>\n",
       "      <th>rmse</th>\n",
       "    </tr>\n",
       "  </thead>\n",
       "  <tbody>\n",
       "    <tr>\n",
       "      <td>LinearRegression</td>\n",
       "      <td>45.687386</td>\n",
       "    </tr>\n",
       "    <tr>\n",
       "      <td>DecisionTreeRegressor</td>\n",
       "      <td>49.248451</td>\n",
       "    </tr>\n",
       "    <tr>\n",
       "      <td>RandomForestTreeRegressor</td>\n",
       "      <td>45.687386</td>\n",
       "    </tr>\n",
       "    <tr>\n",
       "      <td>LGBMRegressor</td>\n",
       "      <td>41.289395</td>\n",
       "    </tr>\n",
       "  </tbody>\n",
       "</table>\n",
       "</div>"
      ],
      "text/plain": [
       "                                rmse\n",
       "LinearRegression           45.687386\n",
       "DecisionTreeRegressor      49.248451\n",
       "RandomForestTreeRegressor  45.687386\n",
       "LGBMRegressor              41.289395"
      ]
     },
     "execution_count": 36,
     "metadata": {},
     "output_type": "execute_result"
    }
   ],
   "source": [
    "result_df = pd.DataFrame(data =result_dict.values(), columns = ['rmse'], index = result_dict.keys() )\n",
    "result_df"
   ]
  },
  {
   "cell_type": "code",
   "execution_count": 37,
   "metadata": {
    "colab": {
     "base_uri": "https://localhost:8080/",
     "height": 335
    },
    "id": "7bHRSj3hFR4v",
    "outputId": "208c9bae-4eb2-4ae6-a925-9e2929fde847"
   },
   "outputs": [
    {
     "data": {
      "text/plain": [
       "<matplotlib.axes._subplots.AxesSubplot at 0x7f1c44c8ea10>"
      ]
     },
     "execution_count": 37,
     "metadata": {},
     "output_type": "execute_result"
    },
    {
     "data": {
      "text/plain": [
       "<Figure size 15000x10000 with 0 Axes>"
      ]
     },
     "metadata": {},
     "output_type": "display_data"
    },
    {
     "data": {
      "image/png": "[encoded data removed]",
      "text/plain": [
       "<Figure size 432x288 with 1 Axes>"
      ]
     },
     "metadata": {
      "needs_background": "light"
     },
     "output_type": "display_data"
    }
   ],
   "source": [
    "from matplotlib.pyplot import figure\n",
    "figure(figsize=(150, 100), dpi=100)\n",
    "result_df.plot()"
   ]
  },
  {
   "cell_type": "code",
   "execution_count": 39,
   "metadata": {
    "colab": {
     "base_uri": "https://localhost:8080/"
    },
    "id": "7Wabyt28k31R",
    "outputId": "803fadbb-572b-492a-e0df-8c2a5aa7e7c9"
   },
   "outputs": [
    {
     "data": {
      "text/plain": [
       "{'LinearRegression': 45.68738572668911,\n",
       " 'DecisionTreeRegressor': 49.24845108723241,\n",
       " 'RandomForestTreeRegressor': 45.68738572668911,\n",
       " 'LGBMRegressor': 41.28939497214491}"
      ]
     },
     "execution_count": 39,
     "metadata": {},
     "output_type": "execute_result"
    }
   ],
   "source": [
    "result_dict"
   ]
  },
  {
   "cell_type": "code",
   "execution_count": 40,
   "metadata": {
    "colab": {
     "base_uri": "https://localhost:8080/",
     "height": 170
    },
    "id": "UwHxRDSRwvDV",
    "outputId": "bab2f489-b742-46f5-f03d-33e3c93b0177"
   },
   "outputs": [
    {
     "data": {
      "text/html": [
       "<div>\n",
       "<style scoped>\n",
       "    .dataframe tbody tr th:only-of-type {\n",
       "        vertical-align: middle;\n",
       "    }\n",
       "\n",
       "    .dataframe tbody tr th {\n",
       "        vertical-align: top;\n",
       "    }\n",
       "\n",
       "    .dataframe thead th {\n",
       "        text-align: right;\n",
       "    }\n",
       "</style>\n",
       "<table border=\"1\" class=\"dataframe\">\n",
       "  <thead>\n",
       "    <tr style=\"text-align: right;\">\n",
       "      <th></th>\n",
       "      <th>rmse</th>\n",
       "    </tr>\n",
       "  </thead>\n",
       "  <tbody>\n",
       "    <tr>\n",
       "      <td>LGBMRegressor</td>\n",
       "      <td>41.289395</td>\n",
       "    </tr>\n",
       "    <tr>\n",
       "      <td>LinearRegression</td>\n",
       "      <td>45.687386</td>\n",
       "    </tr>\n",
       "    <tr>\n",
       "      <td>RandomForestTreeRegressor</td>\n",
       "      <td>45.687386</td>\n",
       "    </tr>\n",
       "    <tr>\n",
       "      <td>DecisionTreeRegressor</td>\n",
       "      <td>49.248451</td>\n",
       "    </tr>\n",
       "  </tbody>\n",
       "</table>\n",
       "</div>"
      ],
      "text/plain": [
       "                                rmse\n",
       "LGBMRegressor              41.289395\n",
       "LinearRegression           45.687386\n",
       "RandomForestTreeRegressor  45.687386\n",
       "DecisionTreeRegressor      49.248451"
      ]
     },
     "execution_count": 40,
     "metadata": {},
     "output_type": "execute_result"
    }
   ],
   "source": [
    "pd.DataFrame(result_dict.values(), result_dict.keys(), ['rmse']).sort_values('rmse')"
   ]
  },
  {
   "cell_type": "markdown",
   "metadata": {
    "id": "P1X7edmo2RIR"
   },
   "source": [
    "**Вывод:**\n",
    "\n",
    "Наименьшее значение RMSE получилось при использовании модель lighGBM"
   ]
  },
  {
   "cell_type": "code",
   "execution_count": null,
   "metadata": {},
   "outputs": [],
   "source": []
  }
 ],
 "metadata": {
  "ExecuteTimeLog": [
   {
    "duration": 1525,
    "start_time": "2021-06-09T20:20:40.816Z"
   },
   {
    "duration": 71,
    "start_time": "2021-06-09T20:20:42.344Z"
   },
   {
    "duration": 18,
    "start_time": "2021-06-09T20:20:42.418Z"
   },
   {
    "duration": 9,
    "start_time": "2021-06-09T20:20:42.438Z"
   },
   {
    "duration": 6,
    "start_time": "2021-06-09T20:20:42.450Z"
   },
   {
    "duration": 51,
    "start_time": "2021-06-09T20:20:42.458Z"
   },
   {
    "duration": 12,
    "start_time": "2021-06-09T20:20:42.511Z"
   },
   {
    "duration": 330,
    "start_time": "2021-06-09T20:20:42.525Z"
   },
   {
    "duration": 9,
    "start_time": "2021-06-09T20:20:42.858Z"
   },
   {
    "duration": 13,
    "start_time": "2021-06-09T20:20:42.870Z"
   },
   {
    "duration": 334,
    "start_time": "2021-06-09T20:20:42.886Z"
   },
   {
    "duration": 288,
    "start_time": "2021-06-09T20:20:43.223Z"
   },
   {
    "duration": 278,
    "start_time": "2021-06-09T20:21:10.897Z"
   },
   {
    "duration": 1453,
    "start_time": "2021-06-10T06:02:42.075Z"
   },
   {
    "duration": 179,
    "start_time": "2021-06-10T06:02:43.531Z"
   },
   {
    "duration": 17,
    "start_time": "2021-06-10T06:02:43.713Z"
   },
   {
    "duration": 13,
    "start_time": "2021-06-10T06:02:43.732Z"
   },
   {
    "duration": 5,
    "start_time": "2021-06-10T06:02:44.890Z"
   },
   {
    "duration": 5,
    "start_time": "2021-06-10T06:02:45.243Z"
   },
   {
    "duration": 12,
    "start_time": "2021-06-10T06:02:45.929Z"
   },
   {
    "duration": 296,
    "start_time": "2021-06-10T06:02:46.089Z"
   },
   {
    "duration": 10,
    "start_time": "2021-06-10T06:02:47.089Z"
   },
   {
    "duration": 12,
    "start_time": "2021-06-10T06:02:47.243Z"
   },
   {
    "duration": 13,
    "start_time": "2021-06-10T06:03:00.900Z"
   },
   {
    "duration": 286,
    "start_time": "2021-06-10T06:03:04.858Z"
   },
   {
    "duration": 267,
    "start_time": "2021-06-10T06:03:38.723Z"
   },
   {
    "duration": 245,
    "start_time": "2021-06-10T06:12:21.533Z"
   },
   {
    "duration": 271,
    "start_time": "2021-06-10T06:12:22.084Z"
   },
   {
    "duration": 266,
    "start_time": "2021-06-10T06:12:23.326Z"
   },
   {
    "duration": 18,
    "start_time": "2021-06-10T06:12:24.508Z"
   },
   {
    "duration": 432,
    "start_time": "2021-06-10T06:12:24.971Z"
   },
   {
    "duration": 6,
    "start_time": "2021-06-10T06:15:33.221Z"
   },
   {
    "duration": 11,
    "start_time": "2021-06-10T06:15:37.974Z"
   },
   {
    "duration": 6,
    "start_time": "2021-06-10T06:15:40.901Z"
   },
   {
    "duration": 7,
    "start_time": "2021-06-10T06:28:09.534Z"
   },
   {
    "duration": 8,
    "start_time": "2021-06-10T06:28:09.772Z"
   },
   {
    "duration": 4,
    "start_time": "2021-06-10T06:28:10.323Z"
   },
   {
    "duration": 110,
    "start_time": "2021-06-10T06:28:15.070Z"
   },
   {
    "duration": 11,
    "start_time": "2021-06-10T06:28:15.473Z"
   },
   {
    "duration": 10,
    "start_time": "2021-06-10T06:28:15.628Z"
   },
   {
    "duration": 4,
    "start_time": "2021-06-10T06:28:16.132Z"
   },
   {
    "duration": 154,
    "start_time": "2021-06-10T06:28:18.748Z"
   },
   {
    "duration": 378,
    "start_time": "2021-06-10T06:31:51.567Z"
   },
   {
    "duration": 22,
    "start_time": "2021-06-10T06:31:55.270Z"
   },
   {
    "duration": 255,
    "start_time": "2021-06-10T06:31:55.637Z"
   },
   {
    "duration": 4,
    "start_time": "2021-06-10T06:32:12.383Z"
   },
   {
    "duration": 34384,
    "start_time": "2021-06-10T06:32:12.765Z"
   },
   {
    "duration": 16963,
    "start_time": "2021-06-10T06:33:03.658Z"
   },
   {
    "duration": 14260,
    "start_time": "2021-06-10T06:33:25.782Z"
   },
   {
    "duration": 20979,
    "start_time": "2021-06-10T06:33:44.871Z"
   },
   {
    "duration": 13792,
    "start_time": "2021-06-10T06:35:21.473Z"
   },
   {
    "duration": 6,
    "start_time": "2021-06-10T06:36:40.974Z"
   },
   {
    "duration": 6,
    "start_time": "2021-06-10T06:36:56.489Z"
   },
   {
    "duration": 16736,
    "start_time": "2021-06-10T06:37:15.178Z"
   },
   {
    "duration": 5,
    "start_time": "2021-06-10T06:37:37.735Z"
   },
   {
    "duration": 7,
    "start_time": "2021-06-10T06:37:41.872Z"
   },
   {
    "duration": 260,
    "start_time": "2021-06-10T06:39:51.464Z"
   },
   {
    "duration": 12,
    "start_time": "2021-06-10T06:39:54.609Z"
   },
   {
    "duration": 193,
    "start_time": "2021-06-10T06:40:02.680Z"
   },
   {
    "duration": 237,
    "start_time": "2021-06-10T06:54:08.193Z"
   },
   {
    "duration": 194,
    "start_time": "2021-06-10T06:55:00.595Z"
   },
   {
    "duration": 194,
    "start_time": "2021-06-10T06:55:26.649Z"
   },
   {
    "duration": 3244,
    "start_time": "2021-06-10T06:55:28.008Z"
   },
   {
    "duration": 188,
    "start_time": "2021-06-10T06:55:38.617Z"
   },
   {
    "duration": 351363,
    "start_time": "2021-06-10T06:55:41.842Z"
   },
   {
    "duration": 174,
    "start_time": "2021-06-10T07:04:42.946Z"
   },
   {
    "duration": 16611,
    "start_time": "2021-06-10T07:04:59.916Z"
   },
   {
    "duration": 5,
    "start_time": "2021-06-10T07:05:57.136Z"
   },
   {
    "duration": 18,
    "start_time": "2021-06-10T07:06:23.733Z"
   },
   {
    "duration": 652995,
    "start_time": "2021-06-10T07:06:24.227Z"
   },
   {
    "duration": 6,
    "start_time": "2021-06-10T07:27:01.267Z"
   },
   {
    "duration": 16968,
    "start_time": "2021-06-10T07:27:56.237Z"
   },
   {
    "duration": 344689,
    "start_time": "2021-06-10T07:29:15.717Z"
   },
   {
    "duration": 1181179,
    "start_time": "2021-06-10T07:36:15.840Z"
   },
   {
    "duration": 389550,
    "start_time": "2021-06-10T07:56:02.467Z"
   },
   {
    "duration": 5,
    "start_time": "2021-06-10T08:04:11.449Z"
   },
   {
    "duration": 294,
    "start_time": "2021-06-10T08:04:40.042Z"
   },
   {
    "duration": 302,
    "start_time": "2021-06-10T08:04:42.357Z"
   },
   {
    "duration": 278,
    "start_time": "2021-06-10T08:04:45.861Z"
   },
   {
    "duration": 282,
    "start_time": "2021-06-10T08:05:05.237Z"
   },
   {
    "duration": 5,
    "start_time": "2021-06-10T08:09:38.076Z"
   },
   {
    "duration": 11,
    "start_time": "2021-06-10T08:09:46.242Z"
   },
   {
    "duration": 260,
    "start_time": "2021-06-10T08:09:50.183Z"
   },
   {
    "duration": 11,
    "start_time": "2021-06-10T08:11:02.216Z"
   },
   {
    "duration": 5,
    "start_time": "2021-06-10T08:22:29.094Z"
   },
   {
    "duration": 6,
    "start_time": "2021-06-10T08:22:38.531Z"
   },
   {
    "duration": 19357,
    "start_time": "2021-06-10T08:22:39.078Z"
   },
   {
    "duration": 782,
    "start_time": "2021-06-10T08:22:57.656Z"
   },
   {
    "duration": 780,
    "start_time": "2021-06-10T08:22:57.660Z"
   },
   {
    "duration": 416551,
    "start_time": "2021-06-10T08:23:04.444Z"
   },
   {
    "duration": 5,
    "start_time": "2021-06-10T08:35:35.164Z"
   },
   {
    "duration": 140647,
    "start_time": "2021-06-10T08:35:41.354Z"
   },
   {
    "duration": 1467,
    "start_time": "2021-08-30T11:26:15.334Z"
   },
   {
    "duration": 140,
    "start_time": "2021-08-30T11:26:16.803Z"
   },
   {
    "duration": 20,
    "start_time": "2021-08-30T11:26:16.946Z"
   },
   {
    "duration": 16,
    "start_time": "2021-08-30T11:26:16.969Z"
   },
   {
    "duration": 25,
    "start_time": "2021-08-30T11:26:16.987Z"
   },
   {
    "duration": 21,
    "start_time": "2021-08-30T11:26:17.015Z"
   },
   {
    "duration": 13,
    "start_time": "2021-08-30T11:26:17.756Z"
   },
   {
    "duration": 321,
    "start_time": "2021-08-30T11:26:17.964Z"
   },
   {
    "duration": 11,
    "start_time": "2021-08-30T11:26:19.256Z"
   },
   {
    "duration": 30,
    "start_time": "2021-08-30T11:26:20.161Z"
   },
   {
    "duration": 300,
    "start_time": "2021-08-30T11:26:22.067Z"
   },
   {
    "duration": 15,
    "start_time": "2021-08-30T11:27:22.796Z"
   },
   {
    "duration": 4,
    "start_time": "2021-08-30T11:28:01.866Z"
   },
   {
    "duration": 119,
    "start_time": "2021-08-30T11:28:01.873Z"
   },
   {
    "duration": 13,
    "start_time": "2021-08-30T11:28:01.996Z"
   },
   {
    "duration": 26,
    "start_time": "2021-08-30T11:28:02.012Z"
   },
   {
    "duration": 30,
    "start_time": "2021-08-30T11:28:02.040Z"
   },
   {
    "duration": 18,
    "start_time": "2021-08-30T11:28:02.073Z"
   },
   {
    "duration": 28,
    "start_time": "2021-08-30T11:28:02.093Z"
   },
   {
    "duration": 317,
    "start_time": "2021-08-30T11:28:02.123Z"
   },
   {
    "duration": 15,
    "start_time": "2021-08-30T11:28:02.444Z"
   },
   {
    "duration": 27,
    "start_time": "2021-08-30T11:28:02.468Z"
   },
   {
    "duration": 41,
    "start_time": "2021-08-30T11:28:02.497Z"
   },
   {
    "duration": 322,
    "start_time": "2021-08-30T11:28:02.541Z"
   },
   {
    "duration": 303,
    "start_time": "2021-08-30T11:28:02.866Z"
   },
   {
    "duration": 298,
    "start_time": "2021-08-30T11:28:03.171Z"
   },
   {
    "duration": 351,
    "start_time": "2021-08-30T11:28:03.472Z"
   },
   {
    "duration": 281,
    "start_time": "2021-08-30T11:28:03.826Z"
   },
   {
    "duration": 16,
    "start_time": "2021-08-30T11:28:04.109Z"
   },
   {
    "duration": 489,
    "start_time": "2021-08-30T11:28:04.128Z"
   },
   {
    "duration": 10,
    "start_time": "2021-08-30T11:28:04.621Z"
   },
   {
    "duration": 31,
    "start_time": "2021-08-30T11:28:04.634Z"
   },
   {
    "duration": 12,
    "start_time": "2021-08-30T11:28:04.668Z"
   },
   {
    "duration": 46,
    "start_time": "2021-08-30T11:28:04.683Z"
   },
   {
    "duration": 9,
    "start_time": "2021-08-30T11:28:04.732Z"
   },
   {
    "duration": 13,
    "start_time": "2021-08-30T11:28:04.756Z"
   },
   {
    "duration": 4,
    "start_time": "2021-08-30T11:28:04.771Z"
   },
   {
    "duration": 178,
    "start_time": "2021-08-30T11:28:04.778Z"
   },
   {
    "duration": 24,
    "start_time": "2021-08-30T11:28:04.964Z"
   },
   {
    "duration": 5,
    "start_time": "2021-08-30T11:28:04.991Z"
   },
   {
    "duration": 1495,
    "start_time": "2021-08-30T11:28:23.924Z"
   },
   {
    "duration": 110,
    "start_time": "2021-08-30T11:28:25.422Z"
   },
   {
    "duration": 20,
    "start_time": "2021-08-30T11:28:25.535Z"
   },
   {
    "duration": 11,
    "start_time": "2021-08-30T11:28:25.558Z"
   },
   {
    "duration": 5,
    "start_time": "2021-08-30T11:28:25.571Z"
   },
   {
    "duration": 12,
    "start_time": "2021-08-30T11:28:25.578Z"
   },
   {
    "duration": 31,
    "start_time": "2021-08-30T11:28:25.592Z"
   },
   {
    "duration": 332,
    "start_time": "2021-08-30T11:28:25.625Z"
   },
   {
    "duration": 10,
    "start_time": "2021-08-30T11:28:25.969Z"
   },
   {
    "duration": 26,
    "start_time": "2021-08-30T11:28:25.982Z"
   },
   {
    "duration": 42,
    "start_time": "2021-08-30T11:28:26.010Z"
   },
   {
    "duration": 316,
    "start_time": "2021-08-30T11:28:26.057Z"
   },
   {
    "duration": 300,
    "start_time": "2021-08-30T11:28:26.375Z"
   },
   {
    "duration": 291,
    "start_time": "2021-08-30T11:28:26.677Z"
   },
   {
    "duration": 307,
    "start_time": "2021-08-30T11:28:26.970Z"
   },
   {
    "duration": 288,
    "start_time": "2021-08-30T11:28:27.279Z"
   },
   {
    "duration": 16,
    "start_time": "2021-08-30T11:28:27.570Z"
   },
   {
    "duration": 570,
    "start_time": "2021-08-30T11:28:27.589Z"
   },
   {
    "duration": 10,
    "start_time": "2021-08-30T11:28:28.161Z"
   },
   {
    "duration": 14,
    "start_time": "2021-08-30T11:28:28.173Z"
   },
   {
    "duration": 6,
    "start_time": "2021-08-30T11:28:28.190Z"
   },
   {
    "duration": 70,
    "start_time": "2021-08-30T11:28:28.199Z"
   },
   {
    "duration": 12,
    "start_time": "2021-08-30T11:28:28.272Z"
   },
   {
    "duration": 11,
    "start_time": "2021-08-30T11:28:28.286Z"
   },
   {
    "duration": 7,
    "start_time": "2021-08-30T11:28:28.300Z"
   },
   {
    "duration": 151,
    "start_time": "2021-08-30T11:28:28.310Z"
   },
   {
    "duration": 95,
    "start_time": "2021-08-30T11:28:28.467Z"
   },
   {
    "duration": 5,
    "start_time": "2021-08-30T11:28:28.565Z"
   },
   {
    "duration": 17394,
    "start_time": "2021-08-30T11:28:28.572Z"
   },
   {
    "duration": 14,
    "start_time": "2021-08-30T11:28:45.969Z"
   },
   {
    "duration": 369195,
    "start_time": "2021-08-30T11:28:45.986Z"
   },
   {
    "duration": 415,
    "start_time": "2021-08-30T11:34:55.184Z"
   },
   {
    "duration": -36,
    "start_time": "2021-08-30T11:34:55.638Z"
   },
   {
    "duration": -36,
    "start_time": "2021-08-30T11:34:55.640Z"
   },
   {
    "duration": -37,
    "start_time": "2021-08-30T11:34:55.642Z"
   },
   {
    "duration": -45,
    "start_time": "2021-08-30T11:34:55.652Z"
   },
   {
    "duration": -46,
    "start_time": "2021-08-30T11:34:55.654Z"
   },
   {
    "duration": -46,
    "start_time": "2021-08-30T11:34:55.656Z"
   },
   {
    "duration": -46,
    "start_time": "2021-08-30T11:34:55.658Z"
   },
   {
    "duration": 19,
    "start_time": "2021-08-30T11:35:04.291Z"
   },
   {
    "duration": 807215,
    "start_time": "2021-08-30T11:35:04.948Z"
   },
   {
    "duration": 301,
    "start_time": "2021-08-30T11:48:32.168Z"
   },
   {
    "duration": -94,
    "start_time": "2021-08-30T11:48:32.566Z"
   },
   {
    "duration": 11,
    "start_time": "2021-08-30T11:49:00.113Z"
   },
   {
    "duration": 289,
    "start_time": "2021-08-30T11:49:01.065Z"
   },
   {
    "duration": 5,
    "start_time": "2021-08-30T11:49:08.421Z"
   },
   {
    "duration": 12,
    "start_time": "2021-08-30T11:49:09.560Z"
   },
   {
    "duration": 10,
    "start_time": "2021-08-30T11:49:09.822Z"
   }
  ],
  "colab": {
   "collapsed_sections": [],
   "name": "taxi.ipynb",
   "provenance": []
  },
  "kernelspec": {
   "display_name": "Python 3",
   "language": "python",
   "name": "python3"
  },
  "language_info": {
   "codemirror_mode": {
    "name": "ipython",
    "version": 3
   },
   "file_extension": ".py",
   "mimetype": "text/x-python",
   "name": "python",
   "nbconvert_exporter": "python",
   "pygments_lexer": "ipython3",
   "version": "3.7.8"
  },
  "toc": {
   "base_numbering": 1,
   "nav_menu": {},
   "number_sections": true,
   "sideBar": true,
   "skip_h1_title": true,
   "title_cell": "Table of Contents",
   "title_sidebar": "Contents",
   "toc_cell": false,
   "toc_position": {},
   "toc_section_display": true,
   "toc_window_display": false
  }
 },
 "nbformat": 4,
 "nbformat_minor": 1
}
