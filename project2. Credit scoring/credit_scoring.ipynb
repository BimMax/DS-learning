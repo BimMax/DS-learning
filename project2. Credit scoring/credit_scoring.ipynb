{
 "cells": [
  {
   "cell_type": "markdown",
   "metadata": {
    "id": "d3OXWwGuxh82"
   },
   "source": [
    "Название проекта: Исследование надёжности заёмщиков\n",
    "\n",
    "Заказчик: Кредитный отдел банка\n",
    "\n",
    "Цели проекта: \n",
    "- Установить влияние семейного положения и количества детей клиента банка на факт погашения кредита в срок\n",
    "- Построить модель для предсказания надежности заемщика\n"
   ]
  },
  {
   "cell_type": "code",
   "execution_count": 1,
   "metadata": {
    "id": "xCg_r2ekxh83"
   },
   "outputs": [],
   "source": [
    "import pandas as pd"
   ]
  },
  {
   "cell_type": "markdown",
   "metadata": {
    "id": "hQUfi-Rpxh83"
   },
   "source": [
    "### 1. Открытие файла и изучение данных. "
   ]
  },
  {
   "cell_type": "code",
   "execution_count": 2,
   "metadata": {
    "id": "VDhcEok6xh84"
   },
   "outputs": [],
   "source": [
    "bank_data = pd.read_csv('https://code.s3.yandex.net/datasets/data.csv')"
   ]
  },
  {
   "cell_type": "markdown",
   "metadata": {
    "id": "SpqXaJ2Bxh84"
   },
   "source": [
    "Получим информацию о количестве и типе данных:"
   ]
  },
  {
   "cell_type": "markdown",
   "metadata": {
    "id": "SKcgOGJdxh85"
   },
   "source": [
    "Просмотри и оценим данные визуально:"
   ]
  },
  {
   "cell_type": "code",
   "execution_count": 3,
   "metadata": {
    "colab": {
     "base_uri": "https://localhost:8080/",
     "height": 343
    },
    "id": "HeNtxb_Cxh85",
    "outputId": "85d5a710-ef91-4d65-cf8b-3fa6da39e0ab"
   },
   "outputs": [
    {
     "data": {
      "text/html": [
       "<div>\n",
       "<style scoped>\n",
       "    .dataframe tbody tr th:only-of-type {\n",
       "        vertical-align: middle;\n",
       "    }\n",
       "\n",
       "    .dataframe tbody tr th {\n",
       "        vertical-align: top;\n",
       "    }\n",
       "\n",
       "    .dataframe thead th {\n",
       "        text-align: right;\n",
       "    }\n",
       "</style>\n",
       "<table border=\"1\" class=\"dataframe\">\n",
       "  <thead>\n",
       "    <tr style=\"text-align: right;\">\n",
       "      <th></th>\n",
       "      <th>children</th>\n",
       "      <th>days_employed</th>\n",
       "      <th>dob_years</th>\n",
       "      <th>education</th>\n",
       "      <th>education_id</th>\n",
       "      <th>family_status</th>\n",
       "      <th>family_status_id</th>\n",
       "      <th>gender</th>\n",
       "      <th>income_type</th>\n",
       "      <th>debt</th>\n",
       "      <th>total_income</th>\n",
       "      <th>purpose</th>\n",
       "    </tr>\n",
       "  </thead>\n",
       "  <tbody>\n",
       "    <tr>\n",
       "      <th>0</th>\n",
       "      <td>1</td>\n",
       "      <td>-8437.673028</td>\n",
       "      <td>42</td>\n",
       "      <td>высшее</td>\n",
       "      <td>0</td>\n",
       "      <td>женат / замужем</td>\n",
       "      <td>0</td>\n",
       "      <td>F</td>\n",
       "      <td>сотрудник</td>\n",
       "      <td>0</td>\n",
       "      <td>253875.639453</td>\n",
       "      <td>покупка жилья</td>\n",
       "    </tr>\n",
       "    <tr>\n",
       "      <th>1</th>\n",
       "      <td>1</td>\n",
       "      <td>-4024.803754</td>\n",
       "      <td>36</td>\n",
       "      <td>среднее</td>\n",
       "      <td>1</td>\n",
       "      <td>женат / замужем</td>\n",
       "      <td>0</td>\n",
       "      <td>F</td>\n",
       "      <td>сотрудник</td>\n",
       "      <td>0</td>\n",
       "      <td>112080.014102</td>\n",
       "      <td>приобретение автомобиля</td>\n",
       "    </tr>\n",
       "    <tr>\n",
       "      <th>2</th>\n",
       "      <td>0</td>\n",
       "      <td>-5623.422610</td>\n",
       "      <td>33</td>\n",
       "      <td>Среднее</td>\n",
       "      <td>1</td>\n",
       "      <td>женат / замужем</td>\n",
       "      <td>0</td>\n",
       "      <td>M</td>\n",
       "      <td>сотрудник</td>\n",
       "      <td>0</td>\n",
       "      <td>145885.952297</td>\n",
       "      <td>покупка жилья</td>\n",
       "    </tr>\n",
       "    <tr>\n",
       "      <th>3</th>\n",
       "      <td>3</td>\n",
       "      <td>-4124.747207</td>\n",
       "      <td>32</td>\n",
       "      <td>среднее</td>\n",
       "      <td>1</td>\n",
       "      <td>женат / замужем</td>\n",
       "      <td>0</td>\n",
       "      <td>M</td>\n",
       "      <td>сотрудник</td>\n",
       "      <td>0</td>\n",
       "      <td>267628.550329</td>\n",
       "      <td>дополнительное образование</td>\n",
       "    </tr>\n",
       "    <tr>\n",
       "      <th>4</th>\n",
       "      <td>0</td>\n",
       "      <td>340266.072047</td>\n",
       "      <td>53</td>\n",
       "      <td>среднее</td>\n",
       "      <td>1</td>\n",
       "      <td>гражданский брак</td>\n",
       "      <td>1</td>\n",
       "      <td>F</td>\n",
       "      <td>пенсионер</td>\n",
       "      <td>0</td>\n",
       "      <td>158616.077870</td>\n",
       "      <td>сыграть свадьбу</td>\n",
       "    </tr>\n",
       "    <tr>\n",
       "      <th>5</th>\n",
       "      <td>0</td>\n",
       "      <td>-926.185831</td>\n",
       "      <td>27</td>\n",
       "      <td>высшее</td>\n",
       "      <td>0</td>\n",
       "      <td>гражданский брак</td>\n",
       "      <td>1</td>\n",
       "      <td>M</td>\n",
       "      <td>компаньон</td>\n",
       "      <td>0</td>\n",
       "      <td>255763.565419</td>\n",
       "      <td>покупка жилья</td>\n",
       "    </tr>\n",
       "    <tr>\n",
       "      <th>6</th>\n",
       "      <td>0</td>\n",
       "      <td>-2879.202052</td>\n",
       "      <td>43</td>\n",
       "      <td>высшее</td>\n",
       "      <td>0</td>\n",
       "      <td>женат / замужем</td>\n",
       "      <td>0</td>\n",
       "      <td>F</td>\n",
       "      <td>компаньон</td>\n",
       "      <td>0</td>\n",
       "      <td>240525.971920</td>\n",
       "      <td>операции с жильем</td>\n",
       "    </tr>\n",
       "    <tr>\n",
       "      <th>7</th>\n",
       "      <td>0</td>\n",
       "      <td>-152.779569</td>\n",
       "      <td>50</td>\n",
       "      <td>СРЕДНЕЕ</td>\n",
       "      <td>1</td>\n",
       "      <td>женат / замужем</td>\n",
       "      <td>0</td>\n",
       "      <td>M</td>\n",
       "      <td>сотрудник</td>\n",
       "      <td>0</td>\n",
       "      <td>135823.934197</td>\n",
       "      <td>образование</td>\n",
       "    </tr>\n",
       "    <tr>\n",
       "      <th>8</th>\n",
       "      <td>2</td>\n",
       "      <td>-6929.865299</td>\n",
       "      <td>35</td>\n",
       "      <td>ВЫСШЕЕ</td>\n",
       "      <td>0</td>\n",
       "      <td>гражданский брак</td>\n",
       "      <td>1</td>\n",
       "      <td>F</td>\n",
       "      <td>сотрудник</td>\n",
       "      <td>0</td>\n",
       "      <td>95856.832424</td>\n",
       "      <td>на проведение свадьбы</td>\n",
       "    </tr>\n",
       "    <tr>\n",
       "      <th>9</th>\n",
       "      <td>0</td>\n",
       "      <td>-2188.756445</td>\n",
       "      <td>41</td>\n",
       "      <td>среднее</td>\n",
       "      <td>1</td>\n",
       "      <td>женат / замужем</td>\n",
       "      <td>0</td>\n",
       "      <td>M</td>\n",
       "      <td>сотрудник</td>\n",
       "      <td>0</td>\n",
       "      <td>144425.938277</td>\n",
       "      <td>покупка жилья для семьи</td>\n",
       "    </tr>\n",
       "  </tbody>\n",
       "</table>\n",
       "</div>"
      ],
      "text/plain": [
       "   children  days_employed  dob_years education  education_id  \\\n",
       "0         1   -8437.673028         42    высшее             0   \n",
       "1         1   -4024.803754         36   среднее             1   \n",
       "2         0   -5623.422610         33   Среднее             1   \n",
       "3         3   -4124.747207         32   среднее             1   \n",
       "4         0  340266.072047         53   среднее             1   \n",
       "5         0    -926.185831         27    высшее             0   \n",
       "6         0   -2879.202052         43    высшее             0   \n",
       "7         0    -152.779569         50   СРЕДНЕЕ             1   \n",
       "8         2   -6929.865299         35    ВЫСШЕЕ             0   \n",
       "9         0   -2188.756445         41   среднее             1   \n",
       "\n",
       "      family_status  family_status_id gender income_type  debt   total_income  \\\n",
       "0   женат / замужем                 0      F   сотрудник     0  253875.639453   \n",
       "1   женат / замужем                 0      F   сотрудник     0  112080.014102   \n",
       "2   женат / замужем                 0      M   сотрудник     0  145885.952297   \n",
       "3   женат / замужем                 0      M   сотрудник     0  267628.550329   \n",
       "4  гражданский брак                 1      F   пенсионер     0  158616.077870   \n",
       "5  гражданский брак                 1      M   компаньон     0  255763.565419   \n",
       "6   женат / замужем                 0      F   компаньон     0  240525.971920   \n",
       "7   женат / замужем                 0      M   сотрудник     0  135823.934197   \n",
       "8  гражданский брак                 1      F   сотрудник     0   95856.832424   \n",
       "9   женат / замужем                 0      M   сотрудник     0  144425.938277   \n",
       "\n",
       "                      purpose  \n",
       "0               покупка жилья  \n",
       "1     приобретение автомобиля  \n",
       "2               покупка жилья  \n",
       "3  дополнительное образование  \n",
       "4             сыграть свадьбу  \n",
       "5               покупка жилья  \n",
       "6           операции с жильем  \n",
       "7                 образование  \n",
       "8       на проведение свадьбы  \n",
       "9     покупка жилья для семьи  "
      ]
     },
     "execution_count": 3,
     "metadata": {},
     "output_type": "execute_result"
    }
   ],
   "source": [
    "bank_data.head(10)"
   ]
  },
  {
   "cell_type": "code",
   "execution_count": 4,
   "metadata": {
    "colab": {
     "base_uri": "https://localhost:8080/",
     "height": 410
    },
    "id": "X552KU3eyUny",
    "outputId": "34bf298d-d42f-40cc-b6fb-89a2c3ceb98c"
   },
   "outputs": [
    {
     "data": {
      "text/html": [
       "<div>\n",
       "<style scoped>\n",
       "    .dataframe tbody tr th:only-of-type {\n",
       "        vertical-align: middle;\n",
       "    }\n",
       "\n",
       "    .dataframe tbody tr th {\n",
       "        vertical-align: top;\n",
       "    }\n",
       "\n",
       "    .dataframe thead th {\n",
       "        text-align: right;\n",
       "    }\n",
       "</style>\n",
       "<table border=\"1\" class=\"dataframe\">\n",
       "  <thead>\n",
       "    <tr style=\"text-align: right;\">\n",
       "      <th></th>\n",
       "      <th>children</th>\n",
       "      <th>days_employed</th>\n",
       "      <th>dob_years</th>\n",
       "      <th>education</th>\n",
       "      <th>education_id</th>\n",
       "      <th>family_status</th>\n",
       "      <th>family_status_id</th>\n",
       "      <th>gender</th>\n",
       "      <th>income_type</th>\n",
       "      <th>debt</th>\n",
       "      <th>total_income</th>\n",
       "      <th>purpose</th>\n",
       "    </tr>\n",
       "  </thead>\n",
       "  <tbody>\n",
       "    <tr>\n",
       "      <th>21515</th>\n",
       "      <td>1</td>\n",
       "      <td>-467.685130</td>\n",
       "      <td>28</td>\n",
       "      <td>среднее</td>\n",
       "      <td>1</td>\n",
       "      <td>женат / замужем</td>\n",
       "      <td>0</td>\n",
       "      <td>F</td>\n",
       "      <td>сотрудник</td>\n",
       "      <td>1</td>\n",
       "      <td>109486.327999</td>\n",
       "      <td>заняться образованием</td>\n",
       "    </tr>\n",
       "    <tr>\n",
       "      <th>21516</th>\n",
       "      <td>0</td>\n",
       "      <td>-914.391429</td>\n",
       "      <td>42</td>\n",
       "      <td>высшее</td>\n",
       "      <td>0</td>\n",
       "      <td>женат / замужем</td>\n",
       "      <td>0</td>\n",
       "      <td>F</td>\n",
       "      <td>компаньон</td>\n",
       "      <td>0</td>\n",
       "      <td>322807.776603</td>\n",
       "      <td>покупка своего жилья</td>\n",
       "    </tr>\n",
       "    <tr>\n",
       "      <th>21517</th>\n",
       "      <td>0</td>\n",
       "      <td>-404.679034</td>\n",
       "      <td>42</td>\n",
       "      <td>высшее</td>\n",
       "      <td>0</td>\n",
       "      <td>гражданский брак</td>\n",
       "      <td>1</td>\n",
       "      <td>F</td>\n",
       "      <td>компаньон</td>\n",
       "      <td>0</td>\n",
       "      <td>178059.553491</td>\n",
       "      <td>на покупку своего автомобиля</td>\n",
       "    </tr>\n",
       "    <tr>\n",
       "      <th>21518</th>\n",
       "      <td>0</td>\n",
       "      <td>373995.710838</td>\n",
       "      <td>59</td>\n",
       "      <td>СРЕДНЕЕ</td>\n",
       "      <td>1</td>\n",
       "      <td>женат / замужем</td>\n",
       "      <td>0</td>\n",
       "      <td>F</td>\n",
       "      <td>пенсионер</td>\n",
       "      <td>0</td>\n",
       "      <td>153864.650328</td>\n",
       "      <td>сделка с автомобилем</td>\n",
       "    </tr>\n",
       "    <tr>\n",
       "      <th>21519</th>\n",
       "      <td>1</td>\n",
       "      <td>-2351.431934</td>\n",
       "      <td>37</td>\n",
       "      <td>ученая степень</td>\n",
       "      <td>4</td>\n",
       "      <td>в разводе</td>\n",
       "      <td>3</td>\n",
       "      <td>M</td>\n",
       "      <td>сотрудник</td>\n",
       "      <td>0</td>\n",
       "      <td>115949.039788</td>\n",
       "      <td>покупка коммерческой недвижимости</td>\n",
       "    </tr>\n",
       "    <tr>\n",
       "      <th>21520</th>\n",
       "      <td>1</td>\n",
       "      <td>-4529.316663</td>\n",
       "      <td>43</td>\n",
       "      <td>среднее</td>\n",
       "      <td>1</td>\n",
       "      <td>гражданский брак</td>\n",
       "      <td>1</td>\n",
       "      <td>F</td>\n",
       "      <td>компаньон</td>\n",
       "      <td>0</td>\n",
       "      <td>224791.862382</td>\n",
       "      <td>операции с жильем</td>\n",
       "    </tr>\n",
       "    <tr>\n",
       "      <th>21521</th>\n",
       "      <td>0</td>\n",
       "      <td>343937.404131</td>\n",
       "      <td>67</td>\n",
       "      <td>среднее</td>\n",
       "      <td>1</td>\n",
       "      <td>женат / замужем</td>\n",
       "      <td>0</td>\n",
       "      <td>F</td>\n",
       "      <td>пенсионер</td>\n",
       "      <td>0</td>\n",
       "      <td>155999.806512</td>\n",
       "      <td>сделка с автомобилем</td>\n",
       "    </tr>\n",
       "    <tr>\n",
       "      <th>21522</th>\n",
       "      <td>1</td>\n",
       "      <td>-2113.346888</td>\n",
       "      <td>38</td>\n",
       "      <td>среднее</td>\n",
       "      <td>1</td>\n",
       "      <td>гражданский брак</td>\n",
       "      <td>1</td>\n",
       "      <td>M</td>\n",
       "      <td>сотрудник</td>\n",
       "      <td>1</td>\n",
       "      <td>89672.561153</td>\n",
       "      <td>недвижимость</td>\n",
       "    </tr>\n",
       "    <tr>\n",
       "      <th>21523</th>\n",
       "      <td>3</td>\n",
       "      <td>-3112.481705</td>\n",
       "      <td>38</td>\n",
       "      <td>среднее</td>\n",
       "      <td>1</td>\n",
       "      <td>женат / замужем</td>\n",
       "      <td>0</td>\n",
       "      <td>M</td>\n",
       "      <td>сотрудник</td>\n",
       "      <td>1</td>\n",
       "      <td>244093.050500</td>\n",
       "      <td>на покупку своего автомобиля</td>\n",
       "    </tr>\n",
       "    <tr>\n",
       "      <th>21524</th>\n",
       "      <td>2</td>\n",
       "      <td>-1984.507589</td>\n",
       "      <td>40</td>\n",
       "      <td>среднее</td>\n",
       "      <td>1</td>\n",
       "      <td>женат / замужем</td>\n",
       "      <td>0</td>\n",
       "      <td>F</td>\n",
       "      <td>сотрудник</td>\n",
       "      <td>0</td>\n",
       "      <td>82047.418899</td>\n",
       "      <td>на покупку автомобиля</td>\n",
       "    </tr>\n",
       "  </tbody>\n",
       "</table>\n",
       "</div>"
      ],
      "text/plain": [
       "       children  days_employed  dob_years       education  education_id  \\\n",
       "21515         1    -467.685130         28         среднее             1   \n",
       "21516         0    -914.391429         42          высшее             0   \n",
       "21517         0    -404.679034         42          высшее             0   \n",
       "21518         0  373995.710838         59         СРЕДНЕЕ             1   \n",
       "21519         1   -2351.431934         37  ученая степень             4   \n",
       "21520         1   -4529.316663         43         среднее             1   \n",
       "21521         0  343937.404131         67         среднее             1   \n",
       "21522         1   -2113.346888         38         среднее             1   \n",
       "21523         3   -3112.481705         38         среднее             1   \n",
       "21524         2   -1984.507589         40         среднее             1   \n",
       "\n",
       "          family_status  family_status_id gender income_type  debt  \\\n",
       "21515   женат / замужем                 0      F   сотрудник     1   \n",
       "21516   женат / замужем                 0      F   компаньон     0   \n",
       "21517  гражданский брак                 1      F   компаньон     0   \n",
       "21518   женат / замужем                 0      F   пенсионер     0   \n",
       "21519         в разводе                 3      M   сотрудник     0   \n",
       "21520  гражданский брак                 1      F   компаньон     0   \n",
       "21521   женат / замужем                 0      F   пенсионер     0   \n",
       "21522  гражданский брак                 1      M   сотрудник     1   \n",
       "21523   женат / замужем                 0      M   сотрудник     1   \n",
       "21524   женат / замужем                 0      F   сотрудник     0   \n",
       "\n",
       "        total_income                            purpose  \n",
       "21515  109486.327999              заняться образованием  \n",
       "21516  322807.776603               покупка своего жилья  \n",
       "21517  178059.553491       на покупку своего автомобиля  \n",
       "21518  153864.650328               сделка с автомобилем  \n",
       "21519  115949.039788  покупка коммерческой недвижимости  \n",
       "21520  224791.862382                  операции с жильем  \n",
       "21521  155999.806512               сделка с автомобилем  \n",
       "21522   89672.561153                       недвижимость  \n",
       "21523  244093.050500       на покупку своего автомобиля  \n",
       "21524   82047.418899              на покупку автомобиля  "
      ]
     },
     "execution_count": 4,
     "metadata": {},
     "output_type": "execute_result"
    }
   ],
   "source": [
    "bank_data.tail(10)"
   ]
  },
  {
   "cell_type": "code",
   "execution_count": 5,
   "metadata": {
    "colab": {
     "base_uri": "https://localhost:8080/",
     "height": 343
    },
    "id": "zOTNTGzpyXr_",
    "outputId": "d0949eff-de3b-4824-c75c-527236e92ac8"
   },
   "outputs": [
    {
     "data": {
      "text/html": [
       "<div>\n",
       "<style scoped>\n",
       "    .dataframe tbody tr th:only-of-type {\n",
       "        vertical-align: middle;\n",
       "    }\n",
       "\n",
       "    .dataframe tbody tr th {\n",
       "        vertical-align: top;\n",
       "    }\n",
       "\n",
       "    .dataframe thead th {\n",
       "        text-align: right;\n",
       "    }\n",
       "</style>\n",
       "<table border=\"1\" class=\"dataframe\">\n",
       "  <thead>\n",
       "    <tr style=\"text-align: right;\">\n",
       "      <th></th>\n",
       "      <th>children</th>\n",
       "      <th>days_employed</th>\n",
       "      <th>dob_years</th>\n",
       "      <th>education</th>\n",
       "      <th>education_id</th>\n",
       "      <th>family_status</th>\n",
       "      <th>family_status_id</th>\n",
       "      <th>gender</th>\n",
       "      <th>income_type</th>\n",
       "      <th>debt</th>\n",
       "      <th>total_income</th>\n",
       "      <th>purpose</th>\n",
       "    </tr>\n",
       "  </thead>\n",
       "  <tbody>\n",
       "    <tr>\n",
       "      <th>423</th>\n",
       "      <td>0</td>\n",
       "      <td>-191.167760</td>\n",
       "      <td>56</td>\n",
       "      <td>среднее</td>\n",
       "      <td>1</td>\n",
       "      <td>женат / замужем</td>\n",
       "      <td>0</td>\n",
       "      <td>M</td>\n",
       "      <td>сотрудник</td>\n",
       "      <td>0</td>\n",
       "      <td>138653.748793</td>\n",
       "      <td>автомобили</td>\n",
       "    </tr>\n",
       "    <tr>\n",
       "      <th>3522</th>\n",
       "      <td>0</td>\n",
       "      <td>-2319.817259</td>\n",
       "      <td>58</td>\n",
       "      <td>среднее</td>\n",
       "      <td>1</td>\n",
       "      <td>Не женат / не замужем</td>\n",
       "      <td>4</td>\n",
       "      <td>F</td>\n",
       "      <td>сотрудник</td>\n",
       "      <td>0</td>\n",
       "      <td>123152.627177</td>\n",
       "      <td>покупка жилья</td>\n",
       "    </tr>\n",
       "    <tr>\n",
       "      <th>8760</th>\n",
       "      <td>1</td>\n",
       "      <td>-2990.578297</td>\n",
       "      <td>34</td>\n",
       "      <td>высшее</td>\n",
       "      <td>0</td>\n",
       "      <td>гражданский брак</td>\n",
       "      <td>1</td>\n",
       "      <td>M</td>\n",
       "      <td>компаньон</td>\n",
       "      <td>0</td>\n",
       "      <td>232380.737167</td>\n",
       "      <td>свадьба</td>\n",
       "    </tr>\n",
       "    <tr>\n",
       "      <th>20695</th>\n",
       "      <td>0</td>\n",
       "      <td>-926.209452</td>\n",
       "      <td>28</td>\n",
       "      <td>среднее</td>\n",
       "      <td>1</td>\n",
       "      <td>Не женат / не замужем</td>\n",
       "      <td>4</td>\n",
       "      <td>F</td>\n",
       "      <td>сотрудник</td>\n",
       "      <td>0</td>\n",
       "      <td>210617.086601</td>\n",
       "      <td>получение высшего образования</td>\n",
       "    </tr>\n",
       "    <tr>\n",
       "      <th>4351</th>\n",
       "      <td>0</td>\n",
       "      <td>-2524.302106</td>\n",
       "      <td>42</td>\n",
       "      <td>СРЕДНЕЕ</td>\n",
       "      <td>1</td>\n",
       "      <td>женат / замужем</td>\n",
       "      <td>0</td>\n",
       "      <td>F</td>\n",
       "      <td>сотрудник</td>\n",
       "      <td>0</td>\n",
       "      <td>78487.540219</td>\n",
       "      <td>сделка с автомобилем</td>\n",
       "    </tr>\n",
       "    <tr>\n",
       "      <th>3002</th>\n",
       "      <td>0</td>\n",
       "      <td>NaN</td>\n",
       "      <td>28</td>\n",
       "      <td>высшее</td>\n",
       "      <td>0</td>\n",
       "      <td>женат / замужем</td>\n",
       "      <td>0</td>\n",
       "      <td>M</td>\n",
       "      <td>компаньон</td>\n",
       "      <td>0</td>\n",
       "      <td>NaN</td>\n",
       "      <td>покупка жилой недвижимости</td>\n",
       "    </tr>\n",
       "    <tr>\n",
       "      <th>17306</th>\n",
       "      <td>0</td>\n",
       "      <td>-5000.830630</td>\n",
       "      <td>0</td>\n",
       "      <td>среднее</td>\n",
       "      <td>1</td>\n",
       "      <td>гражданский брак</td>\n",
       "      <td>1</td>\n",
       "      <td>F</td>\n",
       "      <td>компаньон</td>\n",
       "      <td>0</td>\n",
       "      <td>83019.106740</td>\n",
       "      <td>свадьба</td>\n",
       "    </tr>\n",
       "    <tr>\n",
       "      <th>2830</th>\n",
       "      <td>0</td>\n",
       "      <td>-574.995923</td>\n",
       "      <td>40</td>\n",
       "      <td>среднее</td>\n",
       "      <td>1</td>\n",
       "      <td>женат / замужем</td>\n",
       "      <td>0</td>\n",
       "      <td>F</td>\n",
       "      <td>сотрудник</td>\n",
       "      <td>0</td>\n",
       "      <td>161158.806308</td>\n",
       "      <td>автомобили</td>\n",
       "    </tr>\n",
       "    <tr>\n",
       "      <th>14822</th>\n",
       "      <td>2</td>\n",
       "      <td>NaN</td>\n",
       "      <td>33</td>\n",
       "      <td>среднее</td>\n",
       "      <td>1</td>\n",
       "      <td>женат / замужем</td>\n",
       "      <td>0</td>\n",
       "      <td>F</td>\n",
       "      <td>сотрудник</td>\n",
       "      <td>0</td>\n",
       "      <td>NaN</td>\n",
       "      <td>заняться образованием</td>\n",
       "    </tr>\n",
       "    <tr>\n",
       "      <th>10347</th>\n",
       "      <td>1</td>\n",
       "      <td>-713.140231</td>\n",
       "      <td>48</td>\n",
       "      <td>среднее</td>\n",
       "      <td>1</td>\n",
       "      <td>женат / замужем</td>\n",
       "      <td>0</td>\n",
       "      <td>M</td>\n",
       "      <td>компаньон</td>\n",
       "      <td>0</td>\n",
       "      <td>177474.885995</td>\n",
       "      <td>ремонт жилью</td>\n",
       "    </tr>\n",
       "  </tbody>\n",
       "</table>\n",
       "</div>"
      ],
      "text/plain": [
       "       children  days_employed  dob_years education  education_id  \\\n",
       "423           0    -191.167760         56   среднее             1   \n",
       "3522          0   -2319.817259         58   среднее             1   \n",
       "8760          1   -2990.578297         34    высшее             0   \n",
       "20695         0    -926.209452         28   среднее             1   \n",
       "4351          0   -2524.302106         42   СРЕДНЕЕ             1   \n",
       "3002          0            NaN         28    высшее             0   \n",
       "17306         0   -5000.830630          0   среднее             1   \n",
       "2830          0    -574.995923         40   среднее             1   \n",
       "14822         2            NaN         33   среднее             1   \n",
       "10347         1    -713.140231         48   среднее             1   \n",
       "\n",
       "               family_status  family_status_id gender income_type  debt  \\\n",
       "423          женат / замужем                 0      M   сотрудник     0   \n",
       "3522   Не женат / не замужем                 4      F   сотрудник     0   \n",
       "8760        гражданский брак                 1      M   компаньон     0   \n",
       "20695  Не женат / не замужем                 4      F   сотрудник     0   \n",
       "4351         женат / замужем                 0      F   сотрудник     0   \n",
       "3002         женат / замужем                 0      M   компаньон     0   \n",
       "17306       гражданский брак                 1      F   компаньон     0   \n",
       "2830         женат / замужем                 0      F   сотрудник     0   \n",
       "14822        женат / замужем                 0      F   сотрудник     0   \n",
       "10347        женат / замужем                 0      M   компаньон     0   \n",
       "\n",
       "        total_income                        purpose  \n",
       "423    138653.748793                     автомобили  \n",
       "3522   123152.627177                  покупка жилья  \n",
       "8760   232380.737167                        свадьба  \n",
       "20695  210617.086601  получение высшего образования  \n",
       "4351    78487.540219           сделка с автомобилем  \n",
       "3002             NaN     покупка жилой недвижимости  \n",
       "17306   83019.106740                        свадьба  \n",
       "2830   161158.806308                     автомобили  \n",
       "14822            NaN          заняться образованием  \n",
       "10347  177474.885995                   ремонт жилью  "
      ]
     },
     "execution_count": 5,
     "metadata": {},
     "output_type": "execute_result"
    }
   ],
   "source": [
    "bank_data.sample(10, random_state = 42)"
   ]
  },
  {
   "cell_type": "code",
   "execution_count": 6,
   "metadata": {
    "colab": {
     "base_uri": "https://localhost:8080/"
    },
    "id": "ntz8H2Z4xh84",
    "outputId": "da0f6676-e27f-4906-a88f-6bb20b3c22d6"
   },
   "outputs": [
    {
     "name": "stdout",
     "output_type": "stream",
     "text": [
      "<class 'pandas.core.frame.DataFrame'>\n",
      "RangeIndex: 21525 entries, 0 to 21524\n",
      "Data columns (total 12 columns):\n",
      " #   Column            Non-Null Count  Dtype  \n",
      "---  ------            --------------  -----  \n",
      " 0   children          21525 non-null  int64  \n",
      " 1   days_employed     19351 non-null  float64\n",
      " 2   dob_years         21525 non-null  int64  \n",
      " 3   education         21525 non-null  object \n",
      " 4   education_id      21525 non-null  int64  \n",
      " 5   family_status     21525 non-null  object \n",
      " 6   family_status_id  21525 non-null  int64  \n",
      " 7   gender            21525 non-null  object \n",
      " 8   income_type       21525 non-null  object \n",
      " 9   debt              21525 non-null  int64  \n",
      " 10  total_income      19351 non-null  float64\n",
      " 11  purpose           21525 non-null  object \n",
      "dtypes: float64(2), int64(5), object(5)\n",
      "memory usage: 2.0+ MB\n"
     ]
    }
   ],
   "source": [
    "bank_data.info()"
   ]
  },
  {
   "cell_type": "markdown",
   "metadata": {
    "id": "t6t-a3vtyfej"
   },
   "source": [
    "Посмотрев на данные можем отметить наличие пропусков в данных, отрицательных значений, в параметрах, где не должно быть значений меньше 0, а так же написание одного значения признака в различных регистрах, что будет мешать анализу."
   ]
  },
  {
   "cell_type": "markdown",
   "metadata": {
    "id": "CNerPxmRxh86"
   },
   "source": [
    "### 2. Предобработка данных"
   ]
  },
  {
   "cell_type": "markdown",
   "metadata": {
    "id": "Il0uMW8Vxh86"
   },
   "source": [
    "#### 2.1.Заполнение пропущенных значений:"
   ]
  },
  {
   "cell_type": "code",
   "execution_count": 7,
   "metadata": {
    "colab": {
     "base_uri": "https://localhost:8080/"
    },
    "id": "36tH8rDexh87",
    "outputId": "7e71fb74-6036-4bcf-e5ae-c6001101bbd6"
   },
   "outputs": [
    {
     "data": {
      "text/plain": [
       "children               0\n",
       "days_employed       2174\n",
       "dob_years              0\n",
       "education              0\n",
       "education_id           0\n",
       "family_status          0\n",
       "family_status_id       0\n",
       "gender                 0\n",
       "income_type            0\n",
       "debt                   0\n",
       "total_income        2174\n",
       "purpose                0\n",
       "dtype: int64"
      ]
     },
     "execution_count": 7,
     "metadata": {},
     "output_type": "execute_result"
    }
   ],
   "source": [
    "bank_data.isnull().sum()"
   ]
  },
  {
   "cell_type": "markdown",
   "metadata": {
    "id": "dsOJMsTPxh87"
   },
   "source": [
    "Видим одинаковое количество пропусков для двух признаков. Проверим соотвествуют ли эти пропуски одним объектам или разным.\n"
   ]
  },
  {
   "cell_type": "code",
   "execution_count": 8,
   "metadata": {
    "colab": {
     "base_uri": "https://localhost:8080/"
    },
    "id": "5nFTk_NDxh87",
    "outputId": "bec04963-8419-4b1f-baec-b24fb9fa559d"
   },
   "outputs": [
    {
     "data": {
      "text/plain": [
       "children            2174\n",
       "days_employed          0\n",
       "dob_years           2174\n",
       "education           2174\n",
       "education_id        2174\n",
       "family_status       2174\n",
       "family_status_id    2174\n",
       "gender              2174\n",
       "income_type         2174\n",
       "debt                2174\n",
       "total_income           0\n",
       "purpose             2174\n",
       "dtype: int64"
      ]
     },
     "execution_count": 8,
     "metadata": {},
     "output_type": "execute_result"
    }
   ],
   "source": [
    "bank_data[(bank_data['days_employed'].isnull()==True)&(bank_data['total_income'].isnull()==True)].count()"
   ]
  },
  {
   "cell_type": "markdown",
   "metadata": {
    "id": "Do3flEe9xh88"
   },
   "source": [
    "**Вывод:**\n",
    "\n",
    "Ячейки с пропусками: общий трудовой стаж в днях *days_employed* и ежемесячный доход *total_income* относятся к одним и тем же клиентам.\n",
    "\n",
    "Далее заменим пропуски в столбце *total_income* медианным значениями в зависимости от типа занятости *income_type*.\n",
    "Пропуски в столбце *days_employed* заменим медианным значением в зависисмости от возраста человека.\n",
    "\n",
    "Для этого значения общего трудового стажа в днях *days_employed* возьмем по модулю. Так как количество дней не может быть отрицательным, а анализируя зависимость трудовых дней от возраста мы можем сделать вывод, что -(минус) - это опечатка. \n",
    "\n",
    "Для удобства работы с данными в дальнейшем - получим словари. \n",
    "\n",
    "Получим среднее значение трудового стажа в зависимости от возраста клиента. Возраст - ключ словаря, количество дней - значение по данному ключу.\n",
    "\n",
    "Получим среднее значение зароботка в зависимости от типа занятости. Тип занятости - ключ словаря, доход - значение по данному ключу."
   ]
  },
  {
   "cell_type": "markdown",
   "metadata": {
    "id": "7n_zFxo5xh88"
   },
   "source": [
    "##### 2.1.2 Замена пропущенных значений"
   ]
  },
  {
   "cell_type": "code",
   "execution_count": 9,
   "metadata": {
    "id": "tFF2Cwq4xh88"
   },
   "outputs": [],
   "source": [
    "bank_data['days_employed'] = abs(bank_data['days_employed'])\n",
    "mean_days_dict = bank_data.groupby('dob_years')['days_employed'].median().to_dict()\n",
    "mean_total_income_dict = bank_data.groupby('income_type')['total_income'].median().to_dict()"
   ]
  },
  {
   "cell_type": "code",
   "execution_count": 10,
   "metadata": {
    "id": "oZpQ6quqxh88",
    "scrolled": true
   },
   "outputs": [],
   "source": [
    "#Заполнение пропусков в столбцах days_employed и total_income\n",
    "unique_income_type = bank_data['income_type'].unique()\n",
    "unique_days_employed = bank_data['dob_years'].unique()\n",
    "\n",
    "for inc_type in unique_income_type:\n",
    "    bank_data.loc[bank_data['total_income'] == 0,'total_income'] =mean_total_income_dict[inc_type]\n",
    "    \n",
    "for day in unique_days_employed:\n",
    "    bank_data.loc[bank_data['days_employed'].isnull()== True,'days_employed'] = mean_days_dict[day]\n",
    "    "
   ]
  },
  {
   "cell_type": "markdown",
   "metadata": {
    "id": "ZDwYKlPCxh8-"
   },
   "source": [
    "Контроль замены пропусков:"
   ]
  },
  {
   "cell_type": "code",
   "execution_count": 11,
   "metadata": {
    "colab": {
     "base_uri": "https://localhost:8080/"
    },
    "id": "8IrFgHYgxh8-",
    "outputId": "fbbbf280-3d30-4521-e8ca-a97352ab3689"
   },
   "outputs": [
    {
     "name": "stdout",
     "output_type": "stream",
     "text": [
      "Количество пропущенных значений в столбце days_employed: 0\n",
      "Количество пропущенных значений в столбце total_income: 0\n"
     ]
    }
   ],
   "source": [
    "check_income = bank_data[bank_data['total_income'].isnull()==True]['total_income'].count()\n",
    "check_days = bank_data[bank_data['days_employed'].isnull()==True]['days_employed'].count()\n",
    "print(f'Количество пропущенных значений в столбце days_employed: {check_days}')\n",
    "print(f'Количество пропущенных значений в столбце total_income: {check_income}')"
   ]
  },
  {
   "cell_type": "markdown",
   "metadata": {
    "id": "UEyJh2GOxh8_"
   },
   "source": [
    "##### 2.1.4 Замена значений данных о количество детей"
   ]
  },
  {
   "cell_type": "markdown",
   "metadata": {
    "id": "sp4guHkDxh8_"
   },
   "source": [
    "При проверке данных о количестве детей(children) найдены 2 значения, выделющиеся из списка значений. Первое из них равно -1(минус 1) - количество детей не может быть меньше 0. Второе значение из списка, требующее внимания - 20(двадцать). Такое значение, в принципе возможно, но о том, что это скорее всего ошибка, указывает тот факт, что отстутвуют значения количества детей в инервале от 6 до 19 включительно. Далее изучим строки содержащие данные значения.\n",
    "\n",
    "Никаких визуальных зависимостей между клиентами, со значением ячейки количество детей равным -1 и 20 визуально не заметно. Можно предположить, что значение 20 получалось путем опечатки человека, который вносил данные, т.к. цифры 2 и 0 находятся рядом на дополнительном циферблате клавиатуры. А значение -1 могло получиться в случае отсутсвия данных о количестве детей.\n",
    "\n",
    "**Вывод:**\n",
    "Заменим значения -1, 20 на 0 - как медианное значение."
   ]
  },
  {
   "cell_type": "code",
   "execution_count": 12,
   "metadata": {
    "colab": {
     "base_uri": "https://localhost:8080/"
    },
    "id": "QF9vuYMhxh8_",
    "outputId": "40662096-d2c0-4fe1-dab8-86b050be52c1"
   },
   "outputs": [
    {
     "data": {
      "text/plain": [
       " 0     14149\n",
       " 1      4818\n",
       " 2      2055\n",
       " 3       330\n",
       " 20       76\n",
       "-1        47\n",
       " 4        41\n",
       " 5         9\n",
       "Name: children, dtype: int64"
      ]
     },
     "execution_count": 12,
     "metadata": {},
     "output_type": "execute_result"
    }
   ],
   "source": [
    "bank_data.children.value_counts()"
   ]
  },
  {
   "cell_type": "code",
   "execution_count": 13,
   "metadata": {
    "id": "toMbz6KYqGZY"
   },
   "outputs": [],
   "source": [
    "bank_data.loc[((bank_data['children']==-1 )|(bank_data['children']==20)),'children']=0"
   ]
  },
  {
   "cell_type": "markdown",
   "metadata": {
    "id": "QFscIlYtxh8_"
   },
   "source": [
    "##### 2.2 Приведение вещественных значений к целочисленным"
   ]
  },
  {
   "cell_type": "markdown",
   "metadata": {
    "id": "4tXd-nkLxh8_"
   },
   "source": [
    "При первоначлаьном анализе типов данных было заметно, что часть данных имеет вещественный тип:"
   ]
  },
  {
   "cell_type": "code",
   "execution_count": 14,
   "metadata": {
    "colab": {
     "base_uri": "https://localhost:8080/"
    },
    "id": "EGdINyqixh9A",
    "outputId": "bdba50f9-cc2f-46fd-d49d-c3cf1b5e12e3"
   },
   "outputs": [
    {
     "name": "stdout",
     "output_type": "stream",
     "text": [
      "<class 'pandas.core.frame.DataFrame'>\n",
      "RangeIndex: 21525 entries, 0 to 21524\n",
      "Data columns (total 12 columns):\n",
      " #   Column            Non-Null Count  Dtype  \n",
      "---  ------            --------------  -----  \n",
      " 0   children          21525 non-null  int64  \n",
      " 1   days_employed     21525 non-null  float64\n",
      " 2   dob_years         21525 non-null  int64  \n",
      " 3   education         21525 non-null  object \n",
      " 4   education_id      21525 non-null  int64  \n",
      " 5   family_status     21525 non-null  object \n",
      " 6   family_status_id  21525 non-null  int64  \n",
      " 7   gender            21525 non-null  object \n",
      " 8   income_type       21525 non-null  object \n",
      " 9   debt              21525 non-null  int64  \n",
      " 10  total_income      19351 non-null  float64\n",
      " 11  purpose           21525 non-null  object \n",
      "dtypes: float64(2), int64(5), object(5)\n",
      "memory usage: 2.0+ MB\n"
     ]
    }
   ],
   "source": [
    "bank_data.info()"
   ]
  },
  {
   "cell_type": "markdown",
   "metadata": {
    "id": "VGSETYW9xh9A"
   },
   "source": [
    "2 колонки с данными имеют вещественный тип данных float64 - это колонки *days_employed* и *total_income*. Для удобства работы заменяем значения в этих столбцах на целочисленные и проверим резульат:"
   ]
  },
  {
   "cell_type": "code",
   "execution_count": 15,
   "metadata": {
    "colab": {
     "base_uri": "https://localhost:8080/"
    },
    "id": "xmswhhPvxh9A",
    "outputId": "7f1f38d9-e941-4304-fd93-966997208912"
   },
   "outputs": [
    {
     "name": "stdout",
     "output_type": "stream",
     "text": [
      "<class 'pandas.core.frame.DataFrame'>\n",
      "RangeIndex: 21525 entries, 0 to 21524\n",
      "Data columns (total 12 columns):\n",
      " #   Column            Non-Null Count  Dtype \n",
      "---  ------            --------------  ----- \n",
      " 0   children          21525 non-null  int64 \n",
      " 1   days_employed     21525 non-null  int64 \n",
      " 2   dob_years         21525 non-null  int64 \n",
      " 3   education         21525 non-null  object\n",
      " 4   education_id      21525 non-null  int64 \n",
      " 5   family_status     21525 non-null  object\n",
      " 6   family_status_id  21525 non-null  int64 \n",
      " 7   gender            21525 non-null  object\n",
      " 8   income_type       21525 non-null  object\n",
      " 9   debt              21525 non-null  int64 \n",
      " 10  total_income      21525 non-null  int64 \n",
      " 11  purpose           21525 non-null  object\n",
      "dtypes: int64(7), object(5)\n",
      "memory usage: 2.0+ MB\n"
     ]
    }
   ],
   "source": [
    "bank_data['days_employed'] = bank_data['days_employed'].astype('int64')\n",
    "bank_data['total_income'] = bank_data['total_income'].fillna(0)\n",
    "bank_data['total_income'] = bank_data['total_income'].astype('int64')\n",
    "bank_data.info()"
   ]
  },
  {
   "cell_type": "markdown",
   "metadata": {
    "id": "1rAn_uNRxh9A"
   },
   "source": [
    "**Вывод:**\n",
    "\n",
    "Все вещественные типы в датасете заменены на целочисленные"
   ]
  },
  {
   "cell_type": "markdown",
   "metadata": {
    "id": "PzOJCDlbxh9B"
   },
   "source": [
    "#### 2.3 Поиск дубликатов и удаление дубликатов"
   ]
  },
  {
   "cell_type": "markdown",
   "metadata": {
    "id": "OSumUfLsxh9B"
   },
   "source": [
    "Возможной причиной появления дубликатов может быть некорректная работы системы банка во время внесения данных.\n",
    "\n",
    "Перед проверкой дубликатов произведем проверку регистра в данных:"
   ]
  },
  {
   "cell_type": "code",
   "execution_count": 16,
   "metadata": {
    "colab": {
     "base_uri": "https://localhost:8080/"
    },
    "id": "j_MUjsrWxh9B",
    "outputId": "dcf11906-1b9e-48cf-cdb2-ed318584c16d"
   },
   "outputs": [
    {
     "data": {
      "text/plain": [
       "среднее                13750\n",
       "высшее                  4718\n",
       "СРЕДНЕЕ                  772\n",
       "Среднее                  711\n",
       "неоконченное высшее      668\n",
       "ВЫСШЕЕ                   274\n",
       "Высшее                   268\n",
       "начальное                250\n",
       "Неоконченное высшее       47\n",
       "НЕОКОНЧЕННОЕ ВЫСШЕЕ       29\n",
       "НАЧАЛЬНОЕ                 17\n",
       "Начальное                 15\n",
       "ученая степень             4\n",
       "УЧЕНАЯ СТЕПЕНЬ             1\n",
       "Ученая степень             1\n",
       "Name: education, dtype: int64"
      ]
     },
     "execution_count": 16,
     "metadata": {},
     "output_type": "execute_result"
    }
   ],
   "source": [
    "bank_data.education.value_counts()"
   ]
  },
  {
   "cell_type": "markdown",
   "metadata": {
    "id": "F5it_C60xh9B"
   },
   "source": [
    "Видим, что значения *education* записано в разном регистре, что помешает удалить все дубликаты. Переведем все значения этого столбца в одинаковый регистр и проверим полученные данные:"
   ]
  },
  {
   "cell_type": "code",
   "execution_count": 17,
   "metadata": {
    "colab": {
     "base_uri": "https://localhost:8080/"
    },
    "id": "izxIAuwPxh9B",
    "outputId": "618dbce8-be39-468d-ccf4-14db65dd73fd"
   },
   "outputs": [
    {
     "data": {
      "text/plain": [
       "Среднее                15233\n",
       "Высшее                  5260\n",
       "Неоконченное высшее      744\n",
       "Начальное                282\n",
       "Ученая степень             6\n",
       "Name: education, dtype: int64"
      ]
     },
     "execution_count": 17,
     "metadata": {},
     "output_type": "execute_result"
    }
   ],
   "source": [
    "def My_capitaize(row):\n",
    "    \"\"\"\n",
    "    Функция делает первую букву в верхний регистр, а остальные в нижний\n",
    "    \"\"\"\n",
    "    return row.capitalize()\n",
    "\n",
    "bank_data['education'] =bank_data['education'].apply(My_capitaize)\n",
    "bank_data.education.value_counts()"
   ]
  },
  {
   "cell_type": "markdown",
   "metadata": {
    "id": "qtlvCuWsxh9C"
   },
   "source": [
    "Очистим дубликаты и проверим данные:"
   ]
  },
  {
   "cell_type": "code",
   "execution_count": 18,
   "metadata": {
    "colab": {
     "base_uri": "https://localhost:8080/"
    },
    "id": "PoZuqo9jxh9C",
    "outputId": "f705e326-43c9-4f1a-b265-fd28b2270aa1"
   },
   "outputs": [
    {
     "name": "stdout",
     "output_type": "stream",
     "text": [
      "Количество повторений до очистки от дубликатов: 71. Всего строк 21525\n"
     ]
    }
   ],
   "source": [
    "print(f'Количество повторений до очистки от дубликатов: {bank_data.duplicated().sum()}. Всего строк {bank_data.days_employed.count()}')"
   ]
  },
  {
   "cell_type": "code",
   "execution_count": 19,
   "metadata": {
    "colab": {
     "base_uri": "https://localhost:8080/"
    },
    "id": "ArJSt-22xh9C",
    "outputId": "d7ba7032-949a-4943-eed2-424f1b3987c4"
   },
   "outputs": [
    {
     "name": "stdout",
     "output_type": "stream",
     "text": [
      "Количество повторений до очистки от дубликатов: 0. Всего строк 21454\n"
     ]
    }
   ],
   "source": [
    "bank_data = bank_data.drop_duplicates()\n",
    "print(f'Количество повторений до очистки от дубликатов: {bank_data.duplicated().sum()}. Всего строк {bank_data.days_employed.count()}')"
   ]
  },
  {
   "cell_type": "markdown",
   "metadata": {
    "id": "P-bmsX2fxh9C"
   },
   "source": [
    "**Вывод:**\n",
    "\n",
    "Во время проверки данных на наличие дубликатов было обнаружено 71 одно повторение, при размере датафрейма 21525 строка. После очистки от дупликатов размер датафрейма стал 21454."
   ]
  },
  {
   "cell_type": "markdown",
   "metadata": {
    "id": "rqmgD9Ucxh9D"
   },
   "source": [
    "#### 2.4 Выделение лемм в целях получения кредита"
   ]
  },
  {
   "cell_type": "code",
   "execution_count": 20,
   "metadata": {
    "colab": {
     "base_uri": "https://localhost:8080/"
    },
    "id": "d8MG3PNYuToB",
    "outputId": "9a81c162-d719-45ec-c7fd-2d1b99b49082"
   },
   "outputs": [
    {
     "name": "stdout",
     "output_type": "stream",
     "text": [
      "Requirement already satisfied: pymystem3 in d:\\anaconda3\\lib\\site-packages (0.2.0)\n",
      "Requirement already satisfied: requests in d:\\anaconda3\\lib\\site-packages (from pymystem3) (2.25.0)\n",
      "Requirement already satisfied: certifi>=2017.4.17 in d:\\anaconda3\\lib\\site-packages (from requests->pymystem3) (2020.12.5)\n",
      "Requirement already satisfied: idna<3,>=2.5 in d:\\anaconda3\\lib\\site-packages (from requests->pymystem3) (2.10)\n",
      "Requirement already satisfied: chardet<4,>=3.0.2 in d:\\anaconda3\\lib\\site-packages (from requests->pymystem3) (3.0.4)\n",
      "Requirement already satisfied: urllib3<1.27,>=1.21.1 in d:\\anaconda3\\lib\\site-packages (from requests->pymystem3) (1.25.11)\n"
     ]
    }
   ],
   "source": [
    "!pip install pymystem3"
   ]
  },
  {
   "cell_type": "code",
   "execution_count": 21,
   "metadata": {
    "id": "rIf05Ny6xh9D"
   },
   "outputs": [],
   "source": [
    "from pymystem3 import Mystem\n",
    "from collections import Counter\n",
    "import nltk\n",
    "from nltk.stem import SnowballStemmer \n",
    "russian_stemmer = SnowballStemmer('russian')"
   ]
  },
  {
   "cell_type": "markdown",
   "metadata": {
    "id": "o2T44vajxh9D"
   },
   "source": [
    "Произведем лемматизацию значений колонки *Purpose* для выявления часто используемых слов:"
   ]
  },
  {
   "cell_type": "code",
   "execution_count": 22,
   "metadata": {
    "id": "EVwPJy75xh9D"
   },
   "outputs": [],
   "source": [
    "m = Mystem()\n",
    "bank_data.purpose.to_list()\n",
    "string_lemma = \" \".join(bank_data.purpose)"
   ]
  },
  {
   "cell_type": "code",
   "execution_count": 23,
   "metadata": {
    "colab": {
     "base_uri": "https://localhost:8080/",
     "height": 303
    },
    "id": "RAQeO9savCCN",
    "outputId": "b1bf4693-36a7-49cf-9848-9b261768d845"
   },
   "outputs": [
    {
     "data": {
      "text/plain": [
       "{'покупка': 5897,\n",
       " ' ': 55023,\n",
       " 'жилье': 4460,\n",
       " 'приобретение': 461,\n",
       " 'автомобиль': 4306,\n",
       " 'дополнительный': 906,\n",
       " 'образование': 4013,\n",
       " 'сыграть': 765,\n",
       " 'свадьба': 2324,\n",
       " 'операция': 2604,\n",
       " 'с': 2918,\n",
       " 'на': 2222,\n",
       " 'проведение': 768,\n",
       " 'для': 1289,\n",
       " 'семья': 638,\n",
       " 'недвижимость': 6351,\n",
       " 'коммерческий': 1311,\n",
       " 'жилой': 1230,\n",
       " 'строительство': 1878,\n",
       " 'собственный': 635,\n",
       " 'подержать': 853,\n",
       " 'свой': 2230,\n",
       " 'со': 627,\n",
       " 'заниматься': 904,\n",
       " 'сделка': 941,\n",
       " 'получение': 1314,\n",
       " 'высокий': 1374,\n",
       " 'подержанный': 111,\n",
       " 'профильный': 436,\n",
       " 'сдача': 651,\n",
       " 'ремонт': 607,\n",
       " '\\n': 1}"
      ]
     },
     "execution_count": 23,
     "metadata": {},
     "output_type": "execute_result"
    }
   ],
   "source": [
    "dict(Counter(m.lemmatize(string_lemma)))"
   ]
  },
  {
   "cell_type": "markdown",
   "metadata": {
    "id": "TKZhuAnpxh9D"
   },
   "source": [
    "Вывод:\n",
    "\n",
    "Из полученных данных выделим уникальные чаще встречающиеся значений. Такие как \"покупка\", \"приобретение\", \"операция\", \"с\", \"на\" встречаются часто, но они не позволяют определить категорию к которой отнести данные. Ниже в списке *lemmas* приведены значения лемм для колонки *purpose*. "
   ]
  },
  {
   "cell_type": "code",
   "execution_count": 24,
   "metadata": {
    "id": "ZD7voLyWxh9E"
   },
   "outputs": [],
   "source": [
    "lemmas = ['жилье','автомобиль','образование','недвижимость','свадьба']"
   ]
  },
  {
   "cell_type": "markdown",
   "metadata": {
    "id": "7VynP7egxh9E"
   },
   "source": [
    "Для дальнейшей работы произведем стемминг полученных значений лемм. И запишем их в словарь где ключом является результат стемминга леммы, а значением сама лемма."
   ]
  },
  {
   "cell_type": "code",
   "execution_count": 25,
   "metadata": {
    "id": "5TO7F4Z1xh9E",
    "outputId": "2e3286d5-0ce7-49c6-e173-582fae14cd35"
   },
   "outputs": [
    {
     "data": {
      "text/plain": [
       "{'жил': 'жилье',\n",
       " 'автомобил': 'автомобиль',\n",
       " 'образован': 'образование',\n",
       " 'недвижим': 'недвижимость',\n",
       " 'свадьб': 'свадьба'}"
      ]
     },
     "execution_count": 25,
     "metadata": {},
     "output_type": "execute_result"
    }
   ],
   "source": [
    "lemmas_dict = {}\n",
    "for word in lemmas:\n",
    "    stemmed_word = russian_stemmer.stem(word)\n",
    "    lemmas_dict[stemmed_word] = word\n",
    "lemmas_dict"
   ]
  },
  {
   "cell_type": "markdown",
   "metadata": {
    "id": "mkojyi-Pxh9E"
   },
   "source": [
    "Создадим и вызовем функцию для леммы категории цели получения кредита."
   ]
  },
  {
   "cell_type": "code",
   "execution_count": 26,
   "metadata": {
    "id": "yK5v37czxh9E"
   },
   "outputs": [],
   "source": [
    "russian_stemmer = SnowballStemmer('russian')\n",
    "def lem(row):\n",
    "    row_list = row.split(\" \") \n",
    "    i = 0\n",
    "    while i < len(row_list):     \n",
    "        stemmed_word = russian_stemmer.stem(row_list[i])\n",
    "        if  stemmed_word in lemmas_dict.keys():\n",
    "            if stemmed_word == 'жил' or stemmed_word == 'недвижим':\n",
    "                return 'недвижимость'\n",
    "            else:\n",
    "                return lemmas_dict[stemmed_word]\n",
    "        i+=1\n",
    "bank_data.loc[:,'lemmatized_purpose'] = bank_data.purpose.apply(lem)"
   ]
  },
  {
   "cell_type": "markdown",
   "metadata": {
    "id": "cOVxZN28xh9F"
   },
   "source": [
    "#### 2.5 Категоризация данных"
   ]
  },
  {
   "cell_type": "markdown",
   "metadata": {
    "id": "TCpJzGI5xh9F"
   },
   "source": [
    "Произведем категоризацию данных:"
   ]
  },
  {
   "cell_type": "markdown",
   "metadata": {
    "id": "STvRwM46xh9F"
   },
   "source": [
    "##### 2.5.1 Отнесем человека к группе в зависимости от заработка:"
   ]
  },
  {
   "cell_type": "code",
   "execution_count": 27,
   "metadata": {
    "id": "D5Ob0Lnfxh9F",
    "outputId": "0a2f4b0a-e98d-4845-d99c-340f9a55f18c",
    "scrolled": true
   },
   "outputs": [
    {
     "data": {
      "text/plain": [
       "высокий    10727\n",
       "низкий      5364\n",
       "средий      5363\n",
       "Name: income_level, dtype: int64"
      ]
     },
     "execution_count": 27,
     "metadata": {},
     "output_type": "execute_result"
    }
   ],
   "source": [
    "inocome_quantile = bank_data.total_income.quantile(q=[0.25,0.5,0.75]).to_dict()\n",
    "\n",
    "def set_income_level(row):\n",
    "    if int(row['total_income']) <= inocome_quantile[0.25]:\n",
    "        return 'низкий'\n",
    "    elif int(row['total_income']) > inocome_quantile[0.25] and int(row['total_income']) < inocome_quantile[0.5]:\n",
    "        return 'средий'\n",
    "    else:\n",
    "        return \"высокий\"\n",
    "bank_data['income_level'] = bank_data.apply(set_income_level, axis = 1 )\n",
    "bank_data.income_level.value_counts()"
   ]
  },
  {
   "cell_type": "markdown",
   "metadata": {
    "id": "IsjdaCTexh9G"
   },
   "source": [
    "Заменим числовые значения *dept*(наличие задолженности по возврату кредитов) на текстовые  для наглядности"
   ]
  },
  {
   "cell_type": "code",
   "execution_count": 28,
   "metadata": {
    "id": "JBqgkRQBxh9G"
   },
   "outputs": [],
   "source": [
    "def refund_result(row):\n",
    "    if row == 0:\n",
    "        return \"Возврат кредита во время\"\n",
    "    else:\n",
    "        return \"Возврат кредита не во время\"\n",
    "bank_data['debt'] = bank_data['debt'].apply(refund_result)"
   ]
  },
  {
   "cell_type": "code",
   "execution_count": 29,
   "metadata": {
    "id": "h9XEDN0-xh9G",
    "outputId": "b0b82d24-6bc5-4004-aa79-ecfbd850da47"
   },
   "outputs": [
    {
     "data": {
      "text/html": [
       "<div>\n",
       "<style scoped>\n",
       "    .dataframe tbody tr th:only-of-type {\n",
       "        vertical-align: middle;\n",
       "    }\n",
       "\n",
       "    .dataframe tbody tr th {\n",
       "        vertical-align: top;\n",
       "    }\n",
       "\n",
       "    .dataframe thead th {\n",
       "        text-align: right;\n",
       "    }\n",
       "</style>\n",
       "<table border=\"1\" class=\"dataframe\">\n",
       "  <thead>\n",
       "    <tr style=\"text-align: right;\">\n",
       "      <th></th>\n",
       "      <th>children</th>\n",
       "      <th>days_employed</th>\n",
       "      <th>dob_years</th>\n",
       "      <th>education</th>\n",
       "      <th>education_id</th>\n",
       "      <th>family_status</th>\n",
       "      <th>family_status_id</th>\n",
       "      <th>gender</th>\n",
       "      <th>income_type</th>\n",
       "      <th>debt</th>\n",
       "      <th>total_income</th>\n",
       "      <th>purpose</th>\n",
       "      <th>lemmatized_purpose</th>\n",
       "      <th>income_level</th>\n",
       "    </tr>\n",
       "  </thead>\n",
       "  <tbody>\n",
       "    <tr>\n",
       "      <th>0</th>\n",
       "      <td>1</td>\n",
       "      <td>8437</td>\n",
       "      <td>42</td>\n",
       "      <td>Высшее</td>\n",
       "      <td>0</td>\n",
       "      <td>женат / замужем</td>\n",
       "      <td>0</td>\n",
       "      <td>F</td>\n",
       "      <td>сотрудник</td>\n",
       "      <td>Возврат кредита во время</td>\n",
       "      <td>253875</td>\n",
       "      <td>покупка жилья</td>\n",
       "      <td>недвижимость</td>\n",
       "      <td>высокий</td>\n",
       "    </tr>\n",
       "    <tr>\n",
       "      <th>1</th>\n",
       "      <td>1</td>\n",
       "      <td>4024</td>\n",
       "      <td>36</td>\n",
       "      <td>Среднее</td>\n",
       "      <td>1</td>\n",
       "      <td>женат / замужем</td>\n",
       "      <td>0</td>\n",
       "      <td>F</td>\n",
       "      <td>сотрудник</td>\n",
       "      <td>Возврат кредита во время</td>\n",
       "      <td>112080</td>\n",
       "      <td>приобретение автомобиля</td>\n",
       "      <td>автомобиль</td>\n",
       "      <td>средий</td>\n",
       "    </tr>\n",
       "    <tr>\n",
       "      <th>2</th>\n",
       "      <td>0</td>\n",
       "      <td>5623</td>\n",
       "      <td>33</td>\n",
       "      <td>Среднее</td>\n",
       "      <td>1</td>\n",
       "      <td>женат / замужем</td>\n",
       "      <td>0</td>\n",
       "      <td>M</td>\n",
       "      <td>сотрудник</td>\n",
       "      <td>Возврат кредита во время</td>\n",
       "      <td>145885</td>\n",
       "      <td>покупка жилья</td>\n",
       "      <td>недвижимость</td>\n",
       "      <td>высокий</td>\n",
       "    </tr>\n",
       "    <tr>\n",
       "      <th>3</th>\n",
       "      <td>3</td>\n",
       "      <td>4124</td>\n",
       "      <td>32</td>\n",
       "      <td>Среднее</td>\n",
       "      <td>1</td>\n",
       "      <td>женат / замужем</td>\n",
       "      <td>0</td>\n",
       "      <td>M</td>\n",
       "      <td>сотрудник</td>\n",
       "      <td>Возврат кредита во время</td>\n",
       "      <td>267628</td>\n",
       "      <td>дополнительное образование</td>\n",
       "      <td>образование</td>\n",
       "      <td>высокий</td>\n",
       "    </tr>\n",
       "    <tr>\n",
       "      <th>4</th>\n",
       "      <td>0</td>\n",
       "      <td>340266</td>\n",
       "      <td>53</td>\n",
       "      <td>Среднее</td>\n",
       "      <td>1</td>\n",
       "      <td>гражданский брак</td>\n",
       "      <td>1</td>\n",
       "      <td>F</td>\n",
       "      <td>пенсионер</td>\n",
       "      <td>Возврат кредита во время</td>\n",
       "      <td>158616</td>\n",
       "      <td>сыграть свадьбу</td>\n",
       "      <td>свадьба</td>\n",
       "      <td>высокий</td>\n",
       "    </tr>\n",
       "    <tr>\n",
       "      <th>...</th>\n",
       "      <td>...</td>\n",
       "      <td>...</td>\n",
       "      <td>...</td>\n",
       "      <td>...</td>\n",
       "      <td>...</td>\n",
       "      <td>...</td>\n",
       "      <td>...</td>\n",
       "      <td>...</td>\n",
       "      <td>...</td>\n",
       "      <td>...</td>\n",
       "      <td>...</td>\n",
       "      <td>...</td>\n",
       "      <td>...</td>\n",
       "      <td>...</td>\n",
       "    </tr>\n",
       "    <tr>\n",
       "      <th>21520</th>\n",
       "      <td>1</td>\n",
       "      <td>4529</td>\n",
       "      <td>43</td>\n",
       "      <td>Среднее</td>\n",
       "      <td>1</td>\n",
       "      <td>гражданский брак</td>\n",
       "      <td>1</td>\n",
       "      <td>F</td>\n",
       "      <td>компаньон</td>\n",
       "      <td>Возврат кредита во время</td>\n",
       "      <td>224791</td>\n",
       "      <td>операции с жильем</td>\n",
       "      <td>недвижимость</td>\n",
       "      <td>высокий</td>\n",
       "    </tr>\n",
       "    <tr>\n",
       "      <th>21521</th>\n",
       "      <td>0</td>\n",
       "      <td>343937</td>\n",
       "      <td>67</td>\n",
       "      <td>Среднее</td>\n",
       "      <td>1</td>\n",
       "      <td>женат / замужем</td>\n",
       "      <td>0</td>\n",
       "      <td>F</td>\n",
       "      <td>пенсионер</td>\n",
       "      <td>Возврат кредита во время</td>\n",
       "      <td>155999</td>\n",
       "      <td>сделка с автомобилем</td>\n",
       "      <td>автомобиль</td>\n",
       "      <td>высокий</td>\n",
       "    </tr>\n",
       "    <tr>\n",
       "      <th>21522</th>\n",
       "      <td>1</td>\n",
       "      <td>2113</td>\n",
       "      <td>38</td>\n",
       "      <td>Среднее</td>\n",
       "      <td>1</td>\n",
       "      <td>гражданский брак</td>\n",
       "      <td>1</td>\n",
       "      <td>M</td>\n",
       "      <td>сотрудник</td>\n",
       "      <td>Возврат кредита не во время</td>\n",
       "      <td>89672</td>\n",
       "      <td>недвижимость</td>\n",
       "      <td>недвижимость</td>\n",
       "      <td>средий</td>\n",
       "    </tr>\n",
       "    <tr>\n",
       "      <th>21523</th>\n",
       "      <td>3</td>\n",
       "      <td>3112</td>\n",
       "      <td>38</td>\n",
       "      <td>Среднее</td>\n",
       "      <td>1</td>\n",
       "      <td>женат / замужем</td>\n",
       "      <td>0</td>\n",
       "      <td>M</td>\n",
       "      <td>сотрудник</td>\n",
       "      <td>Возврат кредита не во время</td>\n",
       "      <td>244093</td>\n",
       "      <td>на покупку своего автомобиля</td>\n",
       "      <td>автомобиль</td>\n",
       "      <td>высокий</td>\n",
       "    </tr>\n",
       "    <tr>\n",
       "      <th>21524</th>\n",
       "      <td>2</td>\n",
       "      <td>1984</td>\n",
       "      <td>40</td>\n",
       "      <td>Среднее</td>\n",
       "      <td>1</td>\n",
       "      <td>женат / замужем</td>\n",
       "      <td>0</td>\n",
       "      <td>F</td>\n",
       "      <td>сотрудник</td>\n",
       "      <td>Возврат кредита во время</td>\n",
       "      <td>82047</td>\n",
       "      <td>на покупку автомобиля</td>\n",
       "      <td>автомобиль</td>\n",
       "      <td>низкий</td>\n",
       "    </tr>\n",
       "  </tbody>\n",
       "</table>\n",
       "<p>21454 rows × 14 columns</p>\n",
       "</div>"
      ],
      "text/plain": [
       "       children  days_employed  dob_years education  education_id  \\\n",
       "0             1           8437         42    Высшее             0   \n",
       "1             1           4024         36   Среднее             1   \n",
       "2             0           5623         33   Среднее             1   \n",
       "3             3           4124         32   Среднее             1   \n",
       "4             0         340266         53   Среднее             1   \n",
       "...         ...            ...        ...       ...           ...   \n",
       "21520         1           4529         43   Среднее             1   \n",
       "21521         0         343937         67   Среднее             1   \n",
       "21522         1           2113         38   Среднее             1   \n",
       "21523         3           3112         38   Среднее             1   \n",
       "21524         2           1984         40   Среднее             1   \n",
       "\n",
       "          family_status  family_status_id gender income_type  \\\n",
       "0       женат / замужем                 0      F   сотрудник   \n",
       "1       женат / замужем                 0      F   сотрудник   \n",
       "2       женат / замужем                 0      M   сотрудник   \n",
       "3       женат / замужем                 0      M   сотрудник   \n",
       "4      гражданский брак                 1      F   пенсионер   \n",
       "...                 ...               ...    ...         ...   \n",
       "21520  гражданский брак                 1      F   компаньон   \n",
       "21521   женат / замужем                 0      F   пенсионер   \n",
       "21522  гражданский брак                 1      M   сотрудник   \n",
       "21523   женат / замужем                 0      M   сотрудник   \n",
       "21524   женат / замужем                 0      F   сотрудник   \n",
       "\n",
       "                              debt  total_income  \\\n",
       "0         Возврат кредита во время        253875   \n",
       "1         Возврат кредита во время        112080   \n",
       "2         Возврат кредита во время        145885   \n",
       "3         Возврат кредита во время        267628   \n",
       "4         Возврат кредита во время        158616   \n",
       "...                            ...           ...   \n",
       "21520     Возврат кредита во время        224791   \n",
       "21521     Возврат кредита во время        155999   \n",
       "21522  Возврат кредита не во время         89672   \n",
       "21523  Возврат кредита не во время        244093   \n",
       "21524     Возврат кредита во время         82047   \n",
       "\n",
       "                            purpose lemmatized_purpose income_level  \n",
       "0                     покупка жилья       недвижимость      высокий  \n",
       "1           приобретение автомобиля         автомобиль       средий  \n",
       "2                     покупка жилья       недвижимость      высокий  \n",
       "3        дополнительное образование        образование      высокий  \n",
       "4                   сыграть свадьбу            свадьба      высокий  \n",
       "...                             ...                ...          ...  \n",
       "21520             операции с жильем       недвижимость      высокий  \n",
       "21521          сделка с автомобилем         автомобиль      высокий  \n",
       "21522                  недвижимость       недвижимость       средий  \n",
       "21523  на покупку своего автомобиля         автомобиль      высокий  \n",
       "21524         на покупку автомобиля         автомобиль       низкий  \n",
       "\n",
       "[21454 rows x 14 columns]"
      ]
     },
     "execution_count": 29,
     "metadata": {},
     "output_type": "execute_result"
    }
   ],
   "source": [
    "bank_data"
   ]
  },
  {
   "cell_type": "markdown",
   "metadata": {
    "id": "roYf0js1xh9G"
   },
   "source": [
    "##### 2.5.2 Определим категории клиентов в зависимости от наличия детей в семье:"
   ]
  },
  {
   "cell_type": "code",
   "execution_count": 30,
   "metadata": {
    "id": "8DFZr37hxh9H",
    "outputId": "1b432c55-515c-4ba9-c2e5-41937f9019d3",
    "scrolled": true
   },
   "outputs": [
    {
     "data": {
      "text/html": [
       "<div>\n",
       "<style scoped>\n",
       "    .dataframe tbody tr th:only-of-type {\n",
       "        vertical-align: middle;\n",
       "    }\n",
       "\n",
       "    .dataframe tbody tr th {\n",
       "        vertical-align: top;\n",
       "    }\n",
       "\n",
       "    .dataframe thead th {\n",
       "        text-align: right;\n",
       "    }\n",
       "</style>\n",
       "<table border=\"1\" class=\"dataframe\">\n",
       "  <thead>\n",
       "    <tr style=\"text-align: right;\">\n",
       "      <th></th>\n",
       "      <th>children</th>\n",
       "      <th>days_employed</th>\n",
       "      <th>dob_years</th>\n",
       "      <th>education</th>\n",
       "      <th>education_id</th>\n",
       "      <th>family_status</th>\n",
       "      <th>family_status_id</th>\n",
       "      <th>gender</th>\n",
       "      <th>income_type</th>\n",
       "      <th>debt</th>\n",
       "      <th>total_income</th>\n",
       "      <th>purpose</th>\n",
       "      <th>lemmatized_purpose</th>\n",
       "      <th>income_level</th>\n",
       "      <th>child</th>\n",
       "    </tr>\n",
       "  </thead>\n",
       "  <tbody>\n",
       "    <tr>\n",
       "      <th>0</th>\n",
       "      <td>1</td>\n",
       "      <td>8437</td>\n",
       "      <td>42</td>\n",
       "      <td>Высшее</td>\n",
       "      <td>0</td>\n",
       "      <td>женат / замужем</td>\n",
       "      <td>0</td>\n",
       "      <td>F</td>\n",
       "      <td>сотрудник</td>\n",
       "      <td>Возврат кредита во время</td>\n",
       "      <td>253875</td>\n",
       "      <td>покупка жилья</td>\n",
       "      <td>недвижимость</td>\n",
       "      <td>высокий</td>\n",
       "      <td>есть дети</td>\n",
       "    </tr>\n",
       "    <tr>\n",
       "      <th>1</th>\n",
       "      <td>1</td>\n",
       "      <td>4024</td>\n",
       "      <td>36</td>\n",
       "      <td>Среднее</td>\n",
       "      <td>1</td>\n",
       "      <td>женат / замужем</td>\n",
       "      <td>0</td>\n",
       "      <td>F</td>\n",
       "      <td>сотрудник</td>\n",
       "      <td>Возврат кредита во время</td>\n",
       "      <td>112080</td>\n",
       "      <td>приобретение автомобиля</td>\n",
       "      <td>автомобиль</td>\n",
       "      <td>средий</td>\n",
       "      <td>есть дети</td>\n",
       "    </tr>\n",
       "    <tr>\n",
       "      <th>2</th>\n",
       "      <td>0</td>\n",
       "      <td>5623</td>\n",
       "      <td>33</td>\n",
       "      <td>Среднее</td>\n",
       "      <td>1</td>\n",
       "      <td>женат / замужем</td>\n",
       "      <td>0</td>\n",
       "      <td>M</td>\n",
       "      <td>сотрудник</td>\n",
       "      <td>Возврат кредита во время</td>\n",
       "      <td>145885</td>\n",
       "      <td>покупка жилья</td>\n",
       "      <td>недвижимость</td>\n",
       "      <td>высокий</td>\n",
       "      <td>дети отсутствуют</td>\n",
       "    </tr>\n",
       "    <tr>\n",
       "      <th>3</th>\n",
       "      <td>3</td>\n",
       "      <td>4124</td>\n",
       "      <td>32</td>\n",
       "      <td>Среднее</td>\n",
       "      <td>1</td>\n",
       "      <td>женат / замужем</td>\n",
       "      <td>0</td>\n",
       "      <td>M</td>\n",
       "      <td>сотрудник</td>\n",
       "      <td>Возврат кредита во время</td>\n",
       "      <td>267628</td>\n",
       "      <td>дополнительное образование</td>\n",
       "      <td>образование</td>\n",
       "      <td>высокий</td>\n",
       "      <td>есть дети</td>\n",
       "    </tr>\n",
       "    <tr>\n",
       "      <th>4</th>\n",
       "      <td>0</td>\n",
       "      <td>340266</td>\n",
       "      <td>53</td>\n",
       "      <td>Среднее</td>\n",
       "      <td>1</td>\n",
       "      <td>гражданский брак</td>\n",
       "      <td>1</td>\n",
       "      <td>F</td>\n",
       "      <td>пенсионер</td>\n",
       "      <td>Возврат кредита во время</td>\n",
       "      <td>158616</td>\n",
       "      <td>сыграть свадьбу</td>\n",
       "      <td>свадьба</td>\n",
       "      <td>высокий</td>\n",
       "      <td>дети отсутствуют</td>\n",
       "    </tr>\n",
       "    <tr>\n",
       "      <th>...</th>\n",
       "      <td>...</td>\n",
       "      <td>...</td>\n",
       "      <td>...</td>\n",
       "      <td>...</td>\n",
       "      <td>...</td>\n",
       "      <td>...</td>\n",
       "      <td>...</td>\n",
       "      <td>...</td>\n",
       "      <td>...</td>\n",
       "      <td>...</td>\n",
       "      <td>...</td>\n",
       "      <td>...</td>\n",
       "      <td>...</td>\n",
       "      <td>...</td>\n",
       "      <td>...</td>\n",
       "    </tr>\n",
       "    <tr>\n",
       "      <th>21520</th>\n",
       "      <td>1</td>\n",
       "      <td>4529</td>\n",
       "      <td>43</td>\n",
       "      <td>Среднее</td>\n",
       "      <td>1</td>\n",
       "      <td>гражданский брак</td>\n",
       "      <td>1</td>\n",
       "      <td>F</td>\n",
       "      <td>компаньон</td>\n",
       "      <td>Возврат кредита во время</td>\n",
       "      <td>224791</td>\n",
       "      <td>операции с жильем</td>\n",
       "      <td>недвижимость</td>\n",
       "      <td>высокий</td>\n",
       "      <td>есть дети</td>\n",
       "    </tr>\n",
       "    <tr>\n",
       "      <th>21521</th>\n",
       "      <td>0</td>\n",
       "      <td>343937</td>\n",
       "      <td>67</td>\n",
       "      <td>Среднее</td>\n",
       "      <td>1</td>\n",
       "      <td>женат / замужем</td>\n",
       "      <td>0</td>\n",
       "      <td>F</td>\n",
       "      <td>пенсионер</td>\n",
       "      <td>Возврат кредита во время</td>\n",
       "      <td>155999</td>\n",
       "      <td>сделка с автомобилем</td>\n",
       "      <td>автомобиль</td>\n",
       "      <td>высокий</td>\n",
       "      <td>дети отсутствуют</td>\n",
       "    </tr>\n",
       "    <tr>\n",
       "      <th>21522</th>\n",
       "      <td>1</td>\n",
       "      <td>2113</td>\n",
       "      <td>38</td>\n",
       "      <td>Среднее</td>\n",
       "      <td>1</td>\n",
       "      <td>гражданский брак</td>\n",
       "      <td>1</td>\n",
       "      <td>M</td>\n",
       "      <td>сотрудник</td>\n",
       "      <td>Возврат кредита не во время</td>\n",
       "      <td>89672</td>\n",
       "      <td>недвижимость</td>\n",
       "      <td>недвижимость</td>\n",
       "      <td>средий</td>\n",
       "      <td>есть дети</td>\n",
       "    </tr>\n",
       "    <tr>\n",
       "      <th>21523</th>\n",
       "      <td>3</td>\n",
       "      <td>3112</td>\n",
       "      <td>38</td>\n",
       "      <td>Среднее</td>\n",
       "      <td>1</td>\n",
       "      <td>женат / замужем</td>\n",
       "      <td>0</td>\n",
       "      <td>M</td>\n",
       "      <td>сотрудник</td>\n",
       "      <td>Возврат кредита не во время</td>\n",
       "      <td>244093</td>\n",
       "      <td>на покупку своего автомобиля</td>\n",
       "      <td>автомобиль</td>\n",
       "      <td>высокий</td>\n",
       "      <td>есть дети</td>\n",
       "    </tr>\n",
       "    <tr>\n",
       "      <th>21524</th>\n",
       "      <td>2</td>\n",
       "      <td>1984</td>\n",
       "      <td>40</td>\n",
       "      <td>Среднее</td>\n",
       "      <td>1</td>\n",
       "      <td>женат / замужем</td>\n",
       "      <td>0</td>\n",
       "      <td>F</td>\n",
       "      <td>сотрудник</td>\n",
       "      <td>Возврат кредита во время</td>\n",
       "      <td>82047</td>\n",
       "      <td>на покупку автомобиля</td>\n",
       "      <td>автомобиль</td>\n",
       "      <td>низкий</td>\n",
       "      <td>есть дети</td>\n",
       "    </tr>\n",
       "  </tbody>\n",
       "</table>\n",
       "<p>21454 rows × 15 columns</p>\n",
       "</div>"
      ],
      "text/plain": [
       "       children  days_employed  dob_years education  education_id  \\\n",
       "0             1           8437         42    Высшее             0   \n",
       "1             1           4024         36   Среднее             1   \n",
       "2             0           5623         33   Среднее             1   \n",
       "3             3           4124         32   Среднее             1   \n",
       "4             0         340266         53   Среднее             1   \n",
       "...         ...            ...        ...       ...           ...   \n",
       "21520         1           4529         43   Среднее             1   \n",
       "21521         0         343937         67   Среднее             1   \n",
       "21522         1           2113         38   Среднее             1   \n",
       "21523         3           3112         38   Среднее             1   \n",
       "21524         2           1984         40   Среднее             1   \n",
       "\n",
       "          family_status  family_status_id gender income_type  \\\n",
       "0       женат / замужем                 0      F   сотрудник   \n",
       "1       женат / замужем                 0      F   сотрудник   \n",
       "2       женат / замужем                 0      M   сотрудник   \n",
       "3       женат / замужем                 0      M   сотрудник   \n",
       "4      гражданский брак                 1      F   пенсионер   \n",
       "...                 ...               ...    ...         ...   \n",
       "21520  гражданский брак                 1      F   компаньон   \n",
       "21521   женат / замужем                 0      F   пенсионер   \n",
       "21522  гражданский брак                 1      M   сотрудник   \n",
       "21523   женат / замужем                 0      M   сотрудник   \n",
       "21524   женат / замужем                 0      F   сотрудник   \n",
       "\n",
       "                              debt  total_income  \\\n",
       "0         Возврат кредита во время        253875   \n",
       "1         Возврат кредита во время        112080   \n",
       "2         Возврат кредита во время        145885   \n",
       "3         Возврат кредита во время        267628   \n",
       "4         Возврат кредита во время        158616   \n",
       "...                            ...           ...   \n",
       "21520     Возврат кредита во время        224791   \n",
       "21521     Возврат кредита во время        155999   \n",
       "21522  Возврат кредита не во время         89672   \n",
       "21523  Возврат кредита не во время        244093   \n",
       "21524     Возврат кредита во время         82047   \n",
       "\n",
       "                            purpose lemmatized_purpose income_level  \\\n",
       "0                     покупка жилья       недвижимость      высокий   \n",
       "1           приобретение автомобиля         автомобиль       средий   \n",
       "2                     покупка жилья       недвижимость      высокий   \n",
       "3        дополнительное образование        образование      высокий   \n",
       "4                   сыграть свадьбу            свадьба      высокий   \n",
       "...                             ...                ...          ...   \n",
       "21520             операции с жильем       недвижимость      высокий   \n",
       "21521          сделка с автомобилем         автомобиль      высокий   \n",
       "21522                  недвижимость       недвижимость       средий   \n",
       "21523  на покупку своего автомобиля         автомобиль      высокий   \n",
       "21524         на покупку автомобиля         автомобиль       низкий   \n",
       "\n",
       "                  child  \n",
       "0             есть дети  \n",
       "1             есть дети  \n",
       "2      дети отсутствуют  \n",
       "3             есть дети  \n",
       "4      дети отсутствуют  \n",
       "...                 ...  \n",
       "21520         есть дети  \n",
       "21521  дети отсутствуют  \n",
       "21522         есть дети  \n",
       "21523         есть дети  \n",
       "21524         есть дети  \n",
       "\n",
       "[21454 rows x 15 columns]"
      ]
     },
     "execution_count": 30,
     "metadata": {},
     "output_type": "execute_result"
    }
   ],
   "source": [
    "def children_category(row):\n",
    "    \"\"\"\n",
    "    Функция для определения категории клиента в\n",
    "    зависимости от наличия детей в семье\n",
    "    \"\"\"\n",
    "    if row > 0:\n",
    "        return \"есть дети\"\n",
    "    else:\n",
    "        return \"дети отсутствуют\"   \n",
    "bank_data['child'] = bank_data.children.apply(children_category) \n",
    "bank_data\n"
   ]
  },
  {
   "cell_type": "code",
   "execution_count": 31,
   "metadata": {
    "id": "Q3fNNobMxh9H",
    "outputId": "43701e14-ef77-452c-b620-62a1b8044777"
   },
   "outputs": [
    {
     "data": {
      "text/html": [
       "<div>\n",
       "<style scoped>\n",
       "    .dataframe tbody tr th:only-of-type {\n",
       "        vertical-align: middle;\n",
       "    }\n",
       "\n",
       "    .dataframe tbody tr th {\n",
       "        vertical-align: top;\n",
       "    }\n",
       "\n",
       "    .dataframe thead th {\n",
       "        text-align: right;\n",
       "    }\n",
       "</style>\n",
       "<table border=\"1\" class=\"dataframe\">\n",
       "  <thead>\n",
       "    <tr style=\"text-align: right;\">\n",
       "      <th></th>\n",
       "      <th>family_status</th>\n",
       "      <th>family_status_id</th>\n",
       "    </tr>\n",
       "  </thead>\n",
       "  <tbody>\n",
       "    <tr>\n",
       "      <th>0</th>\n",
       "      <td>женат / замужем</td>\n",
       "      <td>0</td>\n",
       "    </tr>\n",
       "    <tr>\n",
       "      <th>1</th>\n",
       "      <td>гражданский брак</td>\n",
       "      <td>1</td>\n",
       "    </tr>\n",
       "    <tr>\n",
       "      <th>2</th>\n",
       "      <td>вдовец / вдова</td>\n",
       "      <td>2</td>\n",
       "    </tr>\n",
       "    <tr>\n",
       "      <th>3</th>\n",
       "      <td>в разводе</td>\n",
       "      <td>3</td>\n",
       "    </tr>\n",
       "    <tr>\n",
       "      <th>4</th>\n",
       "      <td>Не женат / не замужем</td>\n",
       "      <td>4</td>\n",
       "    </tr>\n",
       "  </tbody>\n",
       "</table>\n",
       "</div>"
      ],
      "text/plain": [
       "           family_status  family_status_id\n",
       "0        женат / замужем                 0\n",
       "1       гражданский брак                 1\n",
       "2         вдовец / вдова                 2\n",
       "3              в разводе                 3\n",
       "4  Не женат / не замужем                 4"
      ]
     },
     "execution_count": 31,
     "metadata": {},
     "output_type": "execute_result"
    }
   ],
   "source": [
    "family_dict = bank_data[['family_status','family_status_id']].drop_duplicates().reset_index(drop=True)\n",
    "education_dict = bank_data[['education','education_id']].drop_duplicates().reset_index(drop=True)\n",
    "family_dict\n"
   ]
  },
  {
   "cell_type": "code",
   "execution_count": 32,
   "metadata": {
    "id": "tDJ3o7gExh9H",
    "outputId": "45ed40b8-59bf-473e-f602-94a3fb6ceb18"
   },
   "outputs": [
    {
     "data": {
      "text/html": [
       "<div>\n",
       "<style scoped>\n",
       "    .dataframe tbody tr th:only-of-type {\n",
       "        vertical-align: middle;\n",
       "    }\n",
       "\n",
       "    .dataframe tbody tr th {\n",
       "        vertical-align: top;\n",
       "    }\n",
       "\n",
       "    .dataframe thead th {\n",
       "        text-align: right;\n",
       "    }\n",
       "</style>\n",
       "<table border=\"1\" class=\"dataframe\">\n",
       "  <thead>\n",
       "    <tr style=\"text-align: right;\">\n",
       "      <th></th>\n",
       "      <th>education</th>\n",
       "      <th>education_id</th>\n",
       "    </tr>\n",
       "  </thead>\n",
       "  <tbody>\n",
       "    <tr>\n",
       "      <th>0</th>\n",
       "      <td>Высшее</td>\n",
       "      <td>0</td>\n",
       "    </tr>\n",
       "    <tr>\n",
       "      <th>1</th>\n",
       "      <td>Среднее</td>\n",
       "      <td>1</td>\n",
       "    </tr>\n",
       "    <tr>\n",
       "      <th>2</th>\n",
       "      <td>Неоконченное высшее</td>\n",
       "      <td>2</td>\n",
       "    </tr>\n",
       "    <tr>\n",
       "      <th>3</th>\n",
       "      <td>Начальное</td>\n",
       "      <td>3</td>\n",
       "    </tr>\n",
       "    <tr>\n",
       "      <th>4</th>\n",
       "      <td>Ученая степень</td>\n",
       "      <td>4</td>\n",
       "    </tr>\n",
       "  </tbody>\n",
       "</table>\n",
       "</div>"
      ],
      "text/plain": [
       "             education  education_id\n",
       "0               Высшее             0\n",
       "1              Среднее             1\n",
       "2  Неоконченное высшее             2\n",
       "3            Начальное             3\n",
       "4       Ученая степень             4"
      ]
     },
     "execution_count": 32,
     "metadata": {},
     "output_type": "execute_result"
    }
   ],
   "source": [
    "education_dict"
   ]
  },
  {
   "cell_type": "markdown",
   "metadata": {
    "id": "-Moe6s-cxh9I"
   },
   "source": [
    "### 3. Определение зависимостей различных факторов на возврат кредита в срок"
   ]
  },
  {
   "cell_type": "markdown",
   "metadata": {
    "id": "QI8_thiGxh9I"
   },
   "source": [
    "#### 3.1 Опредление влияния наличия детей на возврат кредита в срок"
   ]
  },
  {
   "cell_type": "markdown",
   "metadata": {
    "id": "tiNh28Hixh9I"
   },
   "source": [
    "Для определения влияния построим сводную таблицу:"
   ]
  },
  {
   "cell_type": "code",
   "execution_count": 33,
   "metadata": {
    "id": "4b93Q2caxh9I",
    "outputId": "d5ecd1c2-fbdc-45fc-e4b6-0896724ef40b"
   },
   "outputs": [
    {
     "data": {
      "text/html": [
       "<div>\n",
       "<style scoped>\n",
       "    .dataframe tbody tr th:only-of-type {\n",
       "        vertical-align: middle;\n",
       "    }\n",
       "\n",
       "    .dataframe tbody tr th {\n",
       "        vertical-align: top;\n",
       "    }\n",
       "\n",
       "    .dataframe thead th {\n",
       "        text-align: right;\n",
       "    }\n",
       "</style>\n",
       "<table border=\"1\" class=\"dataframe\">\n",
       "  <thead>\n",
       "    <tr style=\"text-align: right;\">\n",
       "      <th>debt</th>\n",
       "      <th>Возврат кредита во время</th>\n",
       "      <th>Возврат кредита не во время</th>\n",
       "      <th>Доля возврата не вовремя</th>\n",
       "    </tr>\n",
       "    <tr>\n",
       "      <th>child</th>\n",
       "      <th></th>\n",
       "      <th></th>\n",
       "      <th></th>\n",
       "    </tr>\n",
       "  </thead>\n",
       "  <tbody>\n",
       "    <tr>\n",
       "      <th>дети отсутствуют</th>\n",
       "      <td>13142</td>\n",
       "      <td>1072</td>\n",
       "      <td>0.082</td>\n",
       "    </tr>\n",
       "    <tr>\n",
       "      <th>есть дети</th>\n",
       "      <td>6571</td>\n",
       "      <td>669</td>\n",
       "      <td>0.102</td>\n",
       "    </tr>\n",
       "  </tbody>\n",
       "</table>\n",
       "</div>"
      ],
      "text/plain": [
       "debt              Возврат кредита во время  Возврат кредита не во время  \\\n",
       "child                                                                     \n",
       "дети отсутствуют                     13142                         1072   \n",
       "есть дети                             6571                          669   \n",
       "\n",
       "debt              Доля возврата не вовремя  \n",
       "child                                       \n",
       "дети отсутствуют                     0.082  \n",
       "есть дети                            0.102  "
      ]
     },
     "execution_count": 33,
     "metadata": {},
     "output_type": "execute_result"
    }
   ],
   "source": [
    "pivot_data_children = bank_data.pivot_table(index=['child'], values = 'children', columns='debt', aggfunc='count',fill_value = 0)\n",
    "pivot_data_children['Доля возврата не вовремя'] = round(pivot_data_children['Возврат кредита не во время']/pivot_data_children['Возврат кредита во время'], 3)\n",
    "pivot_data_children = pivot_data_children.sort_values(by = 'Доля возврата не вовремя')\n",
    "pivot_data_children"
   ]
  },
  {
   "cell_type": "markdown",
   "metadata": {
    "id": "UXsVe2Hwxh9I"
   },
   "source": [
    "**Вывод:**\n",
    "\n",
    "Из полученных данных видно, что доля клиентов, которые возвращают кредит не во время меньше, чем доля клиентов с детьми"
   ]
  },
  {
   "cell_type": "markdown",
   "metadata": {
    "id": "OxLCe-l-xh9J"
   },
   "source": [
    "##### 3.2 Опредление влияния семейного положения на возврат кредита в срок"
   ]
  },
  {
   "cell_type": "code",
   "execution_count": 34,
   "metadata": {
    "id": "T7YRsmsDxh9J"
   },
   "outputs": [],
   "source": [
    "pivot_data_family = bank_data.pivot_table(index=['family_status'], values = 'education', columns='debt', aggfunc='count',fill_value = 0)\n",
    "pivot_data_family['Доля возврата не вовремя'] = round(pivot_data_family['Возврат кредита не во время']/pivot_data_family['Возврат кредита во время'], 3)"
   ]
  },
  {
   "cell_type": "code",
   "execution_count": 35,
   "metadata": {
    "id": "SQyyQhl0xh9J",
    "outputId": "8e160c91-a181-47b4-b994-f0504d554e45"
   },
   "outputs": [
    {
     "data": {
      "text/html": [
       "<div>\n",
       "<style scoped>\n",
       "    .dataframe tbody tr th:only-of-type {\n",
       "        vertical-align: middle;\n",
       "    }\n",
       "\n",
       "    .dataframe tbody tr th {\n",
       "        vertical-align: top;\n",
       "    }\n",
       "\n",
       "    .dataframe thead th {\n",
       "        text-align: right;\n",
       "    }\n",
       "</style>\n",
       "<table border=\"1\" class=\"dataframe\">\n",
       "  <thead>\n",
       "    <tr style=\"text-align: right;\">\n",
       "      <th>debt</th>\n",
       "      <th>Возврат кредита во время</th>\n",
       "      <th>Возврат кредита не во время</th>\n",
       "      <th>Доля возврата не вовремя</th>\n",
       "    </tr>\n",
       "    <tr>\n",
       "      <th>family_status</th>\n",
       "      <th></th>\n",
       "      <th></th>\n",
       "      <th></th>\n",
       "    </tr>\n",
       "  </thead>\n",
       "  <tbody>\n",
       "    <tr>\n",
       "      <th>вдовец / вдова</th>\n",
       "      <td>896</td>\n",
       "      <td>63</td>\n",
       "      <td>0.070</td>\n",
       "    </tr>\n",
       "    <tr>\n",
       "      <th>в разводе</th>\n",
       "      <td>1110</td>\n",
       "      <td>85</td>\n",
       "      <td>0.077</td>\n",
       "    </tr>\n",
       "    <tr>\n",
       "      <th>женат / замужем</th>\n",
       "      <td>11408</td>\n",
       "      <td>931</td>\n",
       "      <td>0.082</td>\n",
       "    </tr>\n",
       "    <tr>\n",
       "      <th>гражданский брак</th>\n",
       "      <td>3763</td>\n",
       "      <td>388</td>\n",
       "      <td>0.103</td>\n",
       "    </tr>\n",
       "    <tr>\n",
       "      <th>Не женат / не замужем</th>\n",
       "      <td>2536</td>\n",
       "      <td>274</td>\n",
       "      <td>0.108</td>\n",
       "    </tr>\n",
       "  </tbody>\n",
       "</table>\n",
       "</div>"
      ],
      "text/plain": [
       "debt                   Возврат кредита во время  Возврат кредита не во время  \\\n",
       "family_status                                                                  \n",
       "вдовец / вдова                              896                           63   \n",
       "в разводе                                  1110                           85   \n",
       "женат / замужем                           11408                          931   \n",
       "гражданский брак                           3763                          388   \n",
       "Не женат / не замужем                      2536                          274   \n",
       "\n",
       "debt                   Доля возврата не вовремя  \n",
       "family_status                                    \n",
       "вдовец / вдова                            0.070  \n",
       "в разводе                                 0.077  \n",
       "женат / замужем                           0.082  \n",
       "гражданский брак                          0.103  \n",
       "Не женат / не замужем                     0.108  "
      ]
     },
     "execution_count": 35,
     "metadata": {},
     "output_type": "execute_result"
    }
   ],
   "source": [
    "pivot_data_family.sort_values(by = 'Доля возврата не вовремя')"
   ]
  },
  {
   "cell_type": "markdown",
   "metadata": {
    "id": "9NLa0Jdtxh9J"
   },
   "source": [
    "**Вывод:**\n",
    "\n",
    "Из полученных данных можем сделать вывод, что наиболее надежные заемщики, это те, кто находится или когда-либо был в официальном браке."
   ]
  },
  {
   "cell_type": "markdown",
   "metadata": {
    "id": "mSwom6NXxh9K"
   },
   "source": [
    "##### 3.3 Опредление влияния уровня доходов на возврат кредита в срок"
   ]
  },
  {
   "cell_type": "code",
   "execution_count": 36,
   "metadata": {
    "id": "hN3uU29Txh9K",
    "outputId": "3e22896b-63ec-491b-a340-ee78cfef03f8"
   },
   "outputs": [
    {
     "data": {
      "text/html": [
       "<div>\n",
       "<style scoped>\n",
       "    .dataframe tbody tr th:only-of-type {\n",
       "        vertical-align: middle;\n",
       "    }\n",
       "\n",
       "    .dataframe tbody tr th {\n",
       "        vertical-align: top;\n",
       "    }\n",
       "\n",
       "    .dataframe thead th {\n",
       "        text-align: right;\n",
       "    }\n",
       "</style>\n",
       "<table border=\"1\" class=\"dataframe\">\n",
       "  <thead>\n",
       "    <tr style=\"text-align: right;\">\n",
       "      <th>debt</th>\n",
       "      <th>Возврат кредита во время</th>\n",
       "      <th>Возврат кредита не во время</th>\n",
       "      <th>Доля возврата не вовремя</th>\n",
       "    </tr>\n",
       "    <tr>\n",
       "      <th>income_level</th>\n",
       "      <th></th>\n",
       "      <th></th>\n",
       "      <th></th>\n",
       "    </tr>\n",
       "  </thead>\n",
       "  <tbody>\n",
       "    <tr>\n",
       "      <th>низкий</th>\n",
       "      <td>4945</td>\n",
       "      <td>419</td>\n",
       "      <td>0.085</td>\n",
       "    </tr>\n",
       "    <tr>\n",
       "      <th>высокий</th>\n",
       "      <td>9863</td>\n",
       "      <td>864</td>\n",
       "      <td>0.088</td>\n",
       "    </tr>\n",
       "    <tr>\n",
       "      <th>средий</th>\n",
       "      <td>4905</td>\n",
       "      <td>458</td>\n",
       "      <td>0.093</td>\n",
       "    </tr>\n",
       "  </tbody>\n",
       "</table>\n",
       "</div>"
      ],
      "text/plain": [
       "debt          Возврат кредита во время  Возврат кредита не во время  \\\n",
       "income_level                                                          \n",
       "низкий                            4945                          419   \n",
       "высокий                           9863                          864   \n",
       "средий                            4905                          458   \n",
       "\n",
       "debt          Доля возврата не вовремя  \n",
       "income_level                            \n",
       "низкий                           0.085  \n",
       "высокий                          0.088  \n",
       "средий                           0.093  "
      ]
     },
     "execution_count": 36,
     "metadata": {},
     "output_type": "execute_result"
    }
   ],
   "source": [
    "pivot_data_income = bank_data.pivot_table(index=['income_level'], values = 'total_income', columns='debt', aggfunc='count',fill_value = 0)\n",
    "pivot_data_income['Доля возврата не вовремя'] = round(pivot_data_income['Возврат кредита не во время']/pivot_data_income['Возврат кредита во время'], 3)\n",
    "pivot_data_income = pivot_data_income.sort_values(by = 'Доля возврата не вовремя')\n",
    "pivot_data_income"
   ]
  },
  {
   "cell_type": "markdown",
   "metadata": {
    "id": "Gv-_alnKxh9K"
   },
   "source": [
    "**Вывод:**\n",
    "\n",
    "Из полученных данных следует, что  люди с высоким уровнем дохода реже возвращают кредит не вовремя чем люди со средним и низким уровнем дохода. Чаще других кредит возвращают не во время люди со средним уровнем дохода."
   ]
  },
  {
   "cell_type": "markdown",
   "metadata": {
    "id": "SYhNu9R7xh9K"
   },
   "source": [
    "##### 3.4 Опредление влияния цели кредита на возврат кредита в срок"
   ]
  },
  {
   "cell_type": "code",
   "execution_count": 37,
   "metadata": {
    "id": "Fgi00w4jxh9K",
    "outputId": "3e1ff70e-0684-4431-b4c6-b3f4868c2fc9"
   },
   "outputs": [
    {
     "data": {
      "text/html": [
       "<div>\n",
       "<style scoped>\n",
       "    .dataframe tbody tr th:only-of-type {\n",
       "        vertical-align: middle;\n",
       "    }\n",
       "\n",
       "    .dataframe tbody tr th {\n",
       "        vertical-align: top;\n",
       "    }\n",
       "\n",
       "    .dataframe thead th {\n",
       "        text-align: right;\n",
       "    }\n",
       "</style>\n",
       "<table border=\"1\" class=\"dataframe\">\n",
       "  <thead>\n",
       "    <tr style=\"text-align: right;\">\n",
       "      <th>debt</th>\n",
       "      <th>Возврат кредита во время</th>\n",
       "      <th>Возврат кредита не во время</th>\n",
       "      <th>Доля возврата не вовремя</th>\n",
       "    </tr>\n",
       "    <tr>\n",
       "      <th>lemmatized_purpose</th>\n",
       "      <th></th>\n",
       "      <th></th>\n",
       "      <th></th>\n",
       "    </tr>\n",
       "  </thead>\n",
       "  <tbody>\n",
       "    <tr>\n",
       "      <th>недвижимость</th>\n",
       "      <td>10029</td>\n",
       "      <td>782</td>\n",
       "      <td>0.078</td>\n",
       "    </tr>\n",
       "    <tr>\n",
       "      <th>свадьба</th>\n",
       "      <td>2138</td>\n",
       "      <td>186</td>\n",
       "      <td>0.087</td>\n",
       "    </tr>\n",
       "    <tr>\n",
       "      <th>образование</th>\n",
       "      <td>3643</td>\n",
       "      <td>370</td>\n",
       "      <td>0.102</td>\n",
       "    </tr>\n",
       "    <tr>\n",
       "      <th>автомобиль</th>\n",
       "      <td>3469</td>\n",
       "      <td>359</td>\n",
       "      <td>0.103</td>\n",
       "    </tr>\n",
       "  </tbody>\n",
       "</table>\n",
       "</div>"
      ],
      "text/plain": [
       "debt                Возврат кредита во время  Возврат кредита не во время  \\\n",
       "lemmatized_purpose                                                          \n",
       "недвижимость                           10029                          782   \n",
       "свадьба                                 2138                          186   \n",
       "образование                             3643                          370   \n",
       "автомобиль                              3469                          359   \n",
       "\n",
       "debt                Доля возврата не вовремя  \n",
       "lemmatized_purpose                            \n",
       "недвижимость                           0.078  \n",
       "свадьба                                0.087  \n",
       "образование                            0.102  \n",
       "автомобиль                             0.103  "
      ]
     },
     "execution_count": 37,
     "metadata": {},
     "output_type": "execute_result"
    }
   ],
   "source": [
    "pivot_data_purpose = bank_data.pivot_table(index=['lemmatized_purpose'], values = 'total_income', columns='debt', aggfunc='count',fill_value = 0)\n",
    "pivot_data_purpose['Доля возврата не вовремя'] = round(pivot_data_purpose['Возврат кредита не во время']/pivot_data_purpose['Возврат кредита во время'], 3)\n",
    "pivot_data_purpose = pivot_data_purpose.sort_values(by = 'Доля возврата не вовремя')\n",
    "pivot_data_purpose"
   ]
  },
  {
   "cell_type": "markdown",
   "metadata": {
    "id": "0YPDIyuvxh9L"
   },
   "source": [
    "**Вывод:**\n",
    "\n",
    "Видно, что клиенты чаще во время возвращают кредитны на недвижимость, чуть реже на свадьбу и еще реже на автомобиль и обазование."
   ]
  },
  {
   "cell_type": "markdown",
   "metadata": {
    "id": "YpA8onW9xh9L"
   },
   "source": [
    "### 4 Вывод"
   ]
  },
  {
   "cell_type": "markdown",
   "metadata": {
    "id": "3Y_qSQQ5xh9L"
   },
   "source": [
    "На основании проведенной работы и полученных результатов, что клиент, который с большей долей вероятности вернет кредит вовремя - это клиент с высоким уровнем дохода, который женат или замужем, без детей и он берет кредит на недвижимость.\n",
    "\n",
    "А клиент, который с наименьшей долей вероятности вернет кредит вовремя - это не женатый человек со средним образованием у которого есь дети, и кредит он берет на автомобиль или образование. "
   ]
  },
  {
   "cell_type": "code",
   "execution_count": null,
   "metadata": {},
   "outputs": [],
   "source": []
  }
 ],
 "metadata": {
  "colab": {
   "name": "credit_scoring.ipynb",
   "provenance": []
  },
  "kernelspec": {
   "display_name": "Python 3",
   "language": "python",
   "name": "python3"
  },
  "language_info": {
   "codemirror_mode": {
    "name": "ipython",
    "version": 3
   },
   "file_extension": ".py",
   "mimetype": "text/x-python",
   "name": "python",
   "nbconvert_exporter": "python",
   "pygments_lexer": "ipython3",
   "version": "3.8.5"
  },
  "toc": {
   "base_numbering": 1,
   "nav_menu": {},
   "number_sections": true,
   "sideBar": true,
   "skip_h1_title": true,
   "title_cell": "Table of Contents",
   "title_sidebar": "Contents",
   "toc_cell": false,
   "toc_position": {},
   "toc_section_display": true,
   "toc_window_display": false
  }
 },
 "nbformat": 4,
 "nbformat_minor": 1
}
