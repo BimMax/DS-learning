{
 "cells": [
  {
   "cell_type": "markdown",
   "metadata": {},
   "source": [
    "# Проект для «Викишоп» с BERT"
   ]
  },
  {
   "cell_type": "markdown",
   "metadata": {},
   "source": [
    "**Цель проекта:**\n",
    "\n",
    "Обучить модель классифицировать комментарии на позитивные и негативные. В нашем распоряжении набор данных с разметкой о токсичности правок. Метрики качества *F1* должна быть не меньше 0.75\n",
    "\n",
    "**Описание проекта:**\n",
    "\n",
    "Интернет-магазин запускает новый сервис. Теперь пользователи могут редактировать и дополнять описания товаров, как в вики-сообществах. То есть клиенты предлагают свои правки и комментируют изменения других. Магазину нужен инструмент, который будет искать токсичные комментарии и отправлять их на модерацию. \n",
    "\n",
    "Данные находятся в файле `toxic_comments.csv`.\n",
    "Столбец *text* в нём содержит текст комментария, а *toxic* — целевой признак."
   ]
  },
  {
   "cell_type": "markdown",
   "metadata": {
    "toc": true
   },
   "source": [
    "<h1>Содержание<span class=\"tocSkip\"></span></h1>\n",
    "<div class=\"toc\"><ul class=\"toc-item\"><li><span><a href=\"#Подготовка\" data-toc-modified-id=\"Подготовка-1\"><span class=\"toc-item-num\">1&nbsp;&nbsp;</span>Подготовка</a></span></li><li><span><a href=\"#Обучение\" data-toc-modified-id=\"Обучение-2\"><span class=\"toc-item-num\">2&nbsp;&nbsp;</span>Обучение</a></span></li><li><span><a href=\"#BERT\" data-toc-modified-id=\"BERT-3\"><span class=\"toc-item-num\">3&nbsp;&nbsp;</span>BERT</a></span></li><li><span><a href=\"#Выводы\" data-toc-modified-id=\"Выводы-4\"><span class=\"toc-item-num\">4&nbsp;&nbsp;</span>Выводы</a></span></li><li><span><a href=\"#Чек-лист-проверки\" data-toc-modified-id=\"Чек-лист-проверки-5\"><span class=\"toc-item-num\">5&nbsp;&nbsp;</span>Чек-лист проверки</a></span></li></ul></div>"
   ]
  },
  {
   "cell_type": "code",
   "execution_count": 38,
   "metadata": {},
   "outputs": [],
   "source": [
    "import pandas as pd\n",
    "\n",
    "from nltk.corpus import stopwords as nltk_stopwords\n",
    "from sklearn.feature_extraction.text import TfidfVectorizer\n",
    "from sklearn.model_selection import train_test_split\n",
    "from sklearn.feature_extraction.text import CountVectorizer\n",
    "from nltk.corpus import stopwords as nltk_stopwords\n",
    "from sklearn.linear_model import LogisticRegression\n",
    "from sklearn.metrics import accuracy_score, f1_score\n",
    "from nltk.stem import WordNetLemmatizer\n",
    "from nltk import pos_tag\n"
   ]
  },
  {
   "cell_type": "markdown",
   "metadata": {},
   "source": [
    "## Подготовка"
   ]
  },
  {
   "cell_type": "code",
   "execution_count": 39,
   "metadata": {},
   "outputs": [],
   "source": [
    "df = pd.read_csv(\"/toxic_comments.csv\")\n",
    "\n",
    "corpus = df['text'].values.astype('U')\n"
   ]
  },
  {
   "cell_type": "code",
   "execution_count": 40,
   "metadata": {},
   "outputs": [],
   "source": [
    "def preprocess_text(sen):\n",
    "\n",
    "    # Remove punctuations and numbers\n",
    "    sentence = re.sub('[^a-zA-Z]', ' ', sen)\n",
    "\n",
    "    # Single character removal\n",
    "    sentence = re.sub(r\"\\s+[a-zA-Z]\\s+\", ' ', sentence)\n",
    "\n",
    "    # Removing multiple spaces\n",
    "    sentence = re.sub(r'\\s+', ' ', sentence)\n",
    "    sentence = sentence.lower()\n",
    "    return sentence\n",
    "import re\n",
    "\n",
    "df['clear_text'] = df.text.apply(lambda x: preprocess_text(x))\n",
    "corpus = df.clear_text.values"
   ]
  },
  {
   "cell_type": "code",
   "execution_count": 41,
   "metadata": {},
   "outputs": [],
   "source": [
    "m  = WordNetLemmatizer()\n",
    "def lemmatize(text):\n",
    "    return \"\".join(m.lemmatize(text))\n",
    "df['lemm_text'] = df.text.apply(lambda x : lemmatize(x))"
   ]
  },
  {
   "cell_type": "code",
   "execution_count": 42,
   "metadata": {},
   "outputs": [],
   "source": [
    "corpus = df.lemm_text.values\n",
    "\n"
   ]
  },
  {
   "cell_type": "markdown",
   "metadata": {},
   "source": [
    "## Обучение"
   ]
  },
  {
   "cell_type": "code",
   "execution_count": 43,
   "metadata": {},
   "outputs": [],
   "source": [
    "features = df['lemm_text']\n",
    "target = df['toxic']"
   ]
  },
  {
   "cell_type": "code",
   "execution_count": 44,
   "metadata": {},
   "outputs": [],
   "source": [
    "X_train, X_test, y_train, y_test = train_test_split(features, target, test_size = 0.5)"
   ]
  },
  {
   "cell_type": "code",
   "execution_count": 45,
   "metadata": {},
   "outputs": [
    {
     "name": "stderr",
     "output_type": "stream",
     "text": [
      "[nltk_data] Downloading package stopwords to\n",
      "[nltk_data]     C:\\Users\\Heraschanka\\AppData\\Roaming\\nltk_data...\n",
      "[nltk_data]   Package stopwords is already up-to-date!\n"
     ]
    }
   ],
   "source": [
    "nltk.download('stopwords')\n",
    "stopwords = set(nltk_stopwords.words('english'))\n",
    "count_tf_idf = TfidfVectorizer(stop_words = stopwords)\n",
    "\n",
    "counter_tf_idf = count_tf_idf.fit(X_train)\n",
    "\n",
    "X_train = counter_tf_idf.transform(X_train)\n",
    "X_test = counter_tf_idf.transform(X_test)"
   ]
  },
  {
   "cell_type": "markdown",
   "metadata": {},
   "source": [
    "## LogisticRegression"
   ]
  },
  {
   "cell_type": "code",
   "execution_count": 46,
   "metadata": {},
   "outputs": [
    {
     "data": {
      "text/plain": [
       "LogisticRegression()"
      ]
     },
     "execution_count": 46,
     "metadata": {},
     "output_type": "execute_result"
    }
   ],
   "source": [
    "model = LogisticRegression()\n",
    "model.fit(X_train, y_train)"
   ]
  },
  {
   "cell_type": "code",
   "execution_count": null,
   "metadata": {},
   "outputs": [],
   "source": []
  },
  {
   "cell_type": "code",
   "execution_count": 47,
   "metadata": {},
   "outputs": [],
   "source": [
    "predictions = model.predict(X_test)"
   ]
  },
  {
   "cell_type": "code",
   "execution_count": 48,
   "metadata": {},
   "outputs": [
    {
     "data": {
      "text/plain": [
       "0.705303612605688"
      ]
     },
     "execution_count": 48,
     "metadata": {},
     "output_type": "execute_result"
    }
   ],
   "source": [
    "from sklearn.metrics import f1_score, make_scorer\n",
    "f1_score(y_test, predictions)"
   ]
  },
  {
   "cell_type": "markdown",
   "metadata": {},
   "source": [
    "## DecisiontreeCLassifier"
   ]
  },
  {
   "cell_type": "code",
   "execution_count": 49,
   "metadata": {},
   "outputs": [],
   "source": [
    "from sklearn.ensemble import RandomForestClassifier"
   ]
  },
  {
   "cell_type": "code",
   "execution_count": 50,
   "metadata": {},
   "outputs": [
    {
     "name": "stdout",
     "output_type": "stream",
     "text": [
      "Wall time: 3min 32s\n"
     ]
    },
    {
     "data": {
      "text/plain": [
       "0.7163077849721426"
      ]
     },
     "execution_count": 50,
     "metadata": {},
     "output_type": "execute_result"
    }
   ],
   "source": [
    "%%time\n",
    "model = RandomForestClassifier()\n",
    "model.fit(X_train, y_train)\n",
    "predictions = model.predict(X_test)\n",
    "f1_score(y_test, predictions)"
   ]
  },
  {
   "cell_type": "markdown",
   "metadata": {},
   "source": [
    "## LGBMClassifier"
   ]
  },
  {
   "cell_type": "code",
   "execution_count": 51,
   "metadata": {},
   "outputs": [],
   "source": [
    "from lightgbm import LGBMClassifier\n",
    "from sklearn.model_selection import GridSearchCV"
   ]
  },
  {
   "cell_type": "code",
   "execution_count": 52,
   "metadata": {},
   "outputs": [
    {
     "name": "stdout",
     "output_type": "stream",
     "text": [
      "Wall time: 4min 12s\n"
     ]
    },
    {
     "data": {
      "text/plain": [
       "0.7691875570535777"
      ]
     },
     "execution_count": 52,
     "metadata": {},
     "output_type": "execute_result"
    }
   ],
   "source": [
    "%%time\n",
    "params = {'n_estimators':[150], 'n_jobs' : [-1], 'num_leaves' :[20,40], 'n_jobs' : [-1], 'random_state' : [42]}\n",
    "grd = GridSearchCV(LGBMClassifier(), params)\n",
    "grd.fit(X_train, y_train)\n",
    "\n",
    "best_model = grd.best_estimator_\n",
    "predictions = best_model.predict(X_test)\n",
    "f1_score(y_test, predictions)"
   ]
  },
  {
   "cell_type": "markdown",
   "metadata": {},
   "source": [
    "Вывод:\n",
    "\n",
    "В результате работы рассмотрения нескольких моделей классификации можно сделать вывод, что наилучший результат получается при использовании модели lightGBM."
   ]
  },
  {
   "cell_type": "markdown",
   "metadata": {},
   "source": [
    "## BERT"
   ]
  },
  {
   "cell_type": "code",
   "execution_count": 1,
   "metadata": {},
   "outputs": [],
   "source": [
    "import torch\n",
    "import transformers\n",
    "import numpy as np\n",
    "from tqdm import notebook\n",
    "from sklearn.utils import shuffle\n"
   ]
  },
  {
   "cell_type": "code",
   "execution_count": 4,
   "metadata": {},
   "outputs": [
    {
     "data": {
      "application/vnd.jupyter.widget-view+json": {
       "model_id": "64804533423847cd824fa579879276cf",
       "version_major": 2,
       "version_minor": 0
      },
      "text/plain": [
       "HBox(children=(HTML(value='Downloading'), FloatProgress(value=0.0, max=231508.0), HTML(value='')))"
      ]
     },
     "metadata": {},
     "output_type": "display_data"
    },
    {
     "name": "stdout",
     "output_type": "stream",
     "text": [
      "\n"
     ]
    },
    {
     "data": {
      "application/vnd.jupyter.widget-view+json": {
       "model_id": "5e3ae087d2f04773a65661833402293e",
       "version_major": 2,
       "version_minor": 0
      },
      "text/plain": [
       "HBox(children=(HTML(value='Downloading'), FloatProgress(value=0.0, max=28.0), HTML(value='')))"
      ]
     },
     "metadata": {},
     "output_type": "display_data"
    },
    {
     "name": "stdout",
     "output_type": "stream",
     "text": [
      "\n"
     ]
    },
    {
     "data": {
      "application/vnd.jupyter.widget-view+json": {
       "model_id": "711301bebdba4ed194ffbb1ddd562af9",
       "version_major": 2,
       "version_minor": 0
      },
      "text/plain": [
       "HBox(children=(HTML(value='Downloading'), FloatProgress(value=0.0, max=466062.0), HTML(value='')))"
      ]
     },
     "metadata": {},
     "output_type": "display_data"
    },
    {
     "name": "stdout",
     "output_type": "stream",
     "text": [
      "\n"
     ]
    },
    {
     "data": {
      "application/vnd.jupyter.widget-view+json": {
       "model_id": "2c03d1adfd524e34baacfe9ec1399967",
       "version_major": 2,
       "version_minor": 0
      },
      "text/plain": [
       "HBox(children=(HTML(value='Downloading'), FloatProgress(value=0.0, max=570.0), HTML(value='')))"
      ]
     },
     "metadata": {},
     "output_type": "display_data"
    },
    {
     "name": "stdout",
     "output_type": "stream",
     "text": [
      "\n"
     ]
    },
    {
     "data": {
      "application/vnd.jupyter.widget-view+json": {
       "model_id": "343da936289e4ab5a83f7f16938880c9",
       "version_major": 2,
       "version_minor": 0
      },
      "text/plain": [
       "HBox(children=(HTML(value='Downloading'), FloatProgress(value=0.0, max=440473133.0), HTML(value='')))"
      ]
     },
     "metadata": {},
     "output_type": "display_data"
    },
    {
     "name": "stdout",
     "output_type": "stream",
     "text": [
      "\n"
     ]
    },
    {
     "name": "stderr",
     "output_type": "stream",
     "text": [
      "Some weights of the model checkpoint at bert-base-uncased were not used when initializing BertModel: ['cls.seq_relationship.bias', 'cls.predictions.transform.LayerNorm.bias', 'cls.predictions.transform.LayerNorm.weight', 'cls.seq_relationship.weight', 'cls.predictions.transform.dense.weight', 'cls.predictions.decoder.weight', 'cls.predictions.transform.dense.bias', 'cls.predictions.bias']\n",
      "- This IS expected if you are initializing BertModel from the checkpoint of a model trained on another task or with another architecture (e.g. initializing a BertForSequenceClassification model from a BertForPreTraining model).\n",
      "- This IS NOT expected if you are initializing BertModel from the checkpoint of a model that you expect to be exactly identical (initializing a BertForSequenceClassification model from a BertForSequenceClassification model).\n"
     ]
    }
   ],
   "source": [
    "df = pd.read_csv('https://code.s3.yandex.net/datasets/toxic_comments.csv')\n",
    "tokenizer = transformers.BertTokenizer.from_pretrained('bert-base-uncased')\n",
    "model = transformers.BertModel.from_pretrained('bert-base-uncased')\n"
   ]
  },
  {
   "cell_type": "code",
   "execution_count": 5,
   "metadata": {},
   "outputs": [],
   "source": [
    "#сбалансируем классы для модели\n",
    "df_ones = df[df['toxic'] == 1].sample(2000, random_state=123)\n",
    "df_zeros = df[df['toxic'] == 0].sample(2000, random_state=123)\n",
    "new_df = shuffle(pd.concat([df_ones] + [df_zeros]))"
   ]
  },
  {
   "cell_type": "code",
   "execution_count": 6,
   "metadata": {},
   "outputs": [],
   "source": [
    "tokenized = new_df['text'].apply(lambda x: tokenizer.encode(x[:512], add_special_tokens=True))\n",
    "\n",
    "max_len = max(map(len, tokenized)) # вычисляем максимальное кол-во токенов в предложении\n",
    "\n",
    "padded = np.array([i + [0]*(max_len - len(i)) for i in tokenized.values]) #добавляем 0 для строк, у которых длина меньше максимальной\n",
    "attention_mask = np.where(padded != 0, 1, 0) # создаем маску, чтобы выделить значимые токены\n",
    "\n",
    "batch_size = 20"
   ]
  },
  {
   "cell_type": "code",
   "execution_count": null,
   "metadata": {},
   "outputs": [
    {
     "data": {
      "application/vnd.jupyter.widget-view+json": {
       "model_id": "1508ae35d21a46f28c5871f60a96f41a",
       "version_major": 2,
       "version_minor": 0
      },
      "text/plain": [
       "HBox(children=(HTML(value=''), FloatProgress(value=0.0, max=200.0), HTML(value='')))"
      ]
     },
     "metadata": {},
     "output_type": "display_data"
    }
   ],
   "source": [
    "embeddings = []\n",
    "for i in notebook.tqdm(range(padded.shape[0] // batch_size)):\n",
    "        batch = torch.LongTensor(padded[batch_size*i:batch_size*(i+1)]) \n",
    "        attention_mask_batch = torch.LongTensor(attention_mask[batch_size*i:batch_size*(i+1)])\n",
    "        \n",
    "        with torch.no_grad():\n",
    "            batch_embeddings = model(batch, attention_mask=attention_mask_batch)\n",
    "        \n",
    "        embeddings.append(batch_embeddings[0][:,0,:])\n",
    "        "
   ]
  },
  {
   "cell_type": "code",
   "execution_count": 33,
   "metadata": {},
   "outputs": [],
   "source": [
    "features = np.concatenate(embeddings) #полученные эмбеддинги будут признаками для обучения модели\n",
    "target = new_df['toxic']"
   ]
  },
  {
   "cell_type": "code",
   "execution_count": 34,
   "metadata": {},
   "outputs": [
    {
     "data": {
      "text/plain": [
       "LogisticRegression(random_state=123, solver='liblinear')"
      ]
     },
     "execution_count": 34,
     "metadata": {},
     "output_type": "execute_result"
    }
   ],
   "source": [
    "features_train, features_test, target_train, target_test = train_test_split(features, target, test_size=0.2, random_state=123)\n",
    "model_lr = LogisticRegression(solver='liblinear', random_state=123)\n",
    "model_lr.fit(features_train, target_train)\n"
   ]
  },
  {
   "cell_type": "code",
   "execution_count": 35,
   "metadata": {},
   "outputs": [],
   "source": [
    "pred_train = model_lr.predict(features_train)\n",
    "pred_test = model_lr.predict(features_test)"
   ]
  },
  {
   "cell_type": "code",
   "execution_count": 36,
   "metadata": {},
   "outputs": [
    {
     "name": "stdout",
     "output_type": "stream",
     "text": [
      "F1 обучающей выборки: 0.95\n",
      "F1 тестовой выборки: 0.86\n"
     ]
    }
   ],
   "source": [
    "print('F1 обучающей выборки: {:.2f}'.format(f1_score(target_train, pred_train)))\n",
    "print('F1 тестовой выборки: {:.2f}'.format(f1_score(target_test, pred_test)))"
   ]
  },
  {
   "cell_type": "markdown",
   "metadata": {},
   "source": [
    "## Выводы"
   ]
  },
  {
   "cell_type": "markdown",
   "metadata": {},
   "source": [
    "Модель BERT справляется с классификацией твитов лучше всего."
   ]
  }
 ],
 "metadata": {
  "ExecuteTimeLog": [
   {
    "duration": 1481,
    "start_time": "2021-06-20T14:20:28.547Z"
   },
   {
    "duration": 2993,
    "start_time": "2021-06-20T14:20:33.448Z"
   },
   {
    "duration": 942,
    "start_time": "2021-06-20T14:21:00.358Z"
   },
   {
    "duration": 28,
    "start_time": "2021-06-20T14:21:09.114Z"
   },
   {
    "duration": 11,
    "start_time": "2021-06-20T14:25:44.259Z"
   },
   {
    "duration": 19,
    "start_time": "2021-06-20T14:25:58.898Z"
   },
   {
    "duration": 4,
    "start_time": "2021-06-20T14:27:24.296Z"
   },
   {
    "duration": 427,
    "start_time": "2021-06-20T14:27:29.312Z"
   },
   {
    "duration": 6,
    "start_time": "2021-06-20T14:27:46.683Z"
   },
   {
    "duration": 18,
    "start_time": "2021-06-20T14:27:49.761Z"
   },
   {
    "duration": 4,
    "start_time": "2021-06-20T14:27:55.806Z"
   },
   {
    "duration": 6,
    "start_time": "2021-06-20T14:28:04.314Z"
   },
   {
    "duration": 340,
    "start_time": "2021-06-20T14:28:11.222Z"
   },
   {
    "duration": 9,
    "start_time": "2021-06-20T14:28:18.739Z"
   },
   {
    "duration": 5,
    "start_time": "2021-06-20T14:28:46.500Z"
   },
   {
    "duration": 6,
    "start_time": "2021-06-20T14:28:50.135Z"
   },
   {
    "duration": 6,
    "start_time": "2021-06-20T14:28:54.337Z"
   },
   {
    "duration": 6,
    "start_time": "2021-06-20T14:28:56.990Z"
   },
   {
    "duration": 7,
    "start_time": "2021-06-20T14:29:00.479Z"
   },
   {
    "duration": 6,
    "start_time": "2021-06-20T14:29:04.387Z"
   },
   {
    "duration": 4,
    "start_time": "2021-06-20T14:41:03.643Z"
   },
   {
    "duration": 264,
    "start_time": "2021-06-20T14:41:19.846Z"
   },
   {
    "duration": 28,
    "start_time": "2021-06-20T14:44:32.799Z"
   },
   {
    "duration": 340,
    "start_time": "2021-06-20T14:44:49.314Z"
   },
   {
    "duration": 42,
    "start_time": "2021-06-20T14:44:56.909Z"
   },
   {
    "duration": 139,
    "start_time": "2021-06-20T14:46:45.613Z"
   },
   {
    "duration": 6,
    "start_time": "2021-06-20T14:47:02.306Z"
   },
   {
    "duration": 6,
    "start_time": "2021-06-20T14:47:48.622Z"
   },
   {
    "duration": 5,
    "start_time": "2021-06-20T14:48:19.521Z"
   },
   {
    "duration": 275,
    "start_time": "2021-06-20T14:48:31.012Z"
   },
   {
    "duration": 5,
    "start_time": "2021-06-20T14:48:35.687Z"
   },
   {
    "duration": 6,
    "start_time": "2021-06-20T14:48:35.847Z"
   },
   {
    "duration": 275,
    "start_time": "2021-06-20T14:48:36.504Z"
   },
   {
    "duration": 9,
    "start_time": "2021-06-20T14:48:57.309Z"
   },
   {
    "duration": 13,
    "start_time": "2021-06-20T14:49:00.145Z"
   },
   {
    "duration": 5,
    "start_time": "2021-06-20T14:50:07.458Z"
   },
   {
    "duration": 270,
    "start_time": "2021-06-20T14:50:25.772Z"
   },
   {
    "duration": 262,
    "start_time": "2021-06-20T14:50:35.686Z"
   },
   {
    "duration": 4,
    "start_time": "2021-06-20T14:50:39.406Z"
   },
   {
    "duration": 7,
    "start_time": "2021-06-20T14:50:39.628Z"
   },
   {
    "duration": 14,
    "start_time": "2021-06-20T15:00:13.754Z"
   },
   {
    "duration": 5,
    "start_time": "2021-06-20T15:00:14.930Z"
   },
   {
    "duration": 6,
    "start_time": "2021-06-20T15:00:15.085Z"
   },
   {
    "duration": 9,
    "start_time": "2021-06-20T15:00:15.581Z"
   },
   {
    "duration": 4,
    "start_time": "2021-06-20T15:00:16.106Z"
   },
   {
    "duration": 7,
    "start_time": "2021-06-20T15:00:17.690Z"
   },
   {
    "duration": 11,
    "start_time": "2021-06-20T15:01:47.065Z"
   },
   {
    "duration": 7,
    "start_time": "2021-06-20T15:02:23.929Z"
   },
   {
    "duration": 10,
    "start_time": "2021-06-20T15:02:40.335Z"
   },
   {
    "duration": 9,
    "start_time": "2021-06-20T15:02:53.784Z"
   },
   {
    "duration": 8,
    "start_time": "2021-06-20T15:03:03.449Z"
   },
   {
    "duration": 4,
    "start_time": "2021-06-20T15:03:08.764Z"
   },
   {
    "duration": 9,
    "start_time": "2021-06-20T15:03:09.093Z"
   },
   {
    "duration": 7,
    "start_time": "2021-06-20T15:03:12.211Z"
   },
   {
    "duration": 8,
    "start_time": "2021-06-20T15:03:54.913Z"
   },
   {
    "duration": 5,
    "start_time": "2021-06-20T15:04:14.684Z"
   },
   {
    "duration": 5,
    "start_time": "2021-06-20T15:04:21.885Z"
   },
   {
    "duration": 7,
    "start_time": "2021-06-20T15:04:22.054Z"
   },
   {
    "duration": 7,
    "start_time": "2021-06-20T15:04:22.240Z"
   },
   {
    "duration": 7,
    "start_time": "2021-06-20T15:04:22.724Z"
   },
   {
    "duration": 8,
    "start_time": "2021-06-20T15:04:23.382Z"
   },
   {
    "duration": 9,
    "start_time": "2021-06-20T15:04:23.552Z"
   },
   {
    "duration": 3,
    "start_time": "2021-06-20T15:04:24.810Z"
   },
   {
    "duration": 9,
    "start_time": "2021-06-20T15:04:24.996Z"
   },
   {
    "duration": 8,
    "start_time": "2021-06-20T15:06:17.305Z"
   },
   {
    "duration": 4,
    "start_time": "2021-06-20T15:06:17.481Z"
   },
   {
    "duration": 6,
    "start_time": "2021-06-20T15:06:17.939Z"
   },
   {
    "duration": 8,
    "start_time": "2021-06-20T15:06:18.527Z"
   },
   {
    "duration": 8,
    "start_time": "2021-06-20T15:06:19.045Z"
   },
   {
    "duration": 8,
    "start_time": "2021-06-20T15:06:19.415Z"
   },
   {
    "duration": 5,
    "start_time": "2021-06-20T15:06:50.573Z"
   },
   {
    "duration": 12,
    "start_time": "2021-06-20T15:06:57.795Z"
   },
   {
    "duration": 21,
    "start_time": "2021-06-20T15:07:13.278Z"
   },
   {
    "duration": 4811,
    "start_time": "2021-06-20T15:07:32.407Z"
   },
   {
    "duration": 139536,
    "start_time": "2021-06-20T15:07:38.772Z"
   },
   {
    "duration": 12585,
    "start_time": "2021-06-20T15:11:12.141Z"
   },
   {
    "duration": 195,
    "start_time": "2021-06-20T15:11:24.729Z"
   },
   {
    "duration": 32578,
    "start_time": "2021-06-20T15:11:24.928Z"
   },
   {
    "duration": 5,
    "start_time": "2021-06-20T15:11:57.509Z"
   },
   {
    "duration": 10296,
    "start_time": "2021-06-20T15:11:57.517Z"
   },
   {
    "duration": 6,
    "start_time": "2021-06-20T15:12:07.815Z"
   },
   {
    "duration": 44,
    "start_time": "2021-06-20T15:12:07.824Z"
   },
   {
    "duration": 100,
    "start_time": "2021-06-20T15:12:07.871Z"
   },
   {
    "duration": 7971,
    "start_time": "2021-06-20T15:12:07.974Z"
   },
   {
    "duration": 16,
    "start_time": "2021-06-20T15:12:15.948Z"
   },
   {
    "duration": 40,
    "start_time": "2021-06-20T15:12:15.967Z"
   },
   {
    "duration": 30,
    "start_time": "2021-06-20T15:12:16.009Z"
   },
   {
    "duration": 31,
    "start_time": "2021-06-20T15:12:16.041Z"
   },
   {
    "duration": 54,
    "start_time": "2021-06-20T15:12:16.075Z"
   },
   {
    "duration": 23,
    "start_time": "2021-06-20T15:14:13.265Z"
   },
   {
    "duration": 336233,
    "start_time": "2021-06-20T15:14:59.068Z"
   },
   {
    "duration": 264,
    "start_time": "2021-06-20T15:57:44.125Z"
   },
   {
    "duration": 3,
    "start_time": "2021-06-20T15:58:04.222Z"
   },
   {
    "duration": 337,
    "start_time": "2021-06-20T16:01:04.913Z"
   },
   {
    "duration": 264,
    "start_time": "2021-06-20T16:01:20.736Z"
   },
   {
    "duration": 9630,
    "start_time": "2021-06-20T16:02:32.361Z"
   },
   {
    "duration": 1409,
    "start_time": "2021-06-20T18:26:58.192Z"
   },
   {
    "duration": 4352,
    "start_time": "2021-06-20T18:26:59.604Z"
   },
   {
    "duration": 138748,
    "start_time": "2021-06-20T18:27:03.959Z"
   },
   {
    "duration": 12781,
    "start_time": "2021-06-20T18:29:22.711Z"
   },
   {
    "duration": 196,
    "start_time": "2021-06-20T18:29:35.494Z"
   },
   {
    "duration": 31964,
    "start_time": "2021-06-20T18:29:35.693Z"
   },
   {
    "duration": 12,
    "start_time": "2021-06-20T18:30:07.660Z"
   },
   {
    "duration": 10364,
    "start_time": "2021-06-20T18:30:07.674Z"
   },
   {
    "duration": 6,
    "start_time": "2021-06-20T18:30:18.042Z"
   },
   {
    "duration": 57,
    "start_time": "2021-06-20T18:30:18.051Z"
   },
   {
    "duration": 70,
    "start_time": "2021-06-20T18:30:18.111Z"
   },
   {
    "duration": 8061,
    "start_time": "2021-06-20T18:30:18.184Z"
   },
   {
    "duration": 16,
    "start_time": "2021-06-20T18:30:26.248Z"
   },
   {
    "duration": 36,
    "start_time": "2021-06-20T18:30:26.266Z"
   },
   {
    "duration": 397,
    "start_time": "2021-06-20T18:30:26.305Z"
   },
   {
    "duration": -409,
    "start_time": "2021-06-20T18:30:27.114Z"
   },
   {
    "duration": -410,
    "start_time": "2021-06-20T18:30:27.116Z"
   },
   {
    "duration": -410,
    "start_time": "2021-06-20T18:30:27.118Z"
   },
   {
    "duration": -411,
    "start_time": "2021-06-20T18:30:27.120Z"
   },
   {
    "duration": -419,
    "start_time": "2021-06-20T18:30:27.130Z"
   },
   {
    "duration": -420,
    "start_time": "2021-06-20T18:30:27.132Z"
   },
   {
    "duration": 31,
    "start_time": "2021-06-20T18:32:16.161Z"
   },
   {
    "duration": 31,
    "start_time": "2021-06-20T18:32:17.923Z"
   },
   {
    "duration": 31,
    "start_time": "2021-06-20T18:32:18.094Z"
   },
   {
    "duration": 33,
    "start_time": "2021-06-20T18:32:19.214Z"
   },
   {
    "duration": 22,
    "start_time": "2021-06-20T18:32:19.788Z"
   },
   {
    "duration": 324326,
    "start_time": "2021-06-20T18:32:19.944Z"
   },
   {
    "duration": 4,
    "start_time": "2021-06-20T18:37:44.272Z"
   },
   {
    "duration": 438153,
    "start_time": "2021-06-20T18:37:44.278Z"
   },
   {
    "duration": 5760,
    "start_time": "2021-06-20T18:45:29.657Z"
   },
   {
    "duration": 5,
    "start_time": "2021-06-20T18:45:42.576Z"
   },
   {
    "duration": 1639,
    "start_time": "2021-06-20T18:46:12.565Z"
   },
   {
    "duration": 4049,
    "start_time": "2021-06-20T18:46:15.720Z"
   },
   {
    "duration": 5032,
    "start_time": "2021-06-20T18:46:20.757Z"
   },
   {
    "duration": 12835,
    "start_time": "2021-06-20T18:46:35.159Z"
   },
   {
    "duration": 194,
    "start_time": "2021-06-20T18:46:47.997Z"
   },
   {
    "duration": 32569,
    "start_time": "2021-06-20T18:46:48.202Z"
   },
   {
    "duration": 12,
    "start_time": "2021-06-20T18:47:20.774Z"
   },
   {
    "duration": 11824,
    "start_time": "2021-06-20T18:47:20.788Z"
   },
   {
    "duration": 6,
    "start_time": "2021-06-20T18:47:32.615Z"
   },
   {
    "duration": 45,
    "start_time": "2021-06-20T18:47:32.624Z"
   },
   {
    "duration": 96,
    "start_time": "2021-06-20T18:47:32.674Z"
   },
   {
    "duration": 7965,
    "start_time": "2021-06-20T18:47:32.773Z"
   },
   {
    "duration": 15,
    "start_time": "2021-06-20T18:47:40.740Z"
   },
   {
    "duration": 11,
    "start_time": "2021-06-20T18:47:40.758Z"
   },
   {
    "duration": 435,
    "start_time": "2021-06-20T18:47:40.771Z"
   },
   {
    "duration": -446,
    "start_time": "2021-06-20T18:47:41.654Z"
   },
   {
    "duration": -447,
    "start_time": "2021-06-20T18:47:41.657Z"
   },
   {
    "duration": -449,
    "start_time": "2021-06-20T18:47:41.660Z"
   },
   {
    "duration": -450,
    "start_time": "2021-06-20T18:47:41.663Z"
   },
   {
    "duration": -453,
    "start_time": "2021-06-20T18:47:41.667Z"
   },
   {
    "duration": -455,
    "start_time": "2021-06-20T18:47:41.671Z"
   },
   {
    "duration": 31,
    "start_time": "2021-06-20T18:48:52.335Z"
   },
   {
    "duration": 30,
    "start_time": "2021-06-20T18:48:53.042Z"
   },
   {
    "duration": 30,
    "start_time": "2021-06-20T18:48:55.116Z"
   },
   {
    "duration": 26,
    "start_time": "2021-06-20T18:48:55.927Z"
   },
   {
    "duration": 278174,
    "start_time": "2021-06-20T18:48:56.192Z"
   },
   {
    "duration": 3,
    "start_time": "2021-06-20T18:53:34.369Z"
   },
   {
    "duration": 196808,
    "start_time": "2021-06-20T18:54:16.467Z"
   },
   {
    "duration": 79136,
    "start_time": "2021-06-20T18:57:41.540Z"
   },
   {
    "duration": 3,
    "start_time": "2021-06-20T18:59:00.679Z"
   },
   {
    "duration": 84065,
    "start_time": "2021-06-20T18:59:19.208Z"
   },
   {
    "duration": 5,
    "start_time": "2021-06-20T19:01:41.918Z"
   },
   {
    "duration": 6743,
    "start_time": "2021-06-20T19:02:10.660Z"
   },
   {
    "duration": 15550,
    "start_time": "2021-06-20T19:13:52.556Z"
   },
   {
    "duration": 43,
    "start_time": "2021-06-20T19:19:35.988Z"
   },
   {
    "duration": 15288,
    "start_time": "2021-06-20T19:19:59.969Z"
   },
   {
    "duration": 15347,
    "start_time": "2021-06-20T19:20:46.058Z"
   },
   {
    "duration": 62084,
    "start_time": "2021-06-20T19:23:05.502Z"
   },
   {
    "duration": 7,
    "start_time": "2021-06-20T19:24:44.513Z"
   },
   {
    "duration": 40640,
    "start_time": "2021-06-20T19:24:53.667Z"
   },
   {
    "duration": 6,
    "start_time": "2021-06-20T19:25:39.968Z"
   },
   {
    "duration": 11427,
    "start_time": "2021-06-20T19:28:02.090Z"
   },
   {
    "duration": 21189,
    "start_time": "2021-06-20T19:28:38.362Z"
   },
   {
    "duration": 6,
    "start_time": "2021-06-20T19:30:01.466Z"
   },
   {
    "duration": 42,
    "start_time": "2021-06-20T19:39:02.787Z"
   },
   {
    "duration": 308,
    "start_time": "2021-06-20T19:55:37.976Z"
   },
   {
    "duration": 41,
    "start_time": "2021-06-20T19:55:44.396Z"
   },
   {
    "duration": 264,
    "start_time": "2021-06-20T19:55:45.489Z"
   },
   {
    "duration": 254,
    "start_time": "2021-06-20T19:55:54.296Z"
   },
   {
    "duration": 32,
    "start_time": "2021-06-20T19:56:01.181Z"
   },
   {
    "duration": 6,
    "start_time": "2021-06-20T19:56:39.174Z"
   },
   {
    "duration": 7,
    "start_time": "2021-06-20T19:56:46.914Z"
   },
   {
    "duration": 6,
    "start_time": "2021-06-20T19:56:53.939Z"
   },
   {
    "duration": 249,
    "start_time": "2021-06-20T19:56:56.409Z"
   },
   {
    "duration": 40231,
    "start_time": "2021-06-20T20:12:09.190Z"
   },
   {
    "duration": 6,
    "start_time": "2021-06-20T20:12:49.424Z"
   },
   {
    "duration": 11034,
    "start_time": "2021-06-20T20:13:12.252Z"
   },
   {
    "duration": 7,
    "start_time": "2021-06-20T20:13:52.636Z"
   },
   {
    "duration": 5,
    "start_time": "2021-06-20T20:14:10.136Z"
   },
   {
    "duration": 7297,
    "start_time": "2021-06-20T20:14:32.457Z"
   },
   {
    "duration": 48,
    "start_time": "2021-06-20T20:15:01.100Z"
   },
   {
    "duration": 34,
    "start_time": "2021-06-20T20:15:02.841Z"
   },
   {
    "duration": 419,
    "start_time": "2021-06-20T20:15:03.632Z"
   },
   {
    "duration": 2808,
    "start_time": "2021-06-20T20:15:25.486Z"
   },
   {
    "duration": 496,
    "start_time": "2021-06-21T07:39:44.772Z"
   },
   {
    "duration": 1712,
    "start_time": "2021-06-21T07:39:48.207Z"
   },
   {
    "duration": 4247,
    "start_time": "2021-06-21T07:39:49.922Z"
   },
   {
    "duration": 5189,
    "start_time": "2021-06-21T07:39:54.173Z"
   },
   {
    "duration": 13995,
    "start_time": "2021-06-21T07:39:59.365Z"
   },
   {
    "duration": 13258,
    "start_time": "2021-06-21T07:40:40.347Z"
   },
   {
    "duration": 256,
    "start_time": "2021-06-21T07:40:53.607Z"
   },
   {
    "duration": 36036,
    "start_time": "2021-06-21T07:46:34.356Z"
   },
   {
    "duration": 5,
    "start_time": "2021-06-21T07:47:10.395Z"
   },
   {
    "duration": 43,
    "start_time": "2021-06-21T08:00:17.607Z"
   },
   {
    "duration": 5,
    "start_time": "2021-06-21T08:00:18.717Z"
   },
   {
    "duration": 97,
    "start_time": "2021-06-21T08:00:20.342Z"
   },
   {
    "duration": 125729,
    "start_time": "2021-06-21T08:00:23.007Z"
   },
   {
    "duration": 57,
    "start_time": "2021-06-21T08:17:19.653Z"
   },
   {
    "duration": 11,
    "start_time": "2021-06-21T08:17:20.613Z"
   },
   {
    "duration": 29,
    "start_time": "2021-06-21T08:17:21.727Z"
   },
   {
    "duration": 30,
    "start_time": "2021-06-21T08:17:22.797Z"
   },
   {
    "duration": 31,
    "start_time": "2021-06-21T08:17:23.637Z"
   },
   {
    "duration": 6,
    "start_time": "2021-06-21T08:17:46.210Z"
   },
   {
    "duration": 6,
    "start_time": "2021-06-21T08:17:51.272Z"
   },
   {
    "duration": 6,
    "start_time": "2021-06-21T08:17:55.368Z"
   },
   {
    "duration": 6,
    "start_time": "2021-06-21T08:17:58.109Z"
   },
   {
    "duration": 896,
    "start_time": "2021-06-21T08:18:00.120Z"
   },
   {
    "duration": 6,
    "start_time": "2021-06-21T08:18:05.240Z"
   },
   {
    "duration": 6,
    "start_time": "2021-06-21T08:18:22.679Z"
   },
   {
    "duration": 11267,
    "start_time": "2021-06-21T08:18:25.503Z"
   },
   {
    "duration": 6,
    "start_time": "2021-06-21T08:18:36.772Z"
   },
   {
    "duration": 3144,
    "start_time": "2021-06-21T08:18:36.781Z"
   },
   {
    "duration": 6,
    "start_time": "2021-06-21T08:20:28.486Z"
   },
   {
    "duration": 1111,
    "start_time": "2021-06-21T08:20:53.180Z"
   },
   {
    "duration": 2048,
    "start_time": "2021-06-21T08:21:30.967Z"
   },
   {
    "duration": 1643,
    "start_time": "2021-06-21T08:21:53.994Z"
   },
   {
    "duration": 53,
    "start_time": "2021-06-21T08:22:07.445Z"
   },
   {
    "duration": 3101,
    "start_time": "2021-06-21T08:22:08.079Z"
   },
   {
    "duration": 48,
    "start_time": "2021-06-21T08:22:11.182Z"
   },
   {
    "duration": 463,
    "start_time": "2021-06-21T08:22:16.210Z"
   },
   {
    "duration": 24,
    "start_time": "2021-06-21T08:25:56.787Z"
   },
   {
    "duration": 349,
    "start_time": "2021-06-21T08:25:57.521Z"
   },
   {
    "duration": 11,
    "start_time": "2021-06-21T08:59:20.062Z"
   },
   {
    "duration": 432,
    "start_time": "2021-06-21T08:59:30.798Z"
   },
   {
    "duration": 8,
    "start_time": "2021-06-21T08:59:49.235Z"
   },
   {
    "duration": 2586,
    "start_time": "2021-06-21T08:59:49.404Z"
   },
   {
    "duration": 49,
    "start_time": "2021-06-21T08:59:51.993Z"
   },
   {
    "duration": 343,
    "start_time": "2021-06-21T08:59:52.045Z"
   },
   {
    "duration": 8,
    "start_time": "2021-06-21T08:59:53.957Z"
   },
   {
    "duration": 8,
    "start_time": "2021-06-21T09:00:33.878Z"
   },
   {
    "duration": 6,
    "start_time": "2021-06-21T09:28:26.139Z"
   },
   {
    "duration": 11068,
    "start_time": "2021-06-21T09:28:30.904Z"
   },
   {
    "duration": 6,
    "start_time": "2021-06-21T09:28:42.598Z"
   },
   {
    "duration": 8,
    "start_time": "2021-06-21T09:28:43.679Z"
   },
   {
    "duration": 3281,
    "start_time": "2021-06-21T09:28:48.231Z"
   },
   {
    "duration": 41,
    "start_time": "2021-06-21T09:28:51.514Z"
   },
   {
    "duration": 8,
    "start_time": "2021-06-21T09:28:51.558Z"
   },
   {
    "duration": 8,
    "start_time": "2021-06-21T09:28:51.569Z"
   },
   {
    "duration": 542,
    "start_time": "2021-06-21T09:28:51.580Z"
   },
   {
    "duration": 4,
    "start_time": "2021-06-21T09:29:05.800Z"
   },
   {
    "duration": 6,
    "start_time": "2021-06-21T09:29:05.987Z"
   },
   {
    "duration": 66,
    "start_time": "2021-06-21T09:29:06.127Z"
   },
   {
    "duration": 9,
    "start_time": "2021-06-21T09:29:06.285Z"
   },
   {
    "duration": 9,
    "start_time": "2021-06-21T09:29:07.064Z"
   },
   {
    "duration": 8056,
    "start_time": "2021-06-21T09:29:07.215Z"
   },
   {
    "duration": 16,
    "start_time": "2021-06-21T09:29:20.441Z"
   },
   {
    "duration": 32,
    "start_time": "2021-06-21T09:29:20.600Z"
   },
   {
    "duration": 12,
    "start_time": "2021-06-21T09:35:58.408Z"
   },
   {
    "duration": 102912,
    "start_time": "2021-06-21T09:36:01.770Z"
   },
   {
    "duration": 259,
    "start_time": "2021-06-21T09:45:46.809Z"
   },
   {
    "duration": 3,
    "start_time": "2021-06-21T09:45:49.005Z"
   },
   {
    "duration": 263,
    "start_time": "2021-06-21T09:45:49.178Z"
   },
   {
    "duration": 299,
    "start_time": "2021-06-21T09:46:14.348Z"
   },
   {
    "duration": 246,
    "start_time": "2021-06-21T09:48:45.945Z"
   },
   {
    "duration": 760965,
    "start_time": "2021-06-21T09:49:07.464Z"
   },
   {
    "duration": 5,
    "start_time": "2021-06-21T10:04:40.015Z"
   },
   {
    "duration": 1179817,
    "start_time": "2021-06-21T10:05:34.781Z"
   },
   {
    "duration": 320,
    "start_time": "2021-06-21T10:25:14.600Z"
   },
   {
    "duration": 225,
    "start_time": "2021-06-21T10:25:33.612Z"
   },
   {
    "duration": 131,
    "start_time": "2021-06-21T10:25:38.064Z"
   },
   {
    "duration": 244,
    "start_time": "2021-06-21T10:25:40.385Z"
   },
   {
    "duration": 30,
    "start_time": "2021-06-21T10:27:08.615Z"
   },
   {
    "duration": 4,
    "start_time": "2021-06-21T10:27:14.521Z"
   },
   {
    "duration": 15,
    "start_time": "2021-06-21T11:11:54.710Z"
   },
   {
    "duration": 1710,
    "start_time": "2021-06-21T11:12:17.930Z"
   },
   {
    "duration": 8194,
    "start_time": "2021-06-21T11:12:21.762Z"
   },
   {
    "duration": 5119,
    "start_time": "2021-06-21T11:12:29.959Z"
   },
   {
    "duration": 13553,
    "start_time": "2021-06-21T11:12:35.081Z"
   },
   {
    "duration": 229,
    "start_time": "2021-06-21T11:12:48.637Z"
   },
   {
    "duration": 11560,
    "start_time": "2021-06-21T11:12:48.868Z"
   },
   {
    "duration": 6,
    "start_time": "2021-06-21T11:13:00.430Z"
   },
   {
    "duration": 10,
    "start_time": "2021-06-21T11:13:00.438Z"
   },
   {
    "duration": 16,
    "start_time": "2021-06-21T11:13:00.452Z"
   },
   {
    "duration": 90,
    "start_time": "2021-06-21T11:13:00.471Z"
   },
   {
    "duration": 9,
    "start_time": "2021-06-21T11:13:00.564Z"
   },
   {
    "duration": 21,
    "start_time": "2021-06-21T11:13:00.575Z"
   },
   {
    "duration": 7976,
    "start_time": "2021-06-21T11:13:00.599Z"
   },
   {
    "duration": 16,
    "start_time": "2021-06-21T11:13:08.577Z"
   },
   {
    "duration": 57,
    "start_time": "2021-06-21T11:13:08.595Z"
   },
   {
    "duration": 30,
    "start_time": "2021-06-21T11:13:08.655Z"
   },
   {
    "duration": 101515,
    "start_time": "2021-06-21T11:13:08.687Z"
   },
   {
    "duration": 19,
    "start_time": "2021-06-21T11:14:50.308Z"
   },
   {
    "duration": 21,
    "start_time": "2021-06-21T11:15:21.850Z"
   },
   {
    "duration": 161612,
    "start_time": "2021-06-21T11:15:41.074Z"
   },
   {
    "duration": 126,
    "start_time": "2021-06-21T11:18:22.688Z"
   },
   {
    "duration": 10,
    "start_time": "2021-06-21T11:18:22.807Z"
   },
   {
    "duration": 133,
    "start_time": "2021-06-21T11:18:45.811Z"
   },
   {
    "duration": 4,
    "start_time": "2021-06-21T11:19:03.370Z"
   },
   {
    "duration": 128,
    "start_time": "2021-06-21T11:19:04.587Z"
   },
   {
    "duration": 506,
    "start_time": "2021-06-21T11:19:13.861Z"
   },
   {
    "duration": 4,
    "start_time": "2021-06-21T11:22:09.767Z"
   },
   {
    "duration": 831,
    "start_time": "2021-06-21T11:22:10.800Z"
   },
   {
    "duration": 4,
    "start_time": "2021-06-21T11:22:21.824Z"
   },
   {
    "duration": 5986,
    "start_time": "2021-06-21T11:22:23.444Z"
   },
   {
    "duration": 2760440,
    "start_time": "2021-06-21T11:22:32.073Z"
   },
   {
    "duration": 4,
    "start_time": "2021-06-21T12:09:00.320Z"
   },
   {
    "duration": 226374,
    "start_time": "2021-06-21T12:09:01.119Z"
   },
   {
    "duration": -4,
    "start_time": "2021-06-21T12:12:47.499Z"
   },
   {
    "duration": 487081,
    "start_time": "2021-06-21T12:12:50.004Z"
   },
   {
    "duration": 4,
    "start_time": "2021-06-21T12:21:32.716Z"
   },
   {
    "duration": 493339,
    "start_time": "2021-06-21T12:21:33.871Z"
   },
   {
    "duration": 4,
    "start_time": "2021-06-21T12:30:01.135Z"
   },
   {
    "duration": 555385,
    "start_time": "2021-06-21T12:30:01.943Z"
   },
   {
    "duration": 6,
    "start_time": "2021-06-21T12:58:27.337Z"
   },
   {
    "duration": 4,
    "start_time": "2021-06-21T12:58:41.878Z"
   },
   {
    "duration": 4,
    "start_time": "2021-06-21T12:58:50.819Z"
   },
   {
    "duration": 480721,
    "start_time": "2021-06-21T12:58:56.664Z"
   },
   {
    "duration": 323,
    "start_time": "2021-06-21T13:06:57.388Z"
   },
   {
    "duration": 6,
    "start_time": "2021-06-21T14:12:16.310Z"
   },
   {
    "duration": 1876,
    "start_time": "2021-06-21T14:12:44.732Z"
   },
   {
    "duration": 4222,
    "start_time": "2021-06-21T14:12:48.455Z"
   },
   {
    "duration": 5278,
    "start_time": "2021-06-21T14:12:52.680Z"
   },
   {
    "duration": 13391,
    "start_time": "2021-06-21T14:12:57.961Z"
   },
   {
    "duration": 237,
    "start_time": "2021-06-21T14:13:11.355Z"
   },
   {
    "duration": 11256,
    "start_time": "2021-06-21T14:13:11.596Z"
   },
   {
    "duration": 5,
    "start_time": "2021-06-21T14:13:22.855Z"
   },
   {
    "duration": 10,
    "start_time": "2021-06-21T14:13:22.862Z"
   },
   {
    "duration": 7,
    "start_time": "2021-06-21T14:13:22.875Z"
   },
   {
    "duration": 88,
    "start_time": "2021-06-21T14:13:22.885Z"
   },
   {
    "duration": 8,
    "start_time": "2021-06-21T14:13:22.976Z"
   },
   {
    "duration": 8,
    "start_time": "2021-06-21T14:13:22.987Z"
   },
   {
    "duration": 9382,
    "start_time": "2021-06-21T14:13:22.997Z"
   },
   {
    "duration": 14,
    "start_time": "2021-06-21T14:13:32.426Z"
   },
   {
    "duration": 32,
    "start_time": "2021-06-21T14:13:32.442Z"
   },
   {
    "duration": 59,
    "start_time": "2021-06-21T14:13:32.477Z"
   },
   {
    "duration": 104327,
    "start_time": "2021-06-21T14:13:32.539Z"
   },
   {
    "duration": 92,
    "start_time": "2021-06-21T14:15:16.868Z"
   },
   {
    "duration": 860190,
    "start_time": "2021-06-21T14:15:16.963Z"
   },
   {
    "duration": 3,
    "start_time": "2021-06-21T14:29:37.156Z"
   },
   {
    "duration": 751,
    "start_time": "2021-06-21T14:29:37.162Z"
   },
   {
    "duration": 401,
    "start_time": "2021-06-21T14:29:37.918Z"
   },
   {
    "duration": 570,
    "start_time": "2021-06-21T14:29:38.322Z"
   },
   {
    "duration": 51,
    "start_time": "2021-06-21T14:29:38.844Z"
   },
   {
    "duration": 3,
    "start_time": "2021-06-21T15:19:41.361Z"
   },
   {
    "duration": 3,
    "start_time": "2021-06-21T15:19:42.136Z"
   },
   {
    "duration": 1237662,
    "start_time": "2021-06-21T15:19:49.391Z"
   },
   {
    "duration": 5,
    "start_time": "2021-06-21T15:40:27.056Z"
   },
   {
    "duration": 2946956,
    "start_time": "2021-06-21T15:40:27.064Z"
   },
   {
    "duration": 6,
    "start_time": "2021-06-21T16:29:34.026Z"
   },
   {
    "duration": 4,
    "start_time": "2021-06-21T16:29:34.035Z"
   },
   {
    "duration": 13465,
    "start_time": "2021-06-21T16:29:34.042Z"
   },
   {
    "duration": 5,
    "start_time": "2021-06-21T16:29:47.509Z"
   },
   {
    "duration": 4,
    "start_time": "2021-06-21T16:38:32.278Z"
   },
   {
    "duration": 102038,
    "start_time": "2021-06-21T16:38:33.904Z"
   },
   {
    "duration": 4,
    "start_time": "2021-06-21T16:40:32.680Z"
   },
   {
    "duration": 656010,
    "start_time": "2021-06-21T16:40:33.045Z"
   },
   {
    "duration": 2245,
    "start_time": "2021-06-21T19:19:26.603Z"
   },
   {
    "duration": 5786,
    "start_time": "2021-06-21T19:19:28.851Z"
   },
   {
    "duration": 7791,
    "start_time": "2021-06-21T19:19:34.641Z"
   },
   {
    "duration": 24336,
    "start_time": "2021-06-21T19:19:42.435Z"
   },
   {
    "duration": 309,
    "start_time": "2021-06-21T19:20:06.774Z"
   },
   {
    "duration": 11245,
    "start_time": "2021-06-21T19:20:07.085Z"
   },
   {
    "duration": 7,
    "start_time": "2021-06-21T19:20:18.332Z"
   },
   {
    "duration": 7,
    "start_time": "2021-06-21T19:20:18.341Z"
   },
   {
    "duration": 8,
    "start_time": "2021-06-21T19:20:18.353Z"
   },
   {
    "duration": 110,
    "start_time": "2021-06-21T19:20:18.365Z"
   },
   {
    "duration": 11,
    "start_time": "2021-06-21T19:20:18.478Z"
   },
   {
    "duration": 33,
    "start_time": "2021-06-21T19:20:18.492Z"
   },
   {
    "duration": 8136,
    "start_time": "2021-06-21T19:20:18.528Z"
   },
   {
    "duration": 17,
    "start_time": "2021-06-21T19:20:26.667Z"
   },
   {
    "duration": 61,
    "start_time": "2021-06-21T19:20:26.687Z"
   },
   {
    "duration": 32,
    "start_time": "2021-06-21T19:20:26.751Z"
   },
   {
    "duration": 103259,
    "start_time": "2021-06-21T19:20:26.786Z"
   },
   {
    "duration": 76,
    "start_time": "2021-06-21T19:22:10.048Z"
   },
   {
    "duration": 277876,
    "start_time": "2021-06-21T19:22:10.128Z"
   },
   {
    "duration": 5,
    "start_time": "2021-06-21T19:26:48.026Z"
   },
   {
    "duration": 10,
    "start_time": "2021-06-21T19:26:48.033Z"
   },
   {
    "duration": 689695,
    "start_time": "2021-06-21T19:26:48.045Z"
   },
   {
    "duration": 4,
    "start_time": "2021-06-21T19:38:17.743Z"
   },
   {
    "duration": 683779,
    "start_time": "2021-06-21T19:38:17.750Z"
   },
   {
    "duration": 326,
    "start_time": "2021-06-21T19:49:41.531Z"
   },
   {
    "duration": 164,
    "start_time": "2021-06-21T19:49:41.696Z"
   },
   {
    "duration": 152,
    "start_time": "2021-06-21T19:49:41.710Z"
   },
   {
    "duration": 150,
    "start_time": "2021-06-21T19:49:41.713Z"
   },
   {
    "duration": 149,
    "start_time": "2021-06-21T19:49:41.716Z"
   },
   {
    "duration": 349,
    "start_time": "2021-06-21T19:49:56.384Z"
   },
   {
    "duration": 339,
    "start_time": "2021-06-21T19:49:58.091Z"
   },
   {
    "duration": 7,
    "start_time": "2021-06-21T19:50:02.839Z"
   },
   {
    "duration": 7,
    "start_time": "2021-06-21T19:50:11.618Z"
   },
   {
    "duration": 385,
    "start_time": "2021-06-21T19:50:13.768Z"
   },
   {
    "duration": 10,
    "start_time": "2021-06-21T19:50:15.107Z"
   },
   {
    "duration": 348,
    "start_time": "2021-06-21T19:51:44.292Z"
   },
   {
    "duration": 4,
    "start_time": "2021-06-21T19:51:56.533Z"
   },
   {
    "duration": 51298,
    "start_time": "2021-06-21T19:51:57.410Z"
   },
   {
    "duration": 4,
    "start_time": "2021-06-21T19:53:18.243Z"
   },
   {
    "duration": 328894,
    "start_time": "2021-06-21T19:53:18.861Z"
   },
   {
    "duration": 4,
    "start_time": "2021-06-21T19:58:55.903Z"
   },
   {
    "duration": 95363,
    "start_time": "2021-06-21T19:58:56.394Z"
   },
   {
    "duration": 4,
    "start_time": "2021-06-21T20:00:33.440Z"
   },
   {
    "duration": 718885,
    "start_time": "2021-06-21T20:00:33.589Z"
   },
   {
    "duration": 7,
    "start_time": "2021-06-21T20:13:56.220Z"
   },
   {
    "duration": 5,
    "start_time": "2021-06-21T20:14:06.700Z"
   },
   {
    "duration": 8,
    "start_time": "2021-06-21T20:15:17.674Z"
   },
   {
    "duration": 8,
    "start_time": "2021-06-21T20:15:27.509Z"
   },
   {
    "duration": 723,
    "start_time": "2021-06-21T20:16:16.126Z"
   },
   {
    "duration": 362,
    "start_time": "2021-06-21T20:16:21.763Z"
   },
   {
    "duration": 106,
    "start_time": "2021-06-21T20:16:23.647Z"
   },
   {
    "duration": 23,
    "start_time": "2021-06-21T20:16:29.760Z"
   },
   {
    "duration": 723,
    "start_time": "2021-06-21T20:17:28.778Z"
   },
   {
    "duration": 49,
    "start_time": "2021-06-21T20:18:04.685Z"
   },
   {
    "duration": 664,
    "start_time": "2021-06-21T20:18:07.141Z"
   },
   {
    "duration": 398,
    "start_time": "2021-06-21T20:18:21.588Z"
   },
   {
    "duration": 329,
    "start_time": "2021-06-21T20:18:44.591Z"
   },
   {
    "duration": 718,
    "start_time": "2021-06-21T20:19:16.296Z"
   },
   {
    "duration": 43,
    "start_time": "2021-06-21T20:19:24.670Z"
   },
   {
    "duration": 675,
    "start_time": "2021-06-21T20:19:27.383Z"
   },
   {
    "duration": 60,
    "start_time": "2021-06-21T20:19:41.119Z"
   },
   {
    "duration": 8512,
    "start_time": "2021-06-21T20:20:31.660Z"
   },
   {
    "duration": 18,
    "start_time": "2021-06-21T20:21:04.629Z"
   },
   {
    "duration": 12,
    "start_time": "2021-06-21T20:21:06.443Z"
   },
   {
    "duration": 314,
    "start_time": "2021-06-21T20:21:11.167Z"
   },
   {
    "duration": 379,
    "start_time": "2021-06-21T20:21:29.698Z"
   },
   {
    "duration": 51,
    "start_time": "2021-06-21T20:21:32.439Z"
   },
   {
    "duration": 25,
    "start_time": "2021-06-21T20:21:32.606Z"
   },
   {
    "duration": 651,
    "start_time": "2021-06-21T20:21:34.212Z"
   },
   {
    "duration": 4,
    "start_time": "2021-06-21T20:21:40.831Z"
   },
   {
    "duration": 8,
    "start_time": "2021-06-21T20:21:41.301Z"
   },
   {
    "duration": 283,
    "start_time": "2021-06-21T20:21:41.957Z"
   },
   {
    "duration": 4,
    "start_time": "2021-06-21T20:21:58.873Z"
   },
   {
    "duration": 8,
    "start_time": "2021-06-21T20:21:59.301Z"
   },
   {
    "duration": 296,
    "start_time": "2021-06-21T20:21:59.471Z"
   },
   {
    "duration": 5,
    "start_time": "2021-06-21T20:22:11.494Z"
   },
   {
    "duration": 5,
    "start_time": "2021-06-21T20:22:17.426Z"
   },
   {
    "duration": 6,
    "start_time": "2021-06-21T20:22:20.527Z"
   },
   {
    "duration": 5,
    "start_time": "2021-06-21T20:22:56.450Z"
   },
   {
    "duration": 371,
    "start_time": "2021-06-21T20:24:05.327Z"
   },
   {
    "duration": 6,
    "start_time": "2021-06-21T20:24:11.449Z"
   },
   {
    "duration": 4,
    "start_time": "2021-06-21T20:24:18.908Z"
   },
   {
    "duration": 369,
    "start_time": "2021-06-21T20:24:19.261Z"
   },
   {
    "duration": 282,
    "start_time": "2021-06-21T20:24:19.830Z"
   },
   {
    "duration": 4,
    "start_time": "2021-06-21T20:24:37.087Z"
   },
   {
    "duration": 8,
    "start_time": "2021-06-21T20:24:37.681Z"
   },
   {
    "duration": 290,
    "start_time": "2021-06-21T20:24:39.491Z"
   },
   {
    "duration": 6,
    "start_time": "2021-06-21T20:25:05.945Z"
   },
   {
    "duration": 6,
    "start_time": "2021-06-21T20:25:10.168Z"
   },
   {
    "duration": 6,
    "start_time": "2021-06-21T20:25:13.411Z"
   },
   {
    "duration": 14,
    "start_time": "2021-06-21T20:25:32.553Z"
   },
   {
    "duration": 6,
    "start_time": "2021-06-21T20:25:37.255Z"
   },
   {
    "duration": 4,
    "start_time": "2021-06-21T20:25:59.272Z"
   },
   {
    "duration": 360,
    "start_time": "2021-06-21T20:25:59.635Z"
   },
   {
    "duration": 4,
    "start_time": "2021-06-21T20:26:17.884Z"
   },
   {
    "duration": 320,
    "start_time": "2021-06-21T20:26:18.345Z"
   },
   {
    "duration": 5,
    "start_time": "2021-06-21T20:26:36.289Z"
   },
   {
    "duration": 7,
    "start_time": "2021-06-21T20:26:40.738Z"
   },
   {
    "duration": 6,
    "start_time": "2021-06-21T20:26:50.519Z"
   },
   {
    "duration": 5,
    "start_time": "2021-06-21T20:26:52.753Z"
   },
   {
    "duration": 6,
    "start_time": "2021-06-21T20:26:57.368Z"
   },
   {
    "duration": 6,
    "start_time": "2021-06-21T20:26:59.522Z"
   },
   {
    "duration": 5,
    "start_time": "2021-06-21T20:27:03.304Z"
   },
   {
    "duration": 6,
    "start_time": "2021-06-21T20:27:06.185Z"
   },
   {
    "duration": 4,
    "start_time": "2021-06-21T20:27:13.072Z"
   },
   {
    "duration": 8,
    "start_time": "2021-06-21T20:27:13.475Z"
   },
   {
    "duration": 5,
    "start_time": "2021-06-21T20:27:22.539Z"
   },
   {
    "duration": 257,
    "start_time": "2021-06-21T20:27:26.642Z"
   },
   {
    "duration": 3,
    "start_time": "2021-06-21T20:27:38.319Z"
   },
   {
    "duration": 347,
    "start_time": "2021-06-21T20:27:38.503Z"
   },
   {
    "duration": 1333,
    "start_time": "2021-06-21T20:34:01.392Z"
   },
   {
    "duration": 351,
    "start_time": "2021-06-21T20:34:03.644Z"
   },
   {
    "duration": 3152,
    "start_time": "2021-06-21T20:34:14.784Z"
   },
   {
    "duration": 2432,
    "start_time": "2021-06-21T20:34:26.517Z"
   },
   {
    "duration": 9050,
    "start_time": "2021-06-21T20:34:31.278Z"
   },
   {
    "duration": 478378,
    "start_time": "2021-06-21T20:34:40.330Z"
   },
   {
    "duration": 862,
    "start_time": "2021-06-21T20:45:25.136Z"
   },
   {
    "duration": 3,
    "start_time": "2021-06-21T20:45:26.102Z"
   },
   {
    "duration": 321335,
    "start_time": "2021-06-21T20:45:27.067Z"
   },
   {
    "duration": 4,
    "start_time": "2021-06-21T20:52:53.052Z"
   },
   {
    "duration": 6343,
    "start_time": "2021-06-21T20:53:05.763Z"
   },
   {
    "duration": 374,
    "start_time": "2021-06-21T20:53:24.522Z"
   },
   {
    "duration": 1313,
    "start_time": "2021-06-21T20:53:40.990Z"
   },
   {
    "duration": 389,
    "start_time": "2021-06-21T20:54:11.226Z"
   },
   {
    "duration": 10120,
    "start_time": "2021-06-21T20:54:15.227Z"
   },
   {
    "duration": 825,
    "start_time": "2021-06-21T20:54:42.709Z"
   },
   {
    "duration": 22,
    "start_time": "2021-06-21T20:54:50.865Z"
   },
   {
    "duration": 1863,
    "start_time": "2021-06-21T20:54:51.048Z"
   },
   {
    "duration": 2455,
    "start_time": "2021-06-21T20:54:52.913Z"
   },
   {
    "duration": 22224,
    "start_time": "2021-06-21T20:55:01.418Z"
   },
   {
    "duration": 3,
    "start_time": "2021-06-21T20:58:42.888Z"
   },
   {
    "duration": 121,
    "start_time": "2021-06-21T20:59:09.237Z"
   },
   {
    "duration": 10055,
    "start_time": "2021-06-21T20:59:10.717Z"
   },
   {
    "duration": 389,
    "start_time": "2021-06-21T21:03:31.693Z"
   },
   {
    "duration": 10226,
    "start_time": "2021-06-21T21:03:34.878Z"
   },
   {
    "duration": 10278,
    "start_time": "2021-06-21T21:03:47.468Z"
   },
   {
    "duration": 1372,
    "start_time": "2021-06-21T21:03:57.749Z"
   },
   {
    "duration": 899,
    "start_time": "2021-06-21T21:04:03.528Z"
   },
   {
    "duration": 4,
    "start_time": "2021-06-21T21:04:06.030Z"
   },
   {
    "duration": 382985,
    "start_time": "2021-06-21T21:04:07.543Z"
   },
   {
    "duration": 5831,
    "start_time": "2021-06-21T21:10:30.531Z"
   },
   {
    "duration": 572069,
    "start_time": "2021-06-21T21:10:36.365Z"
   },
   {
    "duration": 128,
    "start_time": "2021-06-21T21:20:08.310Z"
   },
   {
    "duration": 124,
    "start_time": "2021-06-21T21:20:08.316Z"
   },
   {
    "duration": 1705450,
    "start_time": "2021-06-21T21:20:11.064Z"
   },
   {
    "duration": 1509,
    "start_time": "2021-06-21T21:48:47.276Z"
   },
   {
    "duration": 4746,
    "start_time": "2021-06-21T21:48:48.788Z"
   },
   {
    "duration": 5092,
    "start_time": "2021-06-21T21:48:53.537Z"
   },
   {
    "duration": 13587,
    "start_time": "2021-06-21T21:48:58.632Z"
   },
   {
    "duration": 249,
    "start_time": "2021-06-21T21:49:12.225Z"
   },
   {
    "duration": 11295,
    "start_time": "2021-06-21T21:49:12.477Z"
   },
   {
    "duration": 6,
    "start_time": "2021-06-21T21:49:23.774Z"
   },
   {
    "duration": 6,
    "start_time": "2021-06-21T21:49:23.783Z"
   },
   {
    "duration": 6,
    "start_time": "2021-06-21T21:49:23.792Z"
   },
   {
    "duration": 71,
    "start_time": "2021-06-21T21:49:23.825Z"
   },
   {
    "duration": 28,
    "start_time": "2021-06-21T21:49:23.898Z"
   },
   {
    "duration": 8,
    "start_time": "2021-06-21T21:49:23.929Z"
   },
   {
    "duration": 8133,
    "start_time": "2021-06-21T21:49:23.939Z"
   },
   {
    "duration": 16,
    "start_time": "2021-06-21T21:49:32.074Z"
   },
   {
    "duration": 53,
    "start_time": "2021-06-21T21:49:32.093Z"
   },
   {
    "duration": 31,
    "start_time": "2021-06-21T21:49:32.148Z"
   },
   {
    "duration": 106521,
    "start_time": "2021-06-21T21:49:32.182Z"
   },
   {
    "duration": 29,
    "start_time": "2021-06-21T21:51:18.707Z"
   },
   {
    "duration": 162255,
    "start_time": "2021-06-21T21:51:18.738Z"
   },
   {
    "duration": 4,
    "start_time": "2021-06-21T21:54:00.995Z"
   },
   {
    "duration": 1713,
    "start_time": "2021-06-21T22:27:28.262Z"
   },
   {
    "duration": 4284,
    "start_time": "2021-06-21T22:27:32.522Z"
   },
   {
    "duration": 5217,
    "start_time": "2021-06-21T22:27:36.808Z"
   },
   {
    "duration": 13437,
    "start_time": "2021-06-21T22:27:42.028Z"
   },
   {
    "duration": 268,
    "start_time": "2021-06-21T22:27:55.468Z"
   },
   {
    "duration": 11280,
    "start_time": "2021-06-21T22:27:55.739Z"
   },
   {
    "duration": 7,
    "start_time": "2021-06-21T22:28:07.021Z"
   },
   {
    "duration": 7,
    "start_time": "2021-06-21T22:28:07.030Z"
   },
   {
    "duration": 514,
    "start_time": "2021-06-21T22:28:51.253Z"
   },
   {
    "duration": 13697,
    "start_time": "2021-06-21T22:29:03.034Z"
   },
   {
    "duration": 418,
    "start_time": "2021-06-21T22:29:18.440Z"
   },
   {
    "duration": 7791,
    "start_time": "2021-06-21T22:31:12.599Z"
   },
   {
    "duration": 368,
    "start_time": "2021-06-21T22:31:21.589Z"
   },
   {
    "duration": 7897,
    "start_time": "2021-06-21T22:31:26.299Z"
   },
   {
    "duration": 398,
    "start_time": "2021-06-21T22:31:35.500Z"
   },
   {
    "duration": 1561,
    "start_time": "2021-06-22T04:03:00.825Z"
   },
   {
    "duration": 4620,
    "start_time": "2021-06-22T04:03:04.619Z"
   },
   {
    "duration": 4524,
    "start_time": "2021-06-22T04:03:19.061Z"
   },
   {
    "duration": 12088,
    "start_time": "2021-06-22T04:04:09.939Z"
   },
   {
    "duration": 236,
    "start_time": "2021-06-22T04:06:44.835Z"
   },
   {
    "duration": 9864,
    "start_time": "2021-06-22T04:06:46.898Z"
   },
   {
    "duration": 5,
    "start_time": "2021-06-22T04:07:24.052Z"
   },
   {
    "duration": 4,
    "start_time": "2021-06-22T04:07:27.914Z"
   },
   {
    "duration": 6,
    "start_time": "2021-06-22T04:07:28.792Z"
   },
   {
    "duration": 64,
    "start_time": "2021-06-22T04:07:29.579Z"
   },
   {
    "duration": 8,
    "start_time": "2021-06-22T04:07:31.091Z"
   },
   {
    "duration": 9,
    "start_time": "2021-06-22T04:07:32.082Z"
   },
   {
    "duration": 8104,
    "start_time": "2021-06-22T04:07:38.316Z"
   },
   {
    "duration": 16,
    "start_time": "2021-06-22T04:07:52.026Z"
   },
   {
    "duration": 31,
    "start_time": "2021-06-22T04:07:52.652Z"
   },
   {
    "duration": 29,
    "start_time": "2021-06-22T04:07:56.587Z"
   },
   {
    "duration": 87758,
    "start_time": "2021-06-22T04:07:58.219Z"
   },
   {
    "duration": 20,
    "start_time": "2021-06-22T04:09:25.983Z"
   },
   {
    "duration": 161836,
    "start_time": "2021-06-22T04:09:26.005Z"
   },
   {
    "duration": 3,
    "start_time": "2021-06-22T04:12:07.884Z"
   },
   {
    "duration": 1257686,
    "start_time": "2021-06-22T04:12:34.253Z"
   },
   {
    "duration": 6,
    "start_time": "2021-06-22T04:33:31.943Z"
   },
   {
    "duration": 3715,
    "start_time": "2021-06-22T05:01:17.584Z"
   },
   {
    "duration": 1829,
    "start_time": "2021-06-22T05:01:21.302Z"
   },
   {
    "duration": 5937,
    "start_time": "2021-06-22T05:03:45.551Z"
   },
   {
    "duration": 784,
    "start_time": "2021-06-22T05:04:09.295Z"
   },
   {
    "duration": 3,
    "start_time": "2021-06-22T05:04:11.267Z"
   },
   {
    "duration": 336357,
    "start_time": "2021-06-22T05:04:13.586Z"
   },
   {
    "duration": 5946,
    "start_time": "2021-06-22T05:13:39.329Z"
   },
   {
    "duration": 1164514,
    "start_time": "2021-06-22T05:13:51.085Z"
   },
   {
    "duration": -77,
    "start_time": "2021-06-22T05:33:15.680Z"
   },
   {
    "duration": -78,
    "start_time": "2021-06-22T05:33:15.684Z"
   },
   {
    "duration": 1552,
    "start_time": "2021-06-23T16:57:40.138Z"
   },
   {
    "duration": 4778,
    "start_time": "2021-06-23T16:57:41.694Z"
   },
   {
    "duration": 12100,
    "start_time": "2021-06-23T16:57:46.483Z"
   },
   {
    "duration": 4685,
    "start_time": "2021-06-23T16:58:04.651Z"
   },
   {
    "duration": 4476,
    "start_time": "2021-06-23T18:12:13.280Z"
   },
   {
    "duration": 2040,
    "start_time": "2021-06-23T18:12:17.758Z"
   },
   {
    "duration": 5885,
    "start_time": "2021-06-23T18:12:19.804Z"
   },
   {
    "duration": 3,
    "start_time": "2021-06-23T18:12:25.692Z"
   },
   {
    "duration": 4,
    "start_time": "2021-06-23T18:12:33.449Z"
   },
   {
    "duration": 824,
    "start_time": "2021-06-23T18:12:43.467Z"
   },
   {
    "duration": 666,
    "start_time": "2021-06-23T18:18:30.270Z"
   },
   {
    "duration": 13,
    "start_time": "2021-06-23T18:18:34.173Z"
   },
   {
    "duration": 287,
    "start_time": "2021-06-23T18:21:17.743Z"
   },
   {
    "duration": 310,
    "start_time": "2021-06-23T18:22:18.092Z"
   },
   {
    "duration": 291,
    "start_time": "2021-06-23T18:25:33.839Z"
   },
   {
    "duration": 1247,
    "start_time": "2021-06-23T18:25:36.502Z"
   },
   {
    "duration": 1232,
    "start_time": "2021-06-23T18:25:38.744Z"
   },
   {
    "duration": 4,
    "start_time": "2021-06-23T18:25:39.979Z"
   },
   {
    "duration": 447981,
    "start_time": "2021-06-23T18:25:39.986Z"
   },
   {
    "duration": 4,
    "start_time": "2021-06-23T18:33:07.969Z"
   },
   {
    "duration": 333,
    "start_time": "2021-06-23T18:33:07.984Z"
   },
   {
    "duration": 103,
    "start_time": "2021-06-23T18:34:52.744Z"
   },
   {
    "duration": 7,
    "start_time": "2021-06-23T18:34:55.905Z"
   },
   {
    "duration": 304,
    "start_time": "2021-06-23T18:34:59.938Z"
   },
   {
    "duration": 27,
    "start_time": "2021-06-23T18:35:07.318Z"
   },
   {
    "duration": -915,
    "start_time": "2021-06-23T18:35:32.765Z"
   },
   {
    "duration": 6,
    "start_time": "2021-06-23T18:35:35.315Z"
   },
   {
    "duration": 603,
    "start_time": "2021-06-23T18:35:43.210Z"
   },
   {
    "duration": 7,
    "start_time": "2021-06-23T18:35:44.718Z"
   },
   {
    "duration": 308,
    "start_time": "2021-06-23T18:36:00.219Z"
   },
   {
    "duration": 286,
    "start_time": "2021-06-23T18:36:05.012Z"
   },
   {
    "duration": 6,
    "start_time": "2021-06-23T18:36:14.368Z"
   },
   {
    "duration": 7,
    "start_time": "2021-06-23T18:36:16.744Z"
   },
   {
    "duration": 289,
    "start_time": "2021-06-23T18:36:27.195Z"
   },
   {
    "duration": 6,
    "start_time": "2021-06-23T18:36:31.890Z"
   }
  ],
  "kernelspec": {
   "display_name": "Python 3",
   "language": "python",
   "name": "python3"
  },
  "language_info": {
   "codemirror_mode": {
    "name": "ipython",
    "version": 3
   },
   "file_extension": ".py",
   "mimetype": "text/x-python",
   "name": "python",
   "nbconvert_exporter": "python",
   "pygments_lexer": "ipython3",
   "version": "3.8.5"
  },
  "toc": {
   "base_numbering": 1,
   "nav_menu": {},
   "number_sections": true,
   "sideBar": true,
   "skip_h1_title": true,
   "title_cell": "Содержание",
   "title_sidebar": "Contents",
   "toc_cell": true,
   "toc_position": {
    "height": "calc(100% - 180px)",
    "left": "10px",
    "top": "150px",
    "width": "302.391px"
   },
   "toc_section_display": true,
   "toc_window_display": false
  }
 },
 "nbformat": 4,
 "nbformat_minor": 2
}
