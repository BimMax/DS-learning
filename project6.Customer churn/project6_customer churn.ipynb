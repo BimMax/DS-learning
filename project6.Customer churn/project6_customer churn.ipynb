{
 "cells": [
  {
   "cell_type": "markdown",
   "metadata": {
    "id": "iYVcjD0v23tC"
   },
   "source": [
    "# Проект. Отток клиентов"
   ]
  },
  {
   "cell_type": "markdown",
   "metadata": {
    "id": "hffauuW223tD"
   },
   "source": [
    "\n",
    "**Описание:**\n",
    "Из банка начали уходить клиенты. Так как сохранять текущих клиентов дешевле, чем привлекать новых, то нужно выявлять клиентов, которые могут перестать пользоваться услугами банка с целью дальнейшей работы с этими людьми.\n",
    "\n",
    "**Цель проекта:**\n",
    "Построить модель для предсказания, уйдёт ли клиент из банка в ближайшее время. Точность модели проверять метрикой f1. Требуемое значение >0.58\n",
    "\n",
    "**Исходные данные:**\n",
    "Исторические данные о поведении клиентов и расторжении договоров с банком. \n"
   ]
  },
  {
   "cell_type": "markdown",
   "metadata": {
    "id": "uyoD0WU423sz",
    "toc": true
   },
   "source": [
    "<h1>Содержание<span class=\"tocSkip\"></span></h1>\n",
    "<div class=\"toc\"><ul class=\"toc-item\"><li><span><a href=\"#Подготовка-данных\" data-toc-modified-id=\"Подготовка-данных-1\"><span class=\"toc-item-num\">1&nbsp;&nbsp;</span>Подготовка данных</a></span></li><li><span><a href=\"#Исследование-задачи\" data-toc-modified-id=\"Исследование-задачи-2\"><span class=\"toc-item-num\">2&nbsp;&nbsp;</span>Исследование задачи</a></span><ul class=\"toc-item\"><li><span><a href=\"#Подготовка-данных-для-обучения-модели\" data-toc-modified-id=\"Подготовка-данных-для-обучения-модели-2.1\"><span class=\"toc-item-num\">2.1&nbsp;&nbsp;</span>Подготовка данных для обучения модели</a></span></li><li><span><a href=\"#Обучение-моделей\" data-toc-modified-id=\"Обучение-моделей-2.2\"><span class=\"toc-item-num\">2.2&nbsp;&nbsp;</span>Обучение моделей</a></span><ul class=\"toc-item\"><li><span><a href=\"#Метод-решающего-дерева\" data-toc-modified-id=\"Метод-решающего-дерева-2.2.1\"><span class=\"toc-item-num\">2.2.1&nbsp;&nbsp;</span>Метод решающего дерева</a></span></li><li><span><a href=\"#Метод-случайного-леса\" data-toc-modified-id=\"Метод-случайного-леса-2.2.2\"><span class=\"toc-item-num\">2.2.2&nbsp;&nbsp;</span>Метод случайного леса</a></span></li></ul></li></ul></li><li><span><a href=\"#3.-Проверка-и-борьба-с-дисбалансом\" data-toc-modified-id=\"3.-Проверка-и-борьба-с-дисбалансом-3\"><span class=\"toc-item-num\">3&nbsp;&nbsp;</span>3. Проверка и борьба с дисбалансом</a></span><ul class=\"toc-item\"><li><span><a href=\"#3.1.-Метод-upsampling\" data-toc-modified-id=\"3.1.-Метод-upsampling-3.1\"><span class=\"toc-item-num\">3.1&nbsp;&nbsp;</span>3.1. Метод upsampling</a></span><ul class=\"toc-item\"><li><span><a href=\"#3.1.1-Метод-решаюшего-дерева\" data-toc-modified-id=\"3.1.1-Метод-решаюшего-дерева-3.1.1\"><span class=\"toc-item-num\">3.1.1&nbsp;&nbsp;</span>3.1.1 Метод решаюшего дерева</a></span></li><li><span><a href=\"#3.1.2-RandomForestClassifier\" data-toc-modified-id=\"3.1.2-RandomForestClassifier-3.1.2\"><span class=\"toc-item-num\">3.1.2&nbsp;&nbsp;</span>3.1.2 RandomForestClassifier</a></span></li></ul></li><li><span><a href=\"#3.2.-Метод-downsampling\" data-toc-modified-id=\"3.2.-Метод-downsampling-3.2\"><span class=\"toc-item-num\">3.2&nbsp;&nbsp;</span>3.2. Метод downsampling</a></span><ul class=\"toc-item\"><li><span><a href=\"#3.2.1.-Метод-решающего-дерева\" data-toc-modified-id=\"3.2.1.-Метод-решающего-дерева-3.2.1\"><span class=\"toc-item-num\">3.2.1&nbsp;&nbsp;</span>3.2.1. Метод решающего дерева</a></span></li><li><span><a href=\"#3.2.2-Метод-случайного-леса\" data-toc-modified-id=\"3.2.2-Метод-случайного-леса-3.2.2\"><span class=\"toc-item-num\">3.2.2&nbsp;&nbsp;</span>3.2.2 Метод случайного леса</a></span></li></ul></li><li><span><a href=\"#3.3-Использование-параметра-class_weigh\" data-toc-modified-id=\"3.3-Использование-параметра-class_weigh-3.3\"><span class=\"toc-item-num\">3.3&nbsp;&nbsp;</span>3.3 Использование параметра class_weigh</a></span><ul class=\"toc-item\"><li><span><a href=\"#Метод-решающего-дерева\" data-toc-modified-id=\"Метод-решающего-дерева-3.3.1\"><span class=\"toc-item-num\">3.3.1&nbsp;&nbsp;</span>Метод решающего дерева</a></span></li><li><span><a href=\"#Метод-случайного-леса\" data-toc-modified-id=\"Метод-случайного-леса-3.3.2\"><span class=\"toc-item-num\">3.3.2&nbsp;&nbsp;</span>Метод случайного леса</a></span></li></ul></li></ul></li><li><span><a href=\"#Финальное-тестирование-модели\" data-toc-modified-id=\"Финальное-тестирование-модели-4\"><span class=\"toc-item-num\">4&nbsp;&nbsp;</span>Финальное тестирование модели</a></span></li></ul></div>"
   ]
  },
  {
   "cell_type": "markdown",
   "metadata": {
    "id": "fXUTBuqE23tD"
   },
   "source": [
    "## Подготовка данных"
   ]
  },
  {
   "cell_type": "code",
   "execution_count": 1,
   "metadata": {
    "colab": {
     "base_uri": "https://localhost:8080/",
     "height": 356
    },
    "id": "wGkwt9nS23tE",
    "outputId": "50501ecf-f785-48ac-ec45-bd42569dec9a",
    "scrolled": true
   },
   "outputs": [
    {
     "data": {
      "text/html": [
       "<div>\n",
       "<style scoped>\n",
       "    .dataframe tbody tr th:only-of-type {\n",
       "        vertical-align: middle;\n",
       "    }\n",
       "\n",
       "    .dataframe tbody tr th {\n",
       "        vertical-align: top;\n",
       "    }\n",
       "\n",
       "    .dataframe thead th {\n",
       "        text-align: right;\n",
       "    }\n",
       "</style>\n",
       "<table border=\"1\" class=\"dataframe\">\n",
       "  <thead>\n",
       "    <tr style=\"text-align: right;\">\n",
       "      <th></th>\n",
       "      <th>RowNumber</th>\n",
       "      <th>CustomerId</th>\n",
       "      <th>Surname</th>\n",
       "      <th>CreditScore</th>\n",
       "      <th>Geography</th>\n",
       "      <th>Gender</th>\n",
       "      <th>Age</th>\n",
       "      <th>Tenure</th>\n",
       "      <th>Balance</th>\n",
       "      <th>NumOfProducts</th>\n",
       "      <th>HasCrCard</th>\n",
       "      <th>IsActiveMember</th>\n",
       "      <th>EstimatedSalary</th>\n",
       "      <th>Exited</th>\n",
       "    </tr>\n",
       "  </thead>\n",
       "  <tbody>\n",
       "    <tr>\n",
       "      <th>4132</th>\n",
       "      <td>4133</td>\n",
       "      <td>15737571</td>\n",
       "      <td>Matveyev</td>\n",
       "      <td>540</td>\n",
       "      <td>Spain</td>\n",
       "      <td>Female</td>\n",
       "      <td>28</td>\n",
       "      <td>6.0</td>\n",
       "      <td>84121.04</td>\n",
       "      <td>1</td>\n",
       "      <td>0</td>\n",
       "      <td>1</td>\n",
       "      <td>80698.54</td>\n",
       "      <td>0</td>\n",
       "    </tr>\n",
       "    <tr>\n",
       "      <th>2031</th>\n",
       "      <td>2032</td>\n",
       "      <td>15591357</td>\n",
       "      <td>Cowger</td>\n",
       "      <td>765</td>\n",
       "      <td>France</td>\n",
       "      <td>Male</td>\n",
       "      <td>51</td>\n",
       "      <td>3.0</td>\n",
       "      <td>123372.30</td>\n",
       "      <td>1</td>\n",
       "      <td>1</td>\n",
       "      <td>1</td>\n",
       "      <td>115429.32</td>\n",
       "      <td>0</td>\n",
       "    </tr>\n",
       "    <tr>\n",
       "      <th>7039</th>\n",
       "      <td>7040</td>\n",
       "      <td>15631685</td>\n",
       "      <td>Lambert</td>\n",
       "      <td>523</td>\n",
       "      <td>Germany</td>\n",
       "      <td>Male</td>\n",
       "      <td>60</td>\n",
       "      <td>1.0</td>\n",
       "      <td>163894.35</td>\n",
       "      <td>1</td>\n",
       "      <td>0</td>\n",
       "      <td>1</td>\n",
       "      <td>57061.71</td>\n",
       "      <td>0</td>\n",
       "    </tr>\n",
       "    <tr>\n",
       "      <th>2868</th>\n",
       "      <td>2869</td>\n",
       "      <td>15707968</td>\n",
       "      <td>Akobundu</td>\n",
       "      <td>545</td>\n",
       "      <td>Spain</td>\n",
       "      <td>Male</td>\n",
       "      <td>36</td>\n",
       "      <td>8.0</td>\n",
       "      <td>73211.12</td>\n",
       "      <td>2</td>\n",
       "      <td>1</td>\n",
       "      <td>0</td>\n",
       "      <td>89587.34</td>\n",
       "      <td>1</td>\n",
       "    </tr>\n",
       "    <tr>\n",
       "      <th>7319</th>\n",
       "      <td>7320</td>\n",
       "      <td>15762045</td>\n",
       "      <td>Gilchrist</td>\n",
       "      <td>474</td>\n",
       "      <td>Germany</td>\n",
       "      <td>Female</td>\n",
       "      <td>37</td>\n",
       "      <td>5.0</td>\n",
       "      <td>142688.57</td>\n",
       "      <td>2</td>\n",
       "      <td>1</td>\n",
       "      <td>1</td>\n",
       "      <td>110953.33</td>\n",
       "      <td>0</td>\n",
       "    </tr>\n",
       "    <tr>\n",
       "      <th>6880</th>\n",
       "      <td>6881</td>\n",
       "      <td>15724453</td>\n",
       "      <td>Fan</td>\n",
       "      <td>570</td>\n",
       "      <td>France</td>\n",
       "      <td>Male</td>\n",
       "      <td>23</td>\n",
       "      <td>2.0</td>\n",
       "      <td>0.00</td>\n",
       "      <td>1</td>\n",
       "      <td>0</td>\n",
       "      <td>0</td>\n",
       "      <td>198830.98</td>\n",
       "      <td>0</td>\n",
       "    </tr>\n",
       "    <tr>\n",
       "      <th>6642</th>\n",
       "      <td>6643</td>\n",
       "      <td>15724924</td>\n",
       "      <td>Giordano</td>\n",
       "      <td>589</td>\n",
       "      <td>France</td>\n",
       "      <td>Female</td>\n",
       "      <td>37</td>\n",
       "      <td>6.0</td>\n",
       "      <td>138497.84</td>\n",
       "      <td>1</td>\n",
       "      <td>0</td>\n",
       "      <td>1</td>\n",
       "      <td>18988.58</td>\n",
       "      <td>0</td>\n",
       "    </tr>\n",
       "    <tr>\n",
       "      <th>42</th>\n",
       "      <td>43</td>\n",
       "      <td>15687946</td>\n",
       "      <td>Osborne</td>\n",
       "      <td>556</td>\n",
       "      <td>France</td>\n",
       "      <td>Female</td>\n",
       "      <td>61</td>\n",
       "      <td>2.0</td>\n",
       "      <td>117419.35</td>\n",
       "      <td>1</td>\n",
       "      <td>1</td>\n",
       "      <td>1</td>\n",
       "      <td>94153.83</td>\n",
       "      <td>0</td>\n",
       "    </tr>\n",
       "    <tr>\n",
       "      <th>5593</th>\n",
       "      <td>5594</td>\n",
       "      <td>15597968</td>\n",
       "      <td>Fyans</td>\n",
       "      <td>617</td>\n",
       "      <td>Spain</td>\n",
       "      <td>Male</td>\n",
       "      <td>50</td>\n",
       "      <td>7.0</td>\n",
       "      <td>0.00</td>\n",
       "      <td>1</td>\n",
       "      <td>1</td>\n",
       "      <td>0</td>\n",
       "      <td>184839.70</td>\n",
       "      <td>1</td>\n",
       "    </tr>\n",
       "    <tr>\n",
       "      <th>6012</th>\n",
       "      <td>6013</td>\n",
       "      <td>15654183</td>\n",
       "      <td>Aitken</td>\n",
       "      <td>738</td>\n",
       "      <td>France</td>\n",
       "      <td>Female</td>\n",
       "      <td>26</td>\n",
       "      <td>3.0</td>\n",
       "      <td>0.00</td>\n",
       "      <td>2</td>\n",
       "      <td>1</td>\n",
       "      <td>0</td>\n",
       "      <td>67484.16</td>\n",
       "      <td>0</td>\n",
       "    </tr>\n",
       "  </tbody>\n",
       "</table>\n",
       "</div>"
      ],
      "text/plain": [
       "      RowNumber  CustomerId    Surname  CreditScore Geography  Gender  Age  \\\n",
       "4132       4133    15737571   Matveyev          540     Spain  Female   28   \n",
       "2031       2032    15591357     Cowger          765    France    Male   51   \n",
       "7039       7040    15631685    Lambert          523   Germany    Male   60   \n",
       "2868       2869    15707968   Akobundu          545     Spain    Male   36   \n",
       "7319       7320    15762045  Gilchrist          474   Germany  Female   37   \n",
       "6880       6881    15724453        Fan          570    France    Male   23   \n",
       "6642       6643    15724924   Giordano          589    France  Female   37   \n",
       "42           43    15687946    Osborne          556    France  Female   61   \n",
       "5593       5594    15597968      Fyans          617     Spain    Male   50   \n",
       "6012       6013    15654183     Aitken          738    France  Female   26   \n",
       "\n",
       "      Tenure    Balance  NumOfProducts  HasCrCard  IsActiveMember  \\\n",
       "4132     6.0   84121.04              1          0               1   \n",
       "2031     3.0  123372.30              1          1               1   \n",
       "7039     1.0  163894.35              1          0               1   \n",
       "2868     8.0   73211.12              2          1               0   \n",
       "7319     5.0  142688.57              2          1               1   \n",
       "6880     2.0       0.00              1          0               0   \n",
       "6642     6.0  138497.84              1          0               1   \n",
       "42       2.0  117419.35              1          1               1   \n",
       "5593     7.0       0.00              1          1               0   \n",
       "6012     3.0       0.00              2          1               0   \n",
       "\n",
       "      EstimatedSalary  Exited  \n",
       "4132         80698.54       0  \n",
       "2031        115429.32       0  \n",
       "7039         57061.71       0  \n",
       "2868         89587.34       1  \n",
       "7319        110953.33       0  \n",
       "6880        198830.98       0  \n",
       "6642         18988.58       0  \n",
       "42           94153.83       0  \n",
       "5593        184839.70       1  \n",
       "6012         67484.16       0  "
      ]
     },
     "execution_count": 1,
     "metadata": {},
     "output_type": "execute_result"
    }
   ],
   "source": [
    "import pandas as pd\n",
    "\n",
    "from matplotlib.pyplot import plot\n",
    "import matplotlib.pyplot as plt\n",
    "from sklearn.model_selection import train_test_split\n",
    "from sklearn.tree import DecisionTreeClassifier as tree\n",
    "from sklearn.linear_model import LinearRegression\n",
    "from sklearn.model_selection import GridSearchCV\n",
    "from sklearn.metrics import f1_score\n",
    "from sklearn.ensemble import RandomForestClassifier \n",
    "from sklearn.utils import shuffle\n",
    "from sklearn.preprocessing import StandardScaler\n",
    "from sklearn.preprocessing import OrdinalEncoder\n",
    "from sklearn.metrics import roc_auc_score\n",
    "from sklearn.metrics import roc_curve\n",
    "from sklearn.linear_model import LogisticRegression\n",
    "\n",
    "df = pd.read_csv('/Churn.csv')\n",
    "df.sample(10)"
   ]
  },
  {
   "cell_type": "code",
   "execution_count": 2,
   "metadata": {
    "colab": {
     "base_uri": "https://localhost:8080/"
    },
    "id": "IG4eedS823tH",
    "outputId": "7590b6f0-5f67-479f-c3d3-545558ef79d0"
   },
   "outputs": [
    {
     "data": {
      "text/plain": [
       "(10000, 14)"
      ]
     },
     "execution_count": 2,
     "metadata": {},
     "output_type": "execute_result"
    }
   ],
   "source": [
    "df.shape"
   ]
  },
  {
   "cell_type": "markdown",
   "metadata": {
    "id": "CZ3N_5BvuqF_"
   },
   "source": [
    "Проверим данные на наличие аномальных значений:"
   ]
  },
  {
   "cell_type": "code",
   "execution_count": 3,
   "metadata": {
    "colab": {
     "base_uri": "https://localhost:8080/",
     "height": 294
    },
    "id": "hI3wPq6Pukyw",
    "outputId": "c7215b6c-dbcc-4fd8-d07e-59d8fa2fadeb"
   },
   "outputs": [
    {
     "data": {
      "text/html": [
       "<div>\n",
       "<style scoped>\n",
       "    .dataframe tbody tr th:only-of-type {\n",
       "        vertical-align: middle;\n",
       "    }\n",
       "\n",
       "    .dataframe tbody tr th {\n",
       "        vertical-align: top;\n",
       "    }\n",
       "\n",
       "    .dataframe thead th {\n",
       "        text-align: right;\n",
       "    }\n",
       "</style>\n",
       "<table border=\"1\" class=\"dataframe\">\n",
       "  <thead>\n",
       "    <tr style=\"text-align: right;\">\n",
       "      <th></th>\n",
       "      <th>RowNumber</th>\n",
       "      <th>CustomerId</th>\n",
       "      <th>CreditScore</th>\n",
       "      <th>Age</th>\n",
       "      <th>Tenure</th>\n",
       "      <th>Balance</th>\n",
       "      <th>NumOfProducts</th>\n",
       "      <th>HasCrCard</th>\n",
       "      <th>IsActiveMember</th>\n",
       "      <th>EstimatedSalary</th>\n",
       "      <th>Exited</th>\n",
       "    </tr>\n",
       "  </thead>\n",
       "  <tbody>\n",
       "    <tr>\n",
       "      <th>count</th>\n",
       "      <td>10000.00000</td>\n",
       "      <td>1.000000e+04</td>\n",
       "      <td>10000.000000</td>\n",
       "      <td>10000.000000</td>\n",
       "      <td>9091.000000</td>\n",
       "      <td>10000.000000</td>\n",
       "      <td>10000.000000</td>\n",
       "      <td>10000.00000</td>\n",
       "      <td>10000.000000</td>\n",
       "      <td>10000.000000</td>\n",
       "      <td>10000.000000</td>\n",
       "    </tr>\n",
       "    <tr>\n",
       "      <th>mean</th>\n",
       "      <td>5000.50000</td>\n",
       "      <td>1.569094e+07</td>\n",
       "      <td>650.528800</td>\n",
       "      <td>38.921800</td>\n",
       "      <td>4.997690</td>\n",
       "      <td>76485.889288</td>\n",
       "      <td>1.530200</td>\n",
       "      <td>0.70550</td>\n",
       "      <td>0.515100</td>\n",
       "      <td>100090.239881</td>\n",
       "      <td>0.203700</td>\n",
       "    </tr>\n",
       "    <tr>\n",
       "      <th>std</th>\n",
       "      <td>2886.89568</td>\n",
       "      <td>7.193619e+04</td>\n",
       "      <td>96.653299</td>\n",
       "      <td>10.487806</td>\n",
       "      <td>2.894723</td>\n",
       "      <td>62397.405202</td>\n",
       "      <td>0.581654</td>\n",
       "      <td>0.45584</td>\n",
       "      <td>0.499797</td>\n",
       "      <td>57510.492818</td>\n",
       "      <td>0.402769</td>\n",
       "    </tr>\n",
       "    <tr>\n",
       "      <th>min</th>\n",
       "      <td>1.00000</td>\n",
       "      <td>1.556570e+07</td>\n",
       "      <td>350.000000</td>\n",
       "      <td>18.000000</td>\n",
       "      <td>0.000000</td>\n",
       "      <td>0.000000</td>\n",
       "      <td>1.000000</td>\n",
       "      <td>0.00000</td>\n",
       "      <td>0.000000</td>\n",
       "      <td>11.580000</td>\n",
       "      <td>0.000000</td>\n",
       "    </tr>\n",
       "    <tr>\n",
       "      <th>25%</th>\n",
       "      <td>2500.75000</td>\n",
       "      <td>1.562853e+07</td>\n",
       "      <td>584.000000</td>\n",
       "      <td>32.000000</td>\n",
       "      <td>2.000000</td>\n",
       "      <td>0.000000</td>\n",
       "      <td>1.000000</td>\n",
       "      <td>0.00000</td>\n",
       "      <td>0.000000</td>\n",
       "      <td>51002.110000</td>\n",
       "      <td>0.000000</td>\n",
       "    </tr>\n",
       "    <tr>\n",
       "      <th>50%</th>\n",
       "      <td>5000.50000</td>\n",
       "      <td>1.569074e+07</td>\n",
       "      <td>652.000000</td>\n",
       "      <td>37.000000</td>\n",
       "      <td>5.000000</td>\n",
       "      <td>97198.540000</td>\n",
       "      <td>1.000000</td>\n",
       "      <td>1.00000</td>\n",
       "      <td>1.000000</td>\n",
       "      <td>100193.915000</td>\n",
       "      <td>0.000000</td>\n",
       "    </tr>\n",
       "    <tr>\n",
       "      <th>75%</th>\n",
       "      <td>7500.25000</td>\n",
       "      <td>1.575323e+07</td>\n",
       "      <td>718.000000</td>\n",
       "      <td>44.000000</td>\n",
       "      <td>7.000000</td>\n",
       "      <td>127644.240000</td>\n",
       "      <td>2.000000</td>\n",
       "      <td>1.00000</td>\n",
       "      <td>1.000000</td>\n",
       "      <td>149388.247500</td>\n",
       "      <td>0.000000</td>\n",
       "    </tr>\n",
       "    <tr>\n",
       "      <th>max</th>\n",
       "      <td>10000.00000</td>\n",
       "      <td>1.581569e+07</td>\n",
       "      <td>850.000000</td>\n",
       "      <td>92.000000</td>\n",
       "      <td>10.000000</td>\n",
       "      <td>250898.090000</td>\n",
       "      <td>4.000000</td>\n",
       "      <td>1.00000</td>\n",
       "      <td>1.000000</td>\n",
       "      <td>199992.480000</td>\n",
       "      <td>1.000000</td>\n",
       "    </tr>\n",
       "  </tbody>\n",
       "</table>\n",
       "</div>"
      ],
      "text/plain": [
       "         RowNumber    CustomerId   CreditScore           Age       Tenure  \\\n",
       "count  10000.00000  1.000000e+04  10000.000000  10000.000000  9091.000000   \n",
       "mean    5000.50000  1.569094e+07    650.528800     38.921800     4.997690   \n",
       "std     2886.89568  7.193619e+04     96.653299     10.487806     2.894723   \n",
       "min        1.00000  1.556570e+07    350.000000     18.000000     0.000000   \n",
       "25%     2500.75000  1.562853e+07    584.000000     32.000000     2.000000   \n",
       "50%     5000.50000  1.569074e+07    652.000000     37.000000     5.000000   \n",
       "75%     7500.25000  1.575323e+07    718.000000     44.000000     7.000000   \n",
       "max    10000.00000  1.581569e+07    850.000000     92.000000    10.000000   \n",
       "\n",
       "             Balance  NumOfProducts    HasCrCard  IsActiveMember  \\\n",
       "count   10000.000000   10000.000000  10000.00000    10000.000000   \n",
       "mean    76485.889288       1.530200      0.70550        0.515100   \n",
       "std     62397.405202       0.581654      0.45584        0.499797   \n",
       "min         0.000000       1.000000      0.00000        0.000000   \n",
       "25%         0.000000       1.000000      0.00000        0.000000   \n",
       "50%     97198.540000       1.000000      1.00000        1.000000   \n",
       "75%    127644.240000       2.000000      1.00000        1.000000   \n",
       "max    250898.090000       4.000000      1.00000        1.000000   \n",
       "\n",
       "       EstimatedSalary        Exited  \n",
       "count     10000.000000  10000.000000  \n",
       "mean     100090.239881      0.203700  \n",
       "std       57510.492818      0.402769  \n",
       "min          11.580000      0.000000  \n",
       "25%       51002.110000      0.000000  \n",
       "50%      100193.915000      0.000000  \n",
       "75%      149388.247500      0.000000  \n",
       "max      199992.480000      1.000000  "
      ]
     },
     "execution_count": 3,
     "metadata": {},
     "output_type": "execute_result"
    }
   ],
   "source": [
    "df.describe()"
   ]
  },
  {
   "cell_type": "markdown",
   "metadata": {
    "id": "Xxeb-_58u4Ii"
   },
   "source": [
    "Среди данных не заметно подозрительных значений : возраст в интервале от 18 до 92 лет, баланс строго больше нуля."
   ]
  },
  {
   "cell_type": "markdown",
   "metadata": {
    "id": "gKEGEE8OuWo-"
   },
   "source": [
    "Проверим данные на наличие пропусков:"
   ]
  },
  {
   "cell_type": "code",
   "execution_count": 4,
   "metadata": {
    "colab": {
     "base_uri": "https://localhost:8080/"
    },
    "id": "0gExgjiT23tH",
    "outputId": "93dfc8f0-0cc5-49e0-d4e6-f92915fc925e",
    "scrolled": false
   },
   "outputs": [
    {
     "data": {
      "text/plain": [
       "RowNumber            0\n",
       "CustomerId           0\n",
       "Surname              0\n",
       "CreditScore          0\n",
       "Geography            0\n",
       "Gender               0\n",
       "Age                  0\n",
       "Tenure             909\n",
       "Balance              0\n",
       "NumOfProducts        0\n",
       "HasCrCard            0\n",
       "IsActiveMember       0\n",
       "EstimatedSalary      0\n",
       "Exited               0\n",
       "dtype: int64"
      ]
     },
     "execution_count": 4,
     "metadata": {},
     "output_type": "execute_result"
    }
   ],
   "source": [
    "df.isnull().sum()"
   ]
  },
  {
   "cell_type": "code",
   "execution_count": 5,
   "metadata": {
    "colab": {
     "base_uri": "https://localhost:8080/",
     "height": 416
    },
    "id": "JG01EbuA23tI",
    "outputId": "278bd8fb-ea16-42a2-eba7-14f83325bfe2"
   },
   "outputs": [
    {
     "data": {
      "text/html": [
       "<div>\n",
       "<style scoped>\n",
       "    .dataframe tbody tr th:only-of-type {\n",
       "        vertical-align: middle;\n",
       "    }\n",
       "\n",
       "    .dataframe tbody tr th {\n",
       "        vertical-align: top;\n",
       "    }\n",
       "\n",
       "    .dataframe thead th {\n",
       "        text-align: right;\n",
       "    }\n",
       "</style>\n",
       "<table border=\"1\" class=\"dataframe\">\n",
       "  <thead>\n",
       "    <tr style=\"text-align: right;\">\n",
       "      <th></th>\n",
       "      <th>RowNumber</th>\n",
       "      <th>CustomerId</th>\n",
       "      <th>Surname</th>\n",
       "      <th>CreditScore</th>\n",
       "      <th>Geography</th>\n",
       "      <th>Gender</th>\n",
       "      <th>Age</th>\n",
       "      <th>Tenure</th>\n",
       "      <th>Balance</th>\n",
       "      <th>NumOfProducts</th>\n",
       "      <th>HasCrCard</th>\n",
       "      <th>IsActiveMember</th>\n",
       "      <th>EstimatedSalary</th>\n",
       "      <th>Exited</th>\n",
       "    </tr>\n",
       "  </thead>\n",
       "  <tbody>\n",
       "    <tr>\n",
       "      <th>30</th>\n",
       "      <td>31</td>\n",
       "      <td>15589475</td>\n",
       "      <td>Azikiwe</td>\n",
       "      <td>591</td>\n",
       "      <td>Spain</td>\n",
       "      <td>Female</td>\n",
       "      <td>39</td>\n",
       "      <td>NaN</td>\n",
       "      <td>0.00</td>\n",
       "      <td>3</td>\n",
       "      <td>1</td>\n",
       "      <td>0</td>\n",
       "      <td>140469.38</td>\n",
       "      <td>1</td>\n",
       "    </tr>\n",
       "    <tr>\n",
       "      <th>48</th>\n",
       "      <td>49</td>\n",
       "      <td>15766205</td>\n",
       "      <td>Yin</td>\n",
       "      <td>550</td>\n",
       "      <td>Germany</td>\n",
       "      <td>Male</td>\n",
       "      <td>38</td>\n",
       "      <td>NaN</td>\n",
       "      <td>103391.38</td>\n",
       "      <td>1</td>\n",
       "      <td>0</td>\n",
       "      <td>1</td>\n",
       "      <td>90878.13</td>\n",
       "      <td>0</td>\n",
       "    </tr>\n",
       "    <tr>\n",
       "      <th>51</th>\n",
       "      <td>52</td>\n",
       "      <td>15768193</td>\n",
       "      <td>Trevisani</td>\n",
       "      <td>585</td>\n",
       "      <td>Germany</td>\n",
       "      <td>Male</td>\n",
       "      <td>36</td>\n",
       "      <td>NaN</td>\n",
       "      <td>146050.97</td>\n",
       "      <td>2</td>\n",
       "      <td>0</td>\n",
       "      <td>0</td>\n",
       "      <td>86424.57</td>\n",
       "      <td>0</td>\n",
       "    </tr>\n",
       "    <tr>\n",
       "      <th>53</th>\n",
       "      <td>54</td>\n",
       "      <td>15702298</td>\n",
       "      <td>Parkhill</td>\n",
       "      <td>655</td>\n",
       "      <td>Germany</td>\n",
       "      <td>Male</td>\n",
       "      <td>41</td>\n",
       "      <td>NaN</td>\n",
       "      <td>125561.97</td>\n",
       "      <td>1</td>\n",
       "      <td>0</td>\n",
       "      <td>0</td>\n",
       "      <td>164040.94</td>\n",
       "      <td>1</td>\n",
       "    </tr>\n",
       "    <tr>\n",
       "      <th>60</th>\n",
       "      <td>61</td>\n",
       "      <td>15651280</td>\n",
       "      <td>Hunter</td>\n",
       "      <td>742</td>\n",
       "      <td>Germany</td>\n",
       "      <td>Male</td>\n",
       "      <td>35</td>\n",
       "      <td>NaN</td>\n",
       "      <td>136857.00</td>\n",
       "      <td>1</td>\n",
       "      <td>0</td>\n",
       "      <td>0</td>\n",
       "      <td>84509.57</td>\n",
       "      <td>0</td>\n",
       "    </tr>\n",
       "    <tr>\n",
       "      <th>...</th>\n",
       "      <td>...</td>\n",
       "      <td>...</td>\n",
       "      <td>...</td>\n",
       "      <td>...</td>\n",
       "      <td>...</td>\n",
       "      <td>...</td>\n",
       "      <td>...</td>\n",
       "      <td>...</td>\n",
       "      <td>...</td>\n",
       "      <td>...</td>\n",
       "      <td>...</td>\n",
       "      <td>...</td>\n",
       "      <td>...</td>\n",
       "      <td>...</td>\n",
       "    </tr>\n",
       "    <tr>\n",
       "      <th>9944</th>\n",
       "      <td>9945</td>\n",
       "      <td>15703923</td>\n",
       "      <td>Cameron</td>\n",
       "      <td>744</td>\n",
       "      <td>Germany</td>\n",
       "      <td>Male</td>\n",
       "      <td>41</td>\n",
       "      <td>NaN</td>\n",
       "      <td>190409.34</td>\n",
       "      <td>2</td>\n",
       "      <td>1</td>\n",
       "      <td>1</td>\n",
       "      <td>138361.48</td>\n",
       "      <td>0</td>\n",
       "    </tr>\n",
       "    <tr>\n",
       "      <th>9956</th>\n",
       "      <td>9957</td>\n",
       "      <td>15707861</td>\n",
       "      <td>Nucci</td>\n",
       "      <td>520</td>\n",
       "      <td>France</td>\n",
       "      <td>Female</td>\n",
       "      <td>46</td>\n",
       "      <td>NaN</td>\n",
       "      <td>85216.61</td>\n",
       "      <td>1</td>\n",
       "      <td>1</td>\n",
       "      <td>0</td>\n",
       "      <td>117369.52</td>\n",
       "      <td>1</td>\n",
       "    </tr>\n",
       "    <tr>\n",
       "      <th>9964</th>\n",
       "      <td>9965</td>\n",
       "      <td>15642785</td>\n",
       "      <td>Douglas</td>\n",
       "      <td>479</td>\n",
       "      <td>France</td>\n",
       "      <td>Male</td>\n",
       "      <td>34</td>\n",
       "      <td>NaN</td>\n",
       "      <td>117593.48</td>\n",
       "      <td>2</td>\n",
       "      <td>0</td>\n",
       "      <td>0</td>\n",
       "      <td>113308.29</td>\n",
       "      <td>0</td>\n",
       "    </tr>\n",
       "    <tr>\n",
       "      <th>9985</th>\n",
       "      <td>9986</td>\n",
       "      <td>15586914</td>\n",
       "      <td>Nepean</td>\n",
       "      <td>659</td>\n",
       "      <td>France</td>\n",
       "      <td>Male</td>\n",
       "      <td>36</td>\n",
       "      <td>NaN</td>\n",
       "      <td>123841.49</td>\n",
       "      <td>2</td>\n",
       "      <td>1</td>\n",
       "      <td>0</td>\n",
       "      <td>96833.00</td>\n",
       "      <td>0</td>\n",
       "    </tr>\n",
       "    <tr>\n",
       "      <th>9999</th>\n",
       "      <td>10000</td>\n",
       "      <td>15628319</td>\n",
       "      <td>Walker</td>\n",
       "      <td>792</td>\n",
       "      <td>France</td>\n",
       "      <td>Female</td>\n",
       "      <td>28</td>\n",
       "      <td>NaN</td>\n",
       "      <td>130142.79</td>\n",
       "      <td>1</td>\n",
       "      <td>1</td>\n",
       "      <td>0</td>\n",
       "      <td>38190.78</td>\n",
       "      <td>0</td>\n",
       "    </tr>\n",
       "  </tbody>\n",
       "</table>\n",
       "<p>909 rows × 14 columns</p>\n",
       "</div>"
      ],
      "text/plain": [
       "      RowNumber  CustomerId    Surname  CreditScore Geography  Gender  Age  \\\n",
       "30           31    15589475    Azikiwe          591     Spain  Female   39   \n",
       "48           49    15766205        Yin          550   Germany    Male   38   \n",
       "51           52    15768193  Trevisani          585   Germany    Male   36   \n",
       "53           54    15702298   Parkhill          655   Germany    Male   41   \n",
       "60           61    15651280     Hunter          742   Germany    Male   35   \n",
       "...         ...         ...        ...          ...       ...     ...  ...   \n",
       "9944       9945    15703923    Cameron          744   Germany    Male   41   \n",
       "9956       9957    15707861      Nucci          520    France  Female   46   \n",
       "9964       9965    15642785    Douglas          479    France    Male   34   \n",
       "9985       9986    15586914     Nepean          659    France    Male   36   \n",
       "9999      10000    15628319     Walker          792    France  Female   28   \n",
       "\n",
       "      Tenure    Balance  NumOfProducts  HasCrCard  IsActiveMember  \\\n",
       "30       NaN       0.00              3          1               0   \n",
       "48       NaN  103391.38              1          0               1   \n",
       "51       NaN  146050.97              2          0               0   \n",
       "53       NaN  125561.97              1          0               0   \n",
       "60       NaN  136857.00              1          0               0   \n",
       "...      ...        ...            ...        ...             ...   \n",
       "9944     NaN  190409.34              2          1               1   \n",
       "9956     NaN   85216.61              1          1               0   \n",
       "9964     NaN  117593.48              2          0               0   \n",
       "9985     NaN  123841.49              2          1               0   \n",
       "9999     NaN  130142.79              1          1               0   \n",
       "\n",
       "      EstimatedSalary  Exited  \n",
       "30          140469.38       1  \n",
       "48           90878.13       0  \n",
       "51           86424.57       0  \n",
       "53          164040.94       1  \n",
       "60           84509.57       0  \n",
       "...               ...     ...  \n",
       "9944        138361.48       0  \n",
       "9956        117369.52       1  \n",
       "9964        113308.29       0  \n",
       "9985         96833.00       0  \n",
       "9999         38190.78       0  \n",
       "\n",
       "[909 rows x 14 columns]"
      ]
     },
     "execution_count": 5,
     "metadata": {},
     "output_type": "execute_result"
    }
   ],
   "source": [
    "df[df['Tenure'].isna()]"
   ]
  },
  {
   "cell_type": "markdown",
   "metadata": {
    "id": "b5sBTuk2ub_W"
   },
   "source": [
    "Заполним пропуски в данных *Tenure*"
   ]
  },
  {
   "cell_type": "code",
   "execution_count": 6,
   "metadata": {
    "id": "7ZYylvSo23tI"
   },
   "outputs": [],
   "source": [
    "df['Tenure'] = df['Tenure'].fillna(0)"
   ]
  },
  {
   "cell_type": "code",
   "execution_count": 7,
   "metadata": {
    "id": "KXuevPf_23tJ"
   },
   "outputs": [],
   "source": [
    "age_tenure_median = df.groupby('Age').median()['Tenure'].to_dict()"
   ]
  },
  {
   "cell_type": "code",
   "execution_count": 8,
   "metadata": {
    "id": "i1Fb_o4i23tJ"
   },
   "outputs": [],
   "source": [
    "df['Tenure'] = df.apply(lambda x: age_tenure_median[int(x['Age'])] if int(x['Tenure'])==0 else x['Tenure'], axis=1)\n"
   ]
  },
  {
   "cell_type": "code",
   "execution_count": 9,
   "metadata": {
    "colab": {
     "base_uri": "https://localhost:8080/"
    },
    "id": "0KjaAXQG23tK",
    "outputId": "0e35d376-cb97-43ea-c81a-a574a5dadf99"
   },
   "outputs": [
    {
     "data": {
      "text/plain": [
       "RowNumber          0\n",
       "CustomerId         0\n",
       "Surname            0\n",
       "CreditScore        0\n",
       "Geography          0\n",
       "Gender             0\n",
       "Age                0\n",
       "Tenure             0\n",
       "Balance            0\n",
       "NumOfProducts      0\n",
       "HasCrCard          0\n",
       "IsActiveMember     0\n",
       "EstimatedSalary    0\n",
       "Exited             0\n",
       "dtype: int64"
      ]
     },
     "execution_count": 9,
     "metadata": {},
     "output_type": "execute_result"
    }
   ],
   "source": [
    "df.isna().sum()"
   ]
  },
  {
   "cell_type": "markdown",
   "metadata": {
    "id": "N4x7V1pyuI25"
   },
   "source": [
    "Проверим данные на наличие дубликатов:"
   ]
  },
  {
   "cell_type": "code",
   "execution_count": 10,
   "metadata": {
    "colab": {
     "base_uri": "https://localhost:8080/"
    },
    "id": "gFXHdTXmuBrv",
    "outputId": "0c710c33-cdaf-4338-f228-a9cfd2e21c84",
    "scrolled": true
   },
   "outputs": [
    {
     "data": {
      "text/plain": [
       "0"
      ]
     },
     "execution_count": 10,
     "metadata": {},
     "output_type": "execute_result"
    }
   ],
   "source": [
    "df.duplicated().sum()"
   ]
  },
  {
   "cell_type": "markdown",
   "metadata": {
    "id": "rb7caS0t23tL"
   },
   "source": [
    "##  Исследование задачи"
   ]
  },
  {
   "cell_type": "markdown",
   "metadata": {
    "id": "-UKm05jI23tL"
   },
   "source": [
    "Исключим из даных для обучения информацию, которая не поможет в обучении модели и целевую переменную:"
   ]
  },
  {
   "cell_type": "code",
   "execution_count": 11,
   "metadata": {
    "id": "e_Z-NnOI23tM"
   },
   "outputs": [],
   "source": [
    "features = df.drop(['RowNumber','CustomerId', 'Surname', 'Exited'], axis =1 )\n",
    "target = df[['Exited']]"
   ]
  },
  {
   "cell_type": "code",
   "execution_count": 12,
   "metadata": {
    "colab": {
     "base_uri": "https://localhost:8080/",
     "height": 416
    },
    "id": "vRTQNl7V23tM",
    "outputId": "b393d9ab-fd31-469c-b804-34d04b26f5c2",
    "scrolled": true
   },
   "outputs": [
    {
     "data": {
      "text/html": [
       "<div>\n",
       "<style scoped>\n",
       "    .dataframe tbody tr th:only-of-type {\n",
       "        vertical-align: middle;\n",
       "    }\n",
       "\n",
       "    .dataframe tbody tr th {\n",
       "        vertical-align: top;\n",
       "    }\n",
       "\n",
       "    .dataframe thead th {\n",
       "        text-align: right;\n",
       "    }\n",
       "</style>\n",
       "<table border=\"1\" class=\"dataframe\">\n",
       "  <thead>\n",
       "    <tr style=\"text-align: right;\">\n",
       "      <th></th>\n",
       "      <th>CreditScore</th>\n",
       "      <th>Geography</th>\n",
       "      <th>Gender</th>\n",
       "      <th>Age</th>\n",
       "      <th>Tenure</th>\n",
       "      <th>Balance</th>\n",
       "      <th>NumOfProducts</th>\n",
       "      <th>HasCrCard</th>\n",
       "      <th>IsActiveMember</th>\n",
       "      <th>EstimatedSalary</th>\n",
       "    </tr>\n",
       "  </thead>\n",
       "  <tbody>\n",
       "    <tr>\n",
       "      <th>0</th>\n",
       "      <td>619</td>\n",
       "      <td>France</td>\n",
       "      <td>Female</td>\n",
       "      <td>42</td>\n",
       "      <td>2.0</td>\n",
       "      <td>0.00</td>\n",
       "      <td>1</td>\n",
       "      <td>1</td>\n",
       "      <td>1</td>\n",
       "      <td>101348.88</td>\n",
       "    </tr>\n",
       "    <tr>\n",
       "      <th>1</th>\n",
       "      <td>608</td>\n",
       "      <td>Spain</td>\n",
       "      <td>Female</td>\n",
       "      <td>41</td>\n",
       "      <td>1.0</td>\n",
       "      <td>83807.86</td>\n",
       "      <td>1</td>\n",
       "      <td>0</td>\n",
       "      <td>1</td>\n",
       "      <td>112542.58</td>\n",
       "    </tr>\n",
       "    <tr>\n",
       "      <th>2</th>\n",
       "      <td>502</td>\n",
       "      <td>France</td>\n",
       "      <td>Female</td>\n",
       "      <td>42</td>\n",
       "      <td>8.0</td>\n",
       "      <td>159660.80</td>\n",
       "      <td>3</td>\n",
       "      <td>1</td>\n",
       "      <td>0</td>\n",
       "      <td>113931.57</td>\n",
       "    </tr>\n",
       "    <tr>\n",
       "      <th>3</th>\n",
       "      <td>699</td>\n",
       "      <td>France</td>\n",
       "      <td>Female</td>\n",
       "      <td>39</td>\n",
       "      <td>1.0</td>\n",
       "      <td>0.00</td>\n",
       "      <td>2</td>\n",
       "      <td>0</td>\n",
       "      <td>0</td>\n",
       "      <td>93826.63</td>\n",
       "    </tr>\n",
       "    <tr>\n",
       "      <th>4</th>\n",
       "      <td>850</td>\n",
       "      <td>Spain</td>\n",
       "      <td>Female</td>\n",
       "      <td>43</td>\n",
       "      <td>2.0</td>\n",
       "      <td>125510.82</td>\n",
       "      <td>1</td>\n",
       "      <td>1</td>\n",
       "      <td>1</td>\n",
       "      <td>79084.10</td>\n",
       "    </tr>\n",
       "    <tr>\n",
       "      <th>...</th>\n",
       "      <td>...</td>\n",
       "      <td>...</td>\n",
       "      <td>...</td>\n",
       "      <td>...</td>\n",
       "      <td>...</td>\n",
       "      <td>...</td>\n",
       "      <td>...</td>\n",
       "      <td>...</td>\n",
       "      <td>...</td>\n",
       "      <td>...</td>\n",
       "    </tr>\n",
       "    <tr>\n",
       "      <th>9995</th>\n",
       "      <td>771</td>\n",
       "      <td>France</td>\n",
       "      <td>Male</td>\n",
       "      <td>39</td>\n",
       "      <td>5.0</td>\n",
       "      <td>0.00</td>\n",
       "      <td>2</td>\n",
       "      <td>1</td>\n",
       "      <td>0</td>\n",
       "      <td>96270.64</td>\n",
       "    </tr>\n",
       "    <tr>\n",
       "      <th>9996</th>\n",
       "      <td>516</td>\n",
       "      <td>France</td>\n",
       "      <td>Male</td>\n",
       "      <td>35</td>\n",
       "      <td>10.0</td>\n",
       "      <td>57369.61</td>\n",
       "      <td>1</td>\n",
       "      <td>1</td>\n",
       "      <td>1</td>\n",
       "      <td>101699.77</td>\n",
       "    </tr>\n",
       "    <tr>\n",
       "      <th>9997</th>\n",
       "      <td>709</td>\n",
       "      <td>France</td>\n",
       "      <td>Female</td>\n",
       "      <td>36</td>\n",
       "      <td>7.0</td>\n",
       "      <td>0.00</td>\n",
       "      <td>1</td>\n",
       "      <td>0</td>\n",
       "      <td>1</td>\n",
       "      <td>42085.58</td>\n",
       "    </tr>\n",
       "    <tr>\n",
       "      <th>9998</th>\n",
       "      <td>772</td>\n",
       "      <td>Germany</td>\n",
       "      <td>Male</td>\n",
       "      <td>42</td>\n",
       "      <td>3.0</td>\n",
       "      <td>75075.31</td>\n",
       "      <td>2</td>\n",
       "      <td>1</td>\n",
       "      <td>0</td>\n",
       "      <td>92888.52</td>\n",
       "    </tr>\n",
       "    <tr>\n",
       "      <th>9999</th>\n",
       "      <td>792</td>\n",
       "      <td>France</td>\n",
       "      <td>Female</td>\n",
       "      <td>28</td>\n",
       "      <td>5.0</td>\n",
       "      <td>130142.79</td>\n",
       "      <td>1</td>\n",
       "      <td>1</td>\n",
       "      <td>0</td>\n",
       "      <td>38190.78</td>\n",
       "    </tr>\n",
       "  </tbody>\n",
       "</table>\n",
       "<p>10000 rows × 10 columns</p>\n",
       "</div>"
      ],
      "text/plain": [
       "      CreditScore Geography  Gender  Age  Tenure    Balance  NumOfProducts  \\\n",
       "0             619    France  Female   42     2.0       0.00              1   \n",
       "1             608     Spain  Female   41     1.0   83807.86              1   \n",
       "2             502    France  Female   42     8.0  159660.80              3   \n",
       "3             699    France  Female   39     1.0       0.00              2   \n",
       "4             850     Spain  Female   43     2.0  125510.82              1   \n",
       "...           ...       ...     ...  ...     ...        ...            ...   \n",
       "9995          771    France    Male   39     5.0       0.00              2   \n",
       "9996          516    France    Male   35    10.0   57369.61              1   \n",
       "9997          709    France  Female   36     7.0       0.00              1   \n",
       "9998          772   Germany    Male   42     3.0   75075.31              2   \n",
       "9999          792    France  Female   28     5.0  130142.79              1   \n",
       "\n",
       "      HasCrCard  IsActiveMember  EstimatedSalary  \n",
       "0             1               1        101348.88  \n",
       "1             0               1        112542.58  \n",
       "2             1               0        113931.57  \n",
       "3             0               0         93826.63  \n",
       "4             1               1         79084.10  \n",
       "...         ...             ...              ...  \n",
       "9995          1               0         96270.64  \n",
       "9996          1               1        101699.77  \n",
       "9997          0               1         42085.58  \n",
       "9998          1               0         92888.52  \n",
       "9999          1               0         38190.78  \n",
       "\n",
       "[10000 rows x 10 columns]"
      ]
     },
     "execution_count": 12,
     "metadata": {},
     "output_type": "execute_result"
    }
   ],
   "source": [
    "features"
   ]
  },
  {
   "cell_type": "markdown",
   "metadata": {
    "id": "RPH6dVJVvtM6"
   },
   "source": [
    "Проверим корреляцию оставшихся данных, возможно есть коррелирующие признаки и получится удалить еще какой-либо из признаков, для упрощения процесса обучения."
   ]
  },
  {
   "cell_type": "code",
   "execution_count": 13,
   "metadata": {
    "colab": {
     "base_uri": "https://localhost:8080/",
     "height": 294
    },
    "id": "c8kUssHl23tN",
    "outputId": "7b2b041c-e7e7-41fd-941c-056b0261c015"
   },
   "outputs": [
    {
     "data": {
      "text/html": [
       "<div>\n",
       "<style scoped>\n",
       "    .dataframe tbody tr th:only-of-type {\n",
       "        vertical-align: middle;\n",
       "    }\n",
       "\n",
       "    .dataframe tbody tr th {\n",
       "        vertical-align: top;\n",
       "    }\n",
       "\n",
       "    .dataframe thead th {\n",
       "        text-align: right;\n",
       "    }\n",
       "</style>\n",
       "<table border=\"1\" class=\"dataframe\">\n",
       "  <thead>\n",
       "    <tr style=\"text-align: right;\">\n",
       "      <th></th>\n",
       "      <th>CreditScore</th>\n",
       "      <th>Age</th>\n",
       "      <th>Tenure</th>\n",
       "      <th>Balance</th>\n",
       "      <th>NumOfProducts</th>\n",
       "      <th>HasCrCard</th>\n",
       "      <th>IsActiveMember</th>\n",
       "      <th>EstimatedSalary</th>\n",
       "    </tr>\n",
       "  </thead>\n",
       "  <tbody>\n",
       "    <tr>\n",
       "      <th>CreditScore</th>\n",
       "      <td>1.000000</td>\n",
       "      <td>-0.003965</td>\n",
       "      <td>0.000648</td>\n",
       "      <td>0.006268</td>\n",
       "      <td>0.012238</td>\n",
       "      <td>-0.005458</td>\n",
       "      <td>0.025651</td>\n",
       "      <td>-0.001384</td>\n",
       "    </tr>\n",
       "    <tr>\n",
       "      <th>Age</th>\n",
       "      <td>-0.003965</td>\n",
       "      <td>1.000000</td>\n",
       "      <td>-0.013565</td>\n",
       "      <td>0.028308</td>\n",
       "      <td>-0.030680</td>\n",
       "      <td>-0.011721</td>\n",
       "      <td>0.085472</td>\n",
       "      <td>-0.007201</td>\n",
       "    </tr>\n",
       "    <tr>\n",
       "      <th>Tenure</th>\n",
       "      <td>0.000648</td>\n",
       "      <td>-0.013565</td>\n",
       "      <td>1.000000</td>\n",
       "      <td>-0.004701</td>\n",
       "      <td>0.002100</td>\n",
       "      <td>0.020540</td>\n",
       "      <td>-0.031071</td>\n",
       "      <td>0.010073</td>\n",
       "    </tr>\n",
       "    <tr>\n",
       "      <th>Balance</th>\n",
       "      <td>0.006268</td>\n",
       "      <td>0.028308</td>\n",
       "      <td>-0.004701</td>\n",
       "      <td>1.000000</td>\n",
       "      <td>-0.304180</td>\n",
       "      <td>-0.014858</td>\n",
       "      <td>-0.010084</td>\n",
       "      <td>0.012797</td>\n",
       "    </tr>\n",
       "    <tr>\n",
       "      <th>NumOfProducts</th>\n",
       "      <td>0.012238</td>\n",
       "      <td>-0.030680</td>\n",
       "      <td>0.002100</td>\n",
       "      <td>-0.304180</td>\n",
       "      <td>1.000000</td>\n",
       "      <td>0.003183</td>\n",
       "      <td>0.009612</td>\n",
       "      <td>0.014204</td>\n",
       "    </tr>\n",
       "    <tr>\n",
       "      <th>HasCrCard</th>\n",
       "      <td>-0.005458</td>\n",
       "      <td>-0.011721</td>\n",
       "      <td>0.020540</td>\n",
       "      <td>-0.014858</td>\n",
       "      <td>0.003183</td>\n",
       "      <td>1.000000</td>\n",
       "      <td>-0.011866</td>\n",
       "      <td>-0.009933</td>\n",
       "    </tr>\n",
       "    <tr>\n",
       "      <th>IsActiveMember</th>\n",
       "      <td>0.025651</td>\n",
       "      <td>0.085472</td>\n",
       "      <td>-0.031071</td>\n",
       "      <td>-0.010084</td>\n",
       "      <td>0.009612</td>\n",
       "      <td>-0.011866</td>\n",
       "      <td>1.000000</td>\n",
       "      <td>-0.011421</td>\n",
       "    </tr>\n",
       "    <tr>\n",
       "      <th>EstimatedSalary</th>\n",
       "      <td>-0.001384</td>\n",
       "      <td>-0.007201</td>\n",
       "      <td>0.010073</td>\n",
       "      <td>0.012797</td>\n",
       "      <td>0.014204</td>\n",
       "      <td>-0.009933</td>\n",
       "      <td>-0.011421</td>\n",
       "      <td>1.000000</td>\n",
       "    </tr>\n",
       "  </tbody>\n",
       "</table>\n",
       "</div>"
      ],
      "text/plain": [
       "                 CreditScore       Age    Tenure   Balance  NumOfProducts  \\\n",
       "CreditScore         1.000000 -0.003965  0.000648  0.006268       0.012238   \n",
       "Age                -0.003965  1.000000 -0.013565  0.028308      -0.030680   \n",
       "Tenure              0.000648 -0.013565  1.000000 -0.004701       0.002100   \n",
       "Balance             0.006268  0.028308 -0.004701  1.000000      -0.304180   \n",
       "NumOfProducts       0.012238 -0.030680  0.002100 -0.304180       1.000000   \n",
       "HasCrCard          -0.005458 -0.011721  0.020540 -0.014858       0.003183   \n",
       "IsActiveMember      0.025651  0.085472 -0.031071 -0.010084       0.009612   \n",
       "EstimatedSalary    -0.001384 -0.007201  0.010073  0.012797       0.014204   \n",
       "\n",
       "                 HasCrCard  IsActiveMember  EstimatedSalary  \n",
       "CreditScore      -0.005458        0.025651        -0.001384  \n",
       "Age              -0.011721        0.085472        -0.007201  \n",
       "Tenure            0.020540       -0.031071         0.010073  \n",
       "Balance          -0.014858       -0.010084         0.012797  \n",
       "NumOfProducts     0.003183        0.009612         0.014204  \n",
       "HasCrCard         1.000000       -0.011866        -0.009933  \n",
       "IsActiveMember   -0.011866        1.000000        -0.011421  \n",
       "EstimatedSalary  -0.009933       -0.011421         1.000000  "
      ]
     },
     "execution_count": 13,
     "metadata": {},
     "output_type": "execute_result"
    }
   ],
   "source": [
    "features.corr()"
   ]
  },
  {
   "cell_type": "code",
   "execution_count": 14,
   "metadata": {
    "colab": {
     "base_uri": "https://localhost:8080/",
     "height": 898
    },
    "id": "drh19ZHV23tN",
    "outputId": "7cc66c53-b205-4ded-93ae-0762a4399f09"
   },
   "outputs": [
    {
     "data": {
      "image/png": "[encoded data removed]",
      "text/plain": [
       "<Figure size 990x990 with 2 Axes>"
      ]
     },
     "metadata": {
      "needs_background": "light"
     },
     "output_type": "display_data"
    }
   ],
   "source": [
    "import seaborn as sn\n",
    "from matplotlib.pyplot import figure\n",
    "figure(figsize=(11, 11), dpi=90)\n",
    "corrMatrix = df.corr()\n",
    "sn.heatmap(corrMatrix, annot=True)\n",
    "plt.show()"
   ]
  },
  {
   "cell_type": "markdown",
   "metadata": {
    "id": "OZgQunU9wxuY"
   },
   "source": [
    "Сильно коррелирующих признаков нет."
   ]
  },
  {
   "cell_type": "markdown",
   "metadata": {
    "id": "iGqNFedZw6Af"
   },
   "source": [
    "### Подготовка данных для обучения модели"
   ]
  },
  {
   "cell_type": "markdown",
   "metadata": {
    "id": "UbuBH_Xl23tO"
   },
   "source": [
    "Произведем кодировку категориальных признаков методом one hot encoding для тестовых данных:"
   ]
  },
  {
   "cell_type": "code",
   "execution_count": 15,
   "metadata": {
    "id": "BtgJLE3fysGt"
   },
   "outputs": [],
   "source": [
    "features_OHE = pd.get_dummies(features)\n",
    "target_OHE = pd.get_dummies(target)"
   ]
  },
  {
   "cell_type": "markdown",
   "metadata": {
    "id": "q92o3PsmxgIx"
   },
   "source": [
    "Отделим от имеющихся данных 10 процентов для последующего тестирования:"
   ]
  },
  {
   "cell_type": "code",
   "execution_count": 16,
   "metadata": {
    "id": "NwfzPPMT23tN"
   },
   "outputs": [],
   "source": [
    "features, features_test, target, target_test = train_test_split(features_OHE,target_OHE, test_size = 0.1, random_state = 42)"
   ]
  },
  {
   "cell_type": "markdown",
   "metadata": {
    "id": "I8IopUo90k18"
   },
   "source": [
    "Произведем масштабирование тестовых данных"
   ]
  },
  {
   "cell_type": "code",
   "execution_count": 17,
   "metadata": {
    "colab": {
     "base_uri": "https://localhost:8080/",
     "height": 416
    },
    "id": "XxpSpdbg3LbN",
    "outputId": "601bb227-325a-4c54-b061-2cd250c3c073"
   },
   "outputs": [
    {
     "data": {
      "text/html": [
       "<div>\n",
       "<style scoped>\n",
       "    .dataframe tbody tr th:only-of-type {\n",
       "        vertical-align: middle;\n",
       "    }\n",
       "\n",
       "    .dataframe tbody tr th {\n",
       "        vertical-align: top;\n",
       "    }\n",
       "\n",
       "    .dataframe thead th {\n",
       "        text-align: right;\n",
       "    }\n",
       "</style>\n",
       "<table border=\"1\" class=\"dataframe\">\n",
       "  <thead>\n",
       "    <tr style=\"text-align: right;\">\n",
       "      <th></th>\n",
       "      <th>CreditScore</th>\n",
       "      <th>Age</th>\n",
       "      <th>Tenure</th>\n",
       "      <th>Balance</th>\n",
       "      <th>NumOfProducts</th>\n",
       "      <th>HasCrCard</th>\n",
       "      <th>IsActiveMember</th>\n",
       "      <th>EstimatedSalary</th>\n",
       "      <th>Geography_France</th>\n",
       "      <th>Geography_Germany</th>\n",
       "      <th>Geography_Spain</th>\n",
       "      <th>Gender_Female</th>\n",
       "      <th>Gender_Male</th>\n",
       "    </tr>\n",
       "  </thead>\n",
       "  <tbody>\n",
       "    <tr>\n",
       "      <th>6252</th>\n",
       "      <td>596</td>\n",
       "      <td>32</td>\n",
       "      <td>3.0</td>\n",
       "      <td>96709.07</td>\n",
       "      <td>2</td>\n",
       "      <td>0</td>\n",
       "      <td>0</td>\n",
       "      <td>41788.37</td>\n",
       "      <td>0</td>\n",
       "      <td>1</td>\n",
       "      <td>0</td>\n",
       "      <td>0</td>\n",
       "      <td>1</td>\n",
       "    </tr>\n",
       "    <tr>\n",
       "      <th>4684</th>\n",
       "      <td>623</td>\n",
       "      <td>43</td>\n",
       "      <td>1.0</td>\n",
       "      <td>0.00</td>\n",
       "      <td>2</td>\n",
       "      <td>1</td>\n",
       "      <td>1</td>\n",
       "      <td>146379.30</td>\n",
       "      <td>1</td>\n",
       "      <td>0</td>\n",
       "      <td>0</td>\n",
       "      <td>0</td>\n",
       "      <td>1</td>\n",
       "    </tr>\n",
       "    <tr>\n",
       "      <th>1731</th>\n",
       "      <td>601</td>\n",
       "      <td>44</td>\n",
       "      <td>4.0</td>\n",
       "      <td>0.00</td>\n",
       "      <td>2</td>\n",
       "      <td>1</td>\n",
       "      <td>0</td>\n",
       "      <td>58561.31</td>\n",
       "      <td>0</td>\n",
       "      <td>0</td>\n",
       "      <td>1</td>\n",
       "      <td>1</td>\n",
       "      <td>0</td>\n",
       "    </tr>\n",
       "    <tr>\n",
       "      <th>4742</th>\n",
       "      <td>506</td>\n",
       "      <td>59</td>\n",
       "      <td>8.0</td>\n",
       "      <td>119152.10</td>\n",
       "      <td>2</td>\n",
       "      <td>1</td>\n",
       "      <td>1</td>\n",
       "      <td>170679.74</td>\n",
       "      <td>0</td>\n",
       "      <td>1</td>\n",
       "      <td>0</td>\n",
       "      <td>0</td>\n",
       "      <td>1</td>\n",
       "    </tr>\n",
       "    <tr>\n",
       "      <th>4521</th>\n",
       "      <td>560</td>\n",
       "      <td>27</td>\n",
       "      <td>7.0</td>\n",
       "      <td>124995.98</td>\n",
       "      <td>1</td>\n",
       "      <td>1</td>\n",
       "      <td>1</td>\n",
       "      <td>114669.79</td>\n",
       "      <td>0</td>\n",
       "      <td>0</td>\n",
       "      <td>1</td>\n",
       "      <td>1</td>\n",
       "      <td>0</td>\n",
       "    </tr>\n",
       "    <tr>\n",
       "      <th>...</th>\n",
       "      <td>...</td>\n",
       "      <td>...</td>\n",
       "      <td>...</td>\n",
       "      <td>...</td>\n",
       "      <td>...</td>\n",
       "      <td>...</td>\n",
       "      <td>...</td>\n",
       "      <td>...</td>\n",
       "      <td>...</td>\n",
       "      <td>...</td>\n",
       "      <td>...</td>\n",
       "      <td>...</td>\n",
       "      <td>...</td>\n",
       "    </tr>\n",
       "    <tr>\n",
       "      <th>3921</th>\n",
       "      <td>567</td>\n",
       "      <td>59</td>\n",
       "      <td>3.0</td>\n",
       "      <td>0.00</td>\n",
       "      <td>2</td>\n",
       "      <td>1</td>\n",
       "      <td>0</td>\n",
       "      <td>25843.70</td>\n",
       "      <td>1</td>\n",
       "      <td>0</td>\n",
       "      <td>0</td>\n",
       "      <td>0</td>\n",
       "      <td>1</td>\n",
       "    </tr>\n",
       "    <tr>\n",
       "      <th>6685</th>\n",
       "      <td>636</td>\n",
       "      <td>34</td>\n",
       "      <td>8.0</td>\n",
       "      <td>0.00</td>\n",
       "      <td>2</td>\n",
       "      <td>1</td>\n",
       "      <td>0</td>\n",
       "      <td>38570.13</td>\n",
       "      <td>1</td>\n",
       "      <td>0</td>\n",
       "      <td>0</td>\n",
       "      <td>0</td>\n",
       "      <td>1</td>\n",
       "    </tr>\n",
       "    <tr>\n",
       "      <th>3194</th>\n",
       "      <td>690</td>\n",
       "      <td>26</td>\n",
       "      <td>3.0</td>\n",
       "      <td>118097.87</td>\n",
       "      <td>1</td>\n",
       "      <td>1</td>\n",
       "      <td>0</td>\n",
       "      <td>61257.83</td>\n",
       "      <td>1</td>\n",
       "      <td>0</td>\n",
       "      <td>0</td>\n",
       "      <td>1</td>\n",
       "      <td>0</td>\n",
       "    </tr>\n",
       "    <tr>\n",
       "      <th>1941</th>\n",
       "      <td>452</td>\n",
       "      <td>44</td>\n",
       "      <td>3.0</td>\n",
       "      <td>88915.85</td>\n",
       "      <td>1</td>\n",
       "      <td>1</td>\n",
       "      <td>0</td>\n",
       "      <td>69697.74</td>\n",
       "      <td>0</td>\n",
       "      <td>0</td>\n",
       "      <td>1</td>\n",
       "      <td>0</td>\n",
       "      <td>1</td>\n",
       "    </tr>\n",
       "    <tr>\n",
       "      <th>7713</th>\n",
       "      <td>793</td>\n",
       "      <td>56</td>\n",
       "      <td>8.0</td>\n",
       "      <td>119496.25</td>\n",
       "      <td>2</td>\n",
       "      <td>1</td>\n",
       "      <td>0</td>\n",
       "      <td>29880.99</td>\n",
       "      <td>1</td>\n",
       "      <td>0</td>\n",
       "      <td>0</td>\n",
       "      <td>0</td>\n",
       "      <td>1</td>\n",
       "    </tr>\n",
       "  </tbody>\n",
       "</table>\n",
       "<p>1000 rows × 13 columns</p>\n",
       "</div>"
      ],
      "text/plain": [
       "      CreditScore  Age  Tenure    Balance  NumOfProducts  HasCrCard  \\\n",
       "6252          596   32     3.0   96709.07              2          0   \n",
       "4684          623   43     1.0       0.00              2          1   \n",
       "1731          601   44     4.0       0.00              2          1   \n",
       "4742          506   59     8.0  119152.10              2          1   \n",
       "4521          560   27     7.0  124995.98              1          1   \n",
       "...           ...  ...     ...        ...            ...        ...   \n",
       "3921          567   59     3.0       0.00              2          1   \n",
       "6685          636   34     8.0       0.00              2          1   \n",
       "3194          690   26     3.0  118097.87              1          1   \n",
       "1941          452   44     3.0   88915.85              1          1   \n",
       "7713          793   56     8.0  119496.25              2          1   \n",
       "\n",
       "      IsActiveMember  EstimatedSalary  Geography_France  Geography_Germany  \\\n",
       "6252               0         41788.37                 0                  1   \n",
       "4684               1        146379.30                 1                  0   \n",
       "1731               0         58561.31                 0                  0   \n",
       "4742               1        170679.74                 0                  1   \n",
       "4521               1        114669.79                 0                  0   \n",
       "...              ...              ...               ...                ...   \n",
       "3921               0         25843.70                 1                  0   \n",
       "6685               0         38570.13                 1                  0   \n",
       "3194               0         61257.83                 1                  0   \n",
       "1941               0         69697.74                 0                  0   \n",
       "7713               0         29880.99                 1                  0   \n",
       "\n",
       "      Geography_Spain  Gender_Female  Gender_Male  \n",
       "6252                0              0            1  \n",
       "4684                0              0            1  \n",
       "1731                1              1            0  \n",
       "4742                0              0            1  \n",
       "4521                1              1            0  \n",
       "...               ...            ...          ...  \n",
       "3921                0              0            1  \n",
       "6685                0              0            1  \n",
       "3194                0              1            0  \n",
       "1941                1              0            1  \n",
       "7713                0              0            1  \n",
       "\n",
       "[1000 rows x 13 columns]"
      ]
     },
     "execution_count": 17,
     "metadata": {},
     "output_type": "execute_result"
    }
   ],
   "source": [
    "features_test"
   ]
  },
  {
   "cell_type": "code",
   "execution_count": 19,
   "metadata": {
    "id": "-We6axZg23tO"
   },
   "outputs": [],
   "source": [
    "pd.options.mode.chained_assignment = None\n",
    "numeric = ['CreditScore','Age','Tenure','Balance','NumOfProducts','HasCrCard','IsActiveMember', 'EstimatedSalary',\\\n",
    "           'Geography_France','Geography_Germany','Geography_Spain','Gender_Female','Gender_Male']\n",
    "\n",
    "scaler = StandardScaler()\n",
    "scaler.fit(features_test)\n",
    "features_test[numeric] = scaler.transform(features_test[numeric])\n",
    "\n"
   ]
  },
  {
   "cell_type": "markdown",
   "metadata": {
    "id": "PESPEXlG0ptn"
   },
   "source": [
    "Разделим данные на тренировочную и валидационную выборки, а также произведем масштабирование данных:"
   ]
  },
  {
   "cell_type": "code",
   "execution_count": 20,
   "metadata": {
    "id": "0ok00yKI23tO"
   },
   "outputs": [],
   "source": [
    "pd.options.mode.chained_assignment = None\n",
    "features_OHE_train, features_OHE_valid, target_OHE_train, target_OHE_valid = \\\n",
    "train_test_split(features, target, test_size = 0.25, random_state = 12345)\n",
    "\n",
    "scaler = StandardScaler()\n",
    "scaler.fit(features_OHE_train)\n",
    "features_OHE_train[numeric] = scaler.transform(features_OHE_train[numeric])\n",
    "features_OHE_valid[numeric] = scaler.transform(features_OHE_valid[numeric])"
   ]
  },
  {
   "cell_type": "markdown",
   "metadata": {
    "id": "tYj7_hqzxYtL"
   },
   "source": [
    "### Обучение моделей"
   ]
  },
  {
   "cell_type": "markdown",
   "metadata": {
    "id": "y3P2rVIn23tR"
   },
   "source": [
    "#### Метод решающего дерева"
   ]
  },
  {
   "cell_type": "markdown",
   "metadata": {
    "id": "X7oNfuaa23tR"
   },
   "source": [
    "Так как значения признаков имеют сильно отличающийся порядок, то произведем масштабирование признаков:"
   ]
  },
  {
   "cell_type": "code",
   "execution_count": 21,
   "metadata": {
    "colab": {
     "base_uri": "https://localhost:8080/"
    },
    "id": "niSLSfi423tS",
    "outputId": "35141b44-fc74-4b0e-d67f-21fbbc1175ca"
   },
   "outputs": [
    {
     "data": {
      "text/plain": [
       "DecisionTreeClassifier(max_depth=7, min_samples_leaf=19, random_state=12345)"
      ]
     },
     "execution_count": 21,
     "metadata": {},
     "output_type": "execute_result"
    }
   ],
   "source": [
    "clf = tree()\n",
    "params = {'max_depth':range(5,10,1), 'min_samples_leaf':range(1,20,1), 'min_samples_leaf':range(1,40,2), 'random_state' :[12345],'criterion' : ['gini', 'entropy']}\n",
    "grdclf = GridSearchCV(clf,params)\n",
    "grdclf.fit(features_OHE_train, target_OHE_train)\n",
    "bestclf = grdclf.best_estimator_\n",
    "bestclf"
   ]
  },
  {
   "cell_type": "markdown",
   "metadata": {
    "id": "U31FkYPF23tT"
   },
   "source": [
    "Получим предсказания и значение f1 score:"
   ]
  },
  {
   "cell_type": "code",
   "execution_count": 22,
   "metadata": {
    "colab": {
     "base_uri": "https://localhost:8080/"
    },
    "id": "1FxCZbff23tT",
    "outputId": "6719bf0e-c47c-4daf-9e6f-e221599b4fdc"
   },
   "outputs": [
    {
     "data": {
      "text/plain": [
       "0.5864661654135338"
      ]
     },
     "execution_count": 22,
     "metadata": {},
     "output_type": "execute_result"
    }
   ],
   "source": [
    "predicted_valid = bestclf.predict(features_OHE_valid)\n",
    "tree_f1 = f1_score(target_OHE_valid, predicted_valid)\n",
    "tree_f1"
   ]
  },
  {
   "cell_type": "code",
   "execution_count": 23,
   "metadata": {
    "colab": {
     "base_uri": "https://localhost:8080/",
     "height": 329
    },
    "id": "bocsdCKrkqiJ",
    "outputId": "d3b24082-81c3-487b-af7e-4c126a57991e",
    "scrolled": true
   },
   "outputs": [
    {
     "name": "stdout",
     "output_type": "stream",
     "text": [
      "Значение Area Under Curve ROC 0.8517055162313888\n",
      "--------------------\n"
     ]
    },
    {
     "data": {
      "image/png": "[encoded data removed]",
      "text/plain": [
       "<Figure size 432x288 with 1 Axes>"
      ]
     },
     "metadata": {
      "needs_background": "light"
     },
     "output_type": "display_data"
    }
   ],
   "source": [
    "### Здесь комментариями буду задвать вопросы, потому что код написал по примерам в тренажере,\n",
    "### но полного понимания написанного нет\n",
    "def get_roc_curve(model,features, target):\n",
    "    '''\n",
    "    Функция для построения ROC-curve и вычисления auc_roc_score\n",
    "    '''\n",
    "    probabilities_valid  = model.predict_proba(features)#Получаем вероятность отнесения элемента к 0 или 1 классу\n",
    "    probabilities_one_valid = probabilities_valid[:, 1]# получаем вероятность отнесения к первому классу\n",
    "    auc_roc = roc_auc_score(target, probabilities_one_valid)\n",
    "    print(f'Значение Area Under Curve ROC {auc_roc}')\n",
    "    print('--------------------')\n",
    "    fpr, tpr, thresholds = roc_curve(target_OHE_valid, probabilities_one_valid)\n",
    "    \"\"\" даем на вход правильные ответы и вероятности отнесения к 1 классу\n",
    "    #И  внутри функции вычисляется TPR=TP/P, FPR=FP/N? а зачем thresholds ? на графике ведь только FPR, TPR. thresholds - это\n",
    "    и тчо такое thersholds? что показывают эти значения?\n",
    "    \"\"\"\n",
    "    plt.figure()\n",
    "    plt.plot(fpr, tpr)\n",
    "    plt.plot([0,1], [0,1], linestyle = 'dashed', )\n",
    "    plt.xlim([0.0, 1.0])\n",
    "    plt.ylim([0.0, 1.0])\n",
    "    plt.xlabel('False Positive Rate')\n",
    "    plt.ylabel('True Positive Rate')\n",
    "    plt.title('ROC-кривая')\n",
    "    return plt.show() \n",
    "get_roc_curve(bestclf,features_OHE_valid, target_OHE_valid)\n"
   ]
  },
  {
   "cell_type": "markdown",
   "metadata": {
    "id": "p1pYSrP4kpMU"
   },
   "source": [
    "**Вывод**\n",
    "\n",
    "Значение f1_score 0.586, auc_roc_score = 0.85. По данным значениям видно, что модель делает классификацию не очень точно, а так же, что наша модель значительно лучше случайной модели."
   ]
  },
  {
   "cell_type": "markdown",
   "metadata": {
    "id": "RNMOeNNR23tQ"
   },
   "source": [
    "#### Метод случайного леса"
   ]
  },
  {
   "cell_type": "code",
   "execution_count": 24,
   "metadata": {
    "id": "wuFyKDpE7nd6"
   },
   "outputs": [],
   "source": [
    "rfc = RandomForestClassifier()\n",
    "params = {'max_depth':range(1,11,1), 'min_samples_leaf':range(1,6,1), 'min_samples_split' : range(2,6,2),'n_estimators':[61], 'random_state' :[12345]}\n",
    "grdclf = GridSearchCV(rfc,params)\n",
    "grdclf.fit(features_OHE_train, target_OHE_train.values.ravel())\n",
    "bestclf = grdclf.best_estimator_\n",
    "predicted_valid = bestclf.predict(features_OHE_valid)\n",
    "tree_f1 = f1_score(target_OHE_valid, predicted_valid)\n"
   ]
  },
  {
   "cell_type": "code",
   "execution_count": 25,
   "metadata": {
    "colab": {
     "base_uri": "https://localhost:8080/"
    },
    "id": "DFVpNmm-8E7L",
    "outputId": "f4ba0daf-a030-4f84-e958-2617018eef08"
   },
   "outputs": [
    {
     "data": {
      "text/plain": [
       "RandomForestClassifier(max_depth=10, min_samples_leaf=4, n_estimators=61,\n",
       "                       random_state=12345)"
      ]
     },
     "execution_count": 25,
     "metadata": {},
     "output_type": "execute_result"
    }
   ],
   "source": [
    "bestclf"
   ]
  },
  {
   "cell_type": "code",
   "execution_count": 26,
   "metadata": {
    "colab": {
     "base_uri": "https://localhost:8080/"
    },
    "id": "Y_OBWCOs9JLL",
    "outputId": "e0d496ad-6faa-4c36-def6-af1e19703b20"
   },
   "outputs": [
    {
     "data": {
      "text/plain": [
       "0.5721925133689839"
      ]
     },
     "execution_count": 26,
     "metadata": {},
     "output_type": "execute_result"
    }
   ],
   "source": [
    "tree_f1"
   ]
  },
  {
   "cell_type": "markdown",
   "metadata": {
    "id": "IpkTgtq4n-P6"
   },
   "source": [
    "Построим ROC-curve для проверки адекватности модели"
   ]
  },
  {
   "cell_type": "code",
   "execution_count": 27,
   "metadata": {
    "colab": {
     "base_uri": "https://localhost:8080/",
     "height": 329
    },
    "id": "1TLJ6unon6dD",
    "outputId": "abd0e63c-9c55-4d41-977a-481d3094e80e"
   },
   "outputs": [
    {
     "name": "stdout",
     "output_type": "stream",
     "text": [
      "Значение Area Under Curve ROC 0.8516409755731211\n",
      "--------------------\n"
     ]
    },
    {
     "data": {
      "image/png": "[encoded data removed]",
      "text/plain": [
       "<Figure size 432x288 with 1 Axes>"
      ]
     },
     "metadata": {
      "needs_background": "light"
     },
     "output_type": "display_data"
    }
   ],
   "source": [
    "get_roc_curve(bestclf,features_OHE_valid, target_OHE_valid)"
   ]
  },
  {
   "cell_type": "markdown",
   "metadata": {
    "id": "GMAee5dg23tU"
   },
   "source": [
    "Вывод: Полученное значение f1 score достаточно низкое, при этом наблюдается сильный дисбаланс классов. Устраним дисбаланс и посмотрим на изменение значения f1_score."
   ]
  },
  {
   "cell_type": "markdown",
   "metadata": {
    "id": "gVu8sNoZ23tU"
   },
   "source": [
    "## 3. Проверка и борьба с дисбалансом"
   ]
  },
  {
   "cell_type": "code",
   "execution_count": 29,
   "metadata": {
    "colab": {
     "base_uri": "https://localhost:8080/"
    },
    "id": "GQZ_n9ZNLXqw",
    "outputId": "3e6d6dbe-dbe9-4859-bd68-b79d87ea5258"
   },
   "outputs": [
    {
     "data": {
      "text/plain": [
       "Exited\n",
       "0         5386\n",
       "1         1364\n",
       "dtype: int64"
      ]
     },
     "execution_count": 29,
     "metadata": {},
     "output_type": "execute_result"
    }
   ],
   "source": [
    "target_OHE_train.value_counts()"
   ]
  },
  {
   "cell_type": "markdown",
   "metadata": {
    "id": "OfhULhNXLfUY"
   },
   "source": [
    "Видим, что элементов 0 класса почти в 4 раза больше чем элементов 1 класса. Скоректируем баланс классов перед последующим обучением. "
   ]
  },
  {
   "cell_type": "markdown",
   "metadata": {
    "id": "4fGvAkFX23tV"
   },
   "source": [
    "### 3.1. Метод upsampling"
   ]
  },
  {
   "cell_type": "code",
   "execution_count": 30,
   "metadata": {
    "id": "vcGPEpHH23tV"
   },
   "outputs": [],
   "source": [
    "def upsample(features, target, repeat):\n",
    "    '''\n",
    "    Функция увеличивает число элементов класса 0 и перемешивает выборку\n",
    "    '''\n",
    "    \n",
    "    features_zeros = features[target.Exited == 0]\n",
    "    features_ones = features[target.Exited == 1]\n",
    "    target_zeros = target[target.Exited == 0]\n",
    "    target_ones = target[target.Exited == 1]\n",
    "    \n",
    "    features_upsampled = pd.concat([features_zeros]+[features_ones]*repeat)\n",
    "    target_upsampled = pd.concat([target_zeros]+[target_ones]*repeat)\n",
    "    features_upsampled, target_upsampled = shuffle(features_upsampled, target_upsampled, random_state=12345)\n",
    "    print(features_zeros)\n",
    "    return features_upsampled, target_upsampled"
   ]
  },
  {
   "cell_type": "code",
   "execution_count": 31,
   "metadata": {
    "colab": {
     "base_uri": "https://localhost:8080/"
    },
    "id": "7ELCPXzj23tV",
    "outputId": "b14401b3-34f6-4e55-d0eb-9e84e3cf7d95"
   },
   "outputs": [
    {
     "name": "stdout",
     "output_type": "stream",
     "text": [
      "      CreditScore       Age    Tenure   Balance  NumOfProducts  HasCrCard  \\\n",
      "5441     1.038926 -0.940027 -1.580368  0.957106      -0.907248   0.639676   \n",
      "4277     1.287465  1.155854 -1.194773  0.769309      -0.907248   0.639676   \n",
      "5919    -0.058786  0.965319  1.118796 -1.208541       0.813922   0.639676   \n",
      "521      2.064148  1.632190  0.733201  0.889693      -0.907248   0.639676   \n",
      "7726     0.873234  1.536923  0.347607  0.934803      -0.907248   0.639676   \n",
      "...           ...       ...       ...       ...            ...        ...   \n",
      "5429     0.324378  0.870052  0.733201 -1.208541       0.813922   0.639676   \n",
      "5860    -2.047094 -0.177889 -0.423583  0.897959       0.813922   0.639676   \n",
      "7149     0.303667 -0.177889 -0.423583 -1.208541       0.813922   0.639676   \n",
      "6145    -1.249699 -1.606899  0.733201 -1.208541       0.813922   0.639676   \n",
      "7836    -0.027718  0.298448 -0.423583 -1.208541       0.813922   0.639676   \n",
      "\n",
      "      IsActiveMember  EstimatedSalary  Geography_France  Geography_Germany  \\\n",
      "5441       -1.031610        -0.565544          0.995270          -0.576552   \n",
      "4277        0.969358         0.621352         -1.004752           1.734449   \n",
      "5919       -1.031610         1.094027         -1.004752          -0.576552   \n",
      "521         0.969358         0.347170          0.995270          -0.576552   \n",
      "7726       -1.031610        -1.691090          0.995270          -0.576552   \n",
      "...              ...              ...               ...                ...   \n",
      "5429       -1.031610        -0.596165          0.995270          -0.576552   \n",
      "5860       -1.031610        -1.574603          0.995270          -0.576552   \n",
      "7149       -1.031610        -0.662908          0.995270          -0.576552   \n",
      "6145       -1.031610         0.085561         -1.004752          -0.576552   \n",
      "7836       -1.031610        -1.394432          0.995270          -0.576552   \n",
      "\n",
      "      Geography_Spain  Gender_Female  Gender_Male  \n",
      "5441        -0.574499      -0.913640     0.913640  \n",
      "4277        -0.574499      -0.913640     0.913640  \n",
      "5919         1.740647      -0.913640     0.913640  \n",
      "521         -0.574499      -0.913640     0.913640  \n",
      "7726        -0.574499      -0.913640     0.913640  \n",
      "...               ...            ...          ...  \n",
      "5429        -0.574499       1.094523    -1.094523  \n",
      "5860        -0.574499       1.094523    -1.094523  \n",
      "7149        -0.574499      -0.913640     0.913640  \n",
      "6145         1.740647       1.094523    -1.094523  \n",
      "7836        -0.574499      -0.913640     0.913640  \n",
      "\n",
      "[5386 rows x 13 columns]\n"
     ]
    }
   ],
   "source": [
    "features_upsampled, target_upsampled = upsample(features_OHE_train, target_OHE_train, 4)"
   ]
  },
  {
   "cell_type": "markdown",
   "metadata": {
    "id": "bz1mjOsyA034"
   },
   "source": [
    "#### 3.1.1 Метод решаюшего дерева"
   ]
  },
  {
   "cell_type": "code",
   "execution_count": 32,
   "metadata": {
    "colab": {
     "base_uri": "https://localhost:8080/"
    },
    "id": "PzVuiuZp23tW",
    "outputId": "45480215-d626-4b9b-e4e2-68de4d0edc7c"
   },
   "outputs": [
    {
     "data": {
      "text/plain": [
       "DecisionTreeClassifier(max_depth=10, random_state=12345)"
      ]
     },
     "execution_count": 32,
     "metadata": {},
     "output_type": "execute_result"
    }
   ],
   "source": [
    "clf = tree()\n",
    "params = {'max_depth':range(5,11,1), 'min_samples_leaf':range(1,10,1), 'min_samples_split':range(2,16,2), 'random_state' :[12345]}\n",
    "grdclf = GridSearchCV(clf,params)\n",
    "grdclf.fit(features_upsampled, target_upsampled)\n",
    "bestclf = grdclf.best_estimator_\n",
    "bestclf"
   ]
  },
  {
   "cell_type": "code",
   "execution_count": 33,
   "metadata": {
    "colab": {
     "base_uri": "https://localhost:8080/"
    },
    "id": "raIc4IXp23tX",
    "outputId": "9e2b0606-527b-42a4-83f4-979b96254eea"
   },
   "outputs": [
    {
     "data": {
      "text/plain": [
       "0.5480427046263344"
      ]
     },
     "execution_count": 33,
     "metadata": {},
     "output_type": "execute_result"
    }
   ],
   "source": [
    "predicted_valid = bestclf.predict(features_OHE_valid)\n",
    "tree_f1 = f1_score(target_OHE_valid, predicted_valid)\n",
    "tree_f1"
   ]
  },
  {
   "cell_type": "markdown",
   "metadata": {
    "id": "PHb7XeophBiL"
   },
   "source": [
    "Далее проверим модель на адекватность - насколько она отличается от случайной модели."
   ]
  },
  {
   "cell_type": "code",
   "execution_count": 34,
   "metadata": {
    "colab": {
     "base_uri": "https://localhost:8080/",
     "height": 329
    },
    "id": "0CeqaopQfxrJ",
    "outputId": "f30ec2be-e127-4f9c-f5b5-0aee72cbe2d4"
   },
   "outputs": [
    {
     "name": "stdout",
     "output_type": "stream",
     "text": [
      "Значение Area Under Curve ROC 0.7516604551172529\n",
      "--------------------\n"
     ]
    },
    {
     "data": {
      "image/png": "[encoded data removed]",
      "text/plain": [
       "<Figure size 432x288 with 1 Axes>"
      ]
     },
     "metadata": {
      "needs_background": "light"
     },
     "output_type": "display_data"
    }
   ],
   "source": [
    "get_roc_curve(bestclf,features_OHE_valid, target_OHE_valid)"
   ]
  },
  {
   "cell_type": "markdown",
   "metadata": {
    "id": "pZhSgcREkHA4"
   },
   "source": [
    "**Вывод:**\n",
    "Значение f1_score 0.548, auc_roc_score=0.75\n",
    "\n",
    "\n"
   ]
  },
  {
   "cell_type": "markdown",
   "metadata": {
    "id": "AWWmSQUu23tY"
   },
   "source": [
    "#### 3.1.2 RandomForestClassifier"
   ]
  },
  {
   "cell_type": "code",
   "execution_count": 35,
   "metadata": {
    "colab": {
     "base_uri": "https://localhost:8080/"
    },
    "id": "Lhmy9AJx23tY",
    "outputId": "ca50db31-26f8-46f7-867c-418d631e0f66",
    "scrolled": false
   },
   "outputs": [
    {
     "data": {
      "text/plain": [
       "RandomForestClassifier(max_depth=10, n_estimators=75, random_state=12345)"
      ]
     },
     "execution_count": 35,
     "metadata": {},
     "output_type": "execute_result"
    }
   ],
   "source": [
    "rfc = RandomForestClassifier()\n",
    "params = {'max_depth':range(1,11,1),'n_estimators':range(70,85,5), 'random_state' :[12345]}\n",
    "grdclf = GridSearchCV(rfc,params)\n",
    "grdclf.fit(features_upsampled, target_upsampled.values.ravel())\n",
    "bestclf = grdclf.best_estimator_\n",
    "bestclf"
   ]
  },
  {
   "cell_type": "code",
   "execution_count": 36,
   "metadata": {
    "colab": {
     "base_uri": "https://localhost:8080/"
    },
    "id": "iLtzMEgd23tZ",
    "outputId": "971d4616-6272-4fc1-b5c9-993fb625f848"
   },
   "outputs": [
    {
     "data": {
      "text/plain": [
       "0.6187739463601533"
      ]
     },
     "execution_count": 36,
     "metadata": {},
     "output_type": "execute_result"
    }
   ],
   "source": [
    "predicted_valid = bestclf.predict(features_OHE_valid)\n",
    "tree_f1 = f1_score(target_OHE_valid, predicted_valid)\n",
    "tree_f1"
   ]
  },
  {
   "cell_type": "markdown",
   "metadata": {
    "id": "xHSqOrWgpm8v"
   },
   "source": [
    "Далее проверим модель на адекватность - насколько она отличается от случайной модели."
   ]
  },
  {
   "cell_type": "code",
   "execution_count": 37,
   "metadata": {
    "colab": {
     "base_uri": "https://localhost:8080/",
     "height": 329
    },
    "id": "Rzhd7h6upm8w",
    "outputId": "27cb73e9-f074-49d7-93a0-9f64f18a0610"
   },
   "outputs": [
    {
     "name": "stdout",
     "output_type": "stream",
     "text": [
      "Значение Area Under Curve ROC 0.8562925968344567\n",
      "--------------------\n"
     ]
    },
    {
     "data": {
      "image/png": "[encoded data removed]",
      "text/plain": [
       "<Figure size 432x288 with 1 Axes>"
      ]
     },
     "metadata": {
      "needs_background": "light"
     },
     "output_type": "display_data"
    }
   ],
   "source": [
    "get_roc_curve(bestclf,features_OHE_valid, target_OHE_valid)"
   ]
  },
  {
   "cell_type": "markdown",
   "metadata": {
    "id": "etPw0vPzIP5z"
   },
   "source": [
    "**Вывод:**\n",
    "Значение f1_score 0.619, auc_roc_score=0.856\n"
   ]
  },
  {
   "cell_type": "markdown",
   "metadata": {
    "id": "q-vdnY7323tZ"
   },
   "source": [
    "### 3.2. Метод downsampling"
   ]
  },
  {
   "cell_type": "markdown",
   "metadata": {
    "id": "Lw-iaTh2XUwQ"
   },
   "source": [
    "#### 3.2.1. Метод решающего дерева"
   ]
  },
  {
   "cell_type": "code",
   "execution_count": 38,
   "metadata": {
    "id": "gqsWgNDX23ta"
   },
   "outputs": [],
   "source": [
    "def downsample(features, target, fraction):\n",
    "    features_zeros = features[target.Exited == 0]\n",
    "    features_ones = features[target.Exited == 1]\n",
    "    target_zeros = target[target.Exited == 0]\n",
    "    target_ones = target[target.Exited == 1]\n",
    "\n",
    "    features_downsampled = pd.concat(\n",
    "        [features_zeros.sample(frac=fraction, random_state=12345)] + [features_ones])\n",
    "    target_downsampled = pd.concat(\n",
    "        [target_zeros.sample(frac=fraction, random_state=12345)] + [target_ones])\n",
    "    \n",
    "    features_downsampled, target_downsampled = shuffle(\n",
    "        features_downsampled, target_downsampled, random_state=12345)\n",
    "    \n",
    "    return features_downsampled, target_downsampled\n",
    "\n",
    "features_downsampled, target_downsampled = downsample(features_OHE_train, target_OHE_train, 0.4)"
   ]
  },
  {
   "cell_type": "code",
   "execution_count": 39,
   "metadata": {
    "id": "zbYZhCqt23ta"
   },
   "outputs": [],
   "source": [
    "clf = tree()\n",
    "params = {'max_depth':range(5,11,1), 'min_samples_leaf':range(1,10,1), 'min_samples_split':range(2,16,2), 'random_state' :[12345]}\n",
    "grdclf = GridSearchCV(clf,params)\n",
    "grdclf.fit(features_downsampled, target_downsampled)\n",
    "bestclf = grdclf.best_estimator_\n",
    "predicted_valid = bestclf.predict(features_OHE_valid )"
   ]
  },
  {
   "cell_type": "code",
   "execution_count": 40,
   "metadata": {
    "colab": {
     "base_uri": "https://localhost:8080/"
    },
    "id": "zASP43HTrKSh",
    "outputId": "00c09b58-5304-40e5-8313-e6e63da42c08"
   },
   "outputs": [
    {
     "data": {
      "text/plain": [
       "DecisionTreeClassifier(max_depth=7, min_samples_leaf=9, random_state=12345)"
      ]
     },
     "execution_count": 40,
     "metadata": {},
     "output_type": "execute_result"
    }
   ],
   "source": [
    "bestclf"
   ]
  },
  {
   "cell_type": "code",
   "execution_count": 41,
   "metadata": {
    "colab": {
     "base_uri": "https://localhost:8080/"
    },
    "id": "YmAiYZUSrAYQ",
    "outputId": "33d7ba98-3ecd-461b-eec4-a1e1ec78c0c7"
   },
   "outputs": [
    {
     "name": "stdout",
     "output_type": "stream",
     "text": [
      "F1: 0.6018867924528302\n"
     ]
    }
   ],
   "source": [
    "print(\"F1:\", f1_score(target_OHE_valid, predicted_valid))"
   ]
  },
  {
   "cell_type": "markdown",
   "metadata": {
    "id": "nRMw4tYmqw9S"
   },
   "source": [
    "Далее проверим модель на адекватность - насколько она отличается от случайной модели."
   ]
  },
  {
   "cell_type": "code",
   "execution_count": 42,
   "metadata": {
    "colab": {
     "base_uri": "https://localhost:8080/",
     "height": 329
    },
    "id": "13inva2aqw9T",
    "outputId": "1d686017-8ce2-4ba0-8752-38dcd932fd66"
   },
   "outputs": [
    {
     "name": "stdout",
     "output_type": "stream",
     "text": [
      "Значение Area Under Curve ROC 0.8354090000187755\n",
      "--------------------\n"
     ]
    },
    {
     "data": {
      "image/png": "[encoded data removed]",
      "text/plain": [
       "<Figure size 432x288 with 1 Axes>"
      ]
     },
     "metadata": {
      "needs_background": "light"
     },
     "output_type": "display_data"
    }
   ],
   "source": [
    "get_roc_curve(bestclf,features_OHE_valid, target_OHE_valid)"
   ]
  },
  {
   "cell_type": "markdown",
   "metadata": {
    "id": "7QReOnIzIUMa"
   },
   "source": [
    "**Вывод:**\n",
    "Значение f1_score 0.602, auc_roc_score=0.835\n",
    "\n"
   ]
  },
  {
   "cell_type": "markdown",
   "metadata": {
    "id": "rxcQQDqS23tb"
   },
   "source": [
    "#### 3.2.2 Метод случайного леса"
   ]
  },
  {
   "cell_type": "code",
   "execution_count": 43,
   "metadata": {
    "colab": {
     "base_uri": "https://localhost:8080/"
    },
    "id": "cJZlrmQj23tb",
    "outputId": "f95d22e6-ff1e-41da-8bc1-4c633032abf4"
   },
   "outputs": [
    {
     "name": "stdout",
     "output_type": "stream",
     "text": [
      "Значение F1: 0.6238532110091742\n"
     ]
    }
   ],
   "source": [
    "rfc = RandomForestClassifier()\n",
    "params = {'max_depth':[9],'n_estimators':[40], 'min_samples_leaf':range(1,6,1), 'min_samples_split':range(2,8,2),'random_state' :[12345]}\n",
    "grdclf = GridSearchCV(rfc,params)\n",
    "grdclf.fit(features_downsampled, target_downsampled.values.ravel())\n",
    "bestclf_downsample_random_forest = grdclf.best_estimator_\n",
    "predicted_valid = bestclf_downsample_random_forest.predict(features_OHE_valid)\n",
    "print(\"Значение F1:\", f1_score(target_OHE_valid, predicted_valid))"
   ]
  },
  {
   "cell_type": "code",
   "execution_count": 44,
   "metadata": {
    "colab": {
     "base_uri": "https://localhost:8080/"
    },
    "id": "BIVFiAzXYkn0",
    "outputId": "f7a05239-ccff-4c7f-b4cf-17454bf38b6d"
   },
   "outputs": [
    {
     "data": {
      "text/plain": [
       "RandomForestClassifier(max_depth=9, min_samples_leaf=5, n_estimators=40,\n",
       "                       random_state=12345)"
      ]
     },
     "execution_count": 44,
     "metadata": {},
     "output_type": "execute_result"
    }
   ],
   "source": [
    "bestclf_downsample_random_forest"
   ]
  },
  {
   "cell_type": "code",
   "execution_count": 45,
   "metadata": {
    "colab": {
     "base_uri": "https://localhost:8080/",
     "height": 329
    },
    "id": "xukSWB_GrdkQ",
    "outputId": "d9eb0068-f4b9-4fbb-f84e-3df82a78461e"
   },
   "outputs": [
    {
     "name": "stdout",
     "output_type": "stream",
     "text": [
      "Значение Area Under Curve ROC 0.851611638910272\n",
      "--------------------\n"
     ]
    },
    {
     "data": {
      "image/png": "[encoded data removed]",
      "text/plain": [
       "<Figure size 432x288 with 1 Axes>"
      ]
     },
     "metadata": {
      "needs_background": "light"
     },
     "output_type": "display_data"
    }
   ],
   "source": [
    "get_roc_curve(bestclf_downsample_random_forest,features_OHE_valid, target_OHE_valid)"
   ]
  },
  {
   "cell_type": "markdown",
   "metadata": {
    "id": "0AGCofovH63N"
   },
   "source": [
    "**Вывод:**\n",
    "Значение f1_score 0.624"
   ]
  },
  {
   "cell_type": "markdown",
   "metadata": {
    "id": "nV9eeIsb_GCx"
   },
   "source": [
    "### 3.3 Использование параметра class_weigh"
   ]
  },
  {
   "cell_type": "markdown",
   "metadata": {
    "id": "9wQBBDxfHr2r"
   },
   "source": [
    "#### Метод решающего дерева"
   ]
  },
  {
   "cell_type": "code",
   "execution_count": 46,
   "metadata": {
    "colab": {
     "base_uri": "https://localhost:8080/"
    },
    "id": "w5nvzhQG23tc",
    "outputId": "bd14806a-599c-42a3-dd36-69a128aaca4b"
   },
   "outputs": [
    {
     "data": {
      "text/plain": [
       "DecisionTreeClassifier(class_weight='balanced', max_depth=5, random_state=12345)"
      ]
     },
     "execution_count": 46,
     "metadata": {},
     "output_type": "execute_result"
    }
   ],
   "source": [
    "clf = tree()\n",
    "params = {'max_depth':range(4,10,1),'class_weight':['balanced'], 'random_state' :[12345]}\n",
    "grdclf = GridSearchCV(clf,params)\n",
    "grdclf.fit(features_OHE_train, target_OHE_train)\n",
    "bestclf = grdclf.best_estimator_\n",
    "bestclf"
   ]
  },
  {
   "cell_type": "code",
   "execution_count": 47,
   "metadata": {
    "colab": {
     "base_uri": "https://localhost:8080/"
    },
    "id": "GK4wQ11AAAzI",
    "outputId": "2ba27d0e-35cf-4cfe-edcc-8bbe9840c3b7"
   },
   "outputs": [
    {
     "data": {
      "text/plain": [
       "0.5789895749799518"
      ]
     },
     "execution_count": 47,
     "metadata": {},
     "output_type": "execute_result"
    }
   ],
   "source": [
    "predicted_valid = bestclf.predict(features_OHE_valid)\n",
    "tree_f1 = f1_score(target_OHE_valid, predicted_valid)\n",
    "tree_f1"
   ]
  },
  {
   "cell_type": "code",
   "execution_count": 48,
   "metadata": {
    "colab": {
     "base_uri": "https://localhost:8080/",
     "height": 329
    },
    "id": "hikj5ULRIqrU",
    "outputId": "1155df74-31db-4101-ea5b-c55f21448643"
   },
   "outputs": [
    {
     "name": "stdout",
     "output_type": "stream",
     "text": [
      "Значение Area Under Curve ROC 0.8321385488443702\n",
      "--------------------\n"
     ]
    },
    {
     "data": {
      "image/png": "[encoded data removed]",
      "text/plain": [
       "<Figure size 432x288 with 1 Axes>"
      ]
     },
     "metadata": {
      "needs_background": "light"
     },
     "output_type": "display_data"
    }
   ],
   "source": [
    "get_roc_curve(bestclf,features_OHE_valid, target_OHE_valid)"
   ]
  },
  {
   "cell_type": "markdown",
   "metadata": {
    "id": "zzl2j-F0IoBg"
   },
   "source": [
    "**Вывод:**\n",
    "Значение f1_score 0.58, auc_roc_score=0.83"
   ]
  },
  {
   "cell_type": "markdown",
   "metadata": {
    "id": "UiEkb6cUHzJf"
   },
   "source": [
    "#### Метод случайного леса"
   ]
  },
  {
   "cell_type": "code",
   "execution_count": 49,
   "metadata": {
    "colab": {
     "base_uri": "https://localhost:8080/"
    },
    "id": "SW4WJ8LYGV1k",
    "outputId": "26a585e8-d157-403e-9afe-c53161d791a4"
   },
   "outputs": [
    {
     "data": {
      "text/plain": [
       "RandomForestClassifier(max_depth=10, n_estimators=70, random_state=12345)"
      ]
     },
     "execution_count": 49,
     "metadata": {},
     "output_type": "execute_result"
    }
   ],
   "source": [
    "rfc = RandomForestClassifier()\n",
    "params = {'max_depth':range(7,11,1),'n_estimators':[70], 'random_state' :[12345]}\n",
    "grdclf = GridSearchCV(rfc,params)\n",
    "grdclf.fit(features_OHE_train, target_OHE_train.values.ravel())\n",
    "bestclf = grdclf.best_estimator_\n",
    "bestclf"
   ]
  },
  {
   "cell_type": "code",
   "execution_count": 50,
   "metadata": {
    "colab": {
     "base_uri": "https://localhost:8080/"
    },
    "id": "c3P17pFHGgFt",
    "outputId": "5275afe9-e8f7-483d-a667-b1d98960a8a4"
   },
   "outputs": [
    {
     "data": {
      "text/plain": [
       "0.568"
      ]
     },
     "execution_count": 50,
     "metadata": {},
     "output_type": "execute_result"
    }
   ],
   "source": [
    "predicted_valid = bestclf.predict(features_OHE_valid)\n",
    "tree_f1 = f1_score(target_OHE_valid, predicted_valid)\n",
    "tree_f1"
   ]
  },
  {
   "cell_type": "code",
   "execution_count": 51,
   "metadata": {
    "colab": {
     "base_uri": "https://localhost:8080/",
     "height": 329
    },
    "id": "vaCcDdglI2-j",
    "outputId": "b2b3ab7e-52a1-4088-bbcf-ea4765f2f3e6"
   },
   "outputs": [
    {
     "name": "stdout",
     "output_type": "stream",
     "text": [
      "Значение Area Under Curve ROC 0.8471935374852143\n",
      "--------------------\n"
     ]
    },
    {
     "data": {
      "image/png": "[encoded data removed]",
      "text/plain": [
       "<Figure size 432x288 with 1 Axes>"
      ]
     },
     "metadata": {
      "needs_background": "light"
     },
     "output_type": "display_data"
    }
   ],
   "source": [
    "get_roc_curve(bestclf,features_OHE_valid, target_OHE_valid)"
   ]
  },
  {
   "cell_type": "markdown",
   "metadata": {
    "id": "e_zSjRWEJGhs"
   },
   "source": [
    "**Вывод:**\n",
    "Значение f1_score 0.57, auc_roc_score=0.85"
   ]
  },
  {
   "cell_type": "markdown",
   "metadata": {
    "id": "afsVvgga23td"
   },
   "source": [
    "## Финальное тестирование модели"
   ]
  },
  {
   "cell_type": "markdown",
   "metadata": {
    "id": "fJhN5Z3uJRp7"
   },
   "source": [
    "Протестируем модель, которую показала найболшее значениве f1_score на валидационной выборке, а именно модель случайного леса с сэмплированными данными."
   ]
  },
  {
   "cell_type": "code",
   "execution_count": 54,
   "metadata": {
    "colab": {
     "base_uri": "https://localhost:8080/"
    },
    "id": "s6o5-U9g23td",
    "outputId": "8cab708e-20ab-47cd-b337-191b997d0506"
   },
   "outputs": [
    {
     "data": {
      "text/plain": [
       "0.5974683544303797"
      ]
     },
     "execution_count": 54,
     "metadata": {},
     "output_type": "execute_result"
    }
   ],
   "source": [
    "predicted_test = bestclf_downsample_random_forest.predict(features_test)\n",
    "f1_score(target_test,predicted_test)"
   ]
  },
  {
   "cell_type": "code",
   "execution_count": 55,
   "metadata": {
    "colab": {
     "base_uri": "https://localhost:8080/"
    },
    "id": "lWjdzxK5Kx9b",
    "outputId": "7050971e-1b72-4b28-d1e7-144eb4875b26"
   },
   "outputs": [
    {
     "name": "stdout",
     "output_type": "stream",
     "text": [
      "Значение auc_roc для наилучшей модели равно 0.8606902710993469\n"
     ]
    }
   ],
   "source": [
    "probabilities_valid  = bestclf_downsample_random_forest.predict_proba(features_test)\n",
    "probabilities_one_valid = probabilities_valid[:, 1]\n",
    "auc_roc = roc_auc_score(target_test, probabilities_one_valid)\n",
    "print(f'Значение auc_roc для наилучшей модели равно {auc_roc}')"
   ]
  },
  {
   "cell_type": "markdown",
   "metadata": {
    "id": "tdSW26LQKG04"
   },
   "source": [
    "**Вывод:**\n",
    "\n",
    "\n",
    "Цель проекта достигнута - получено значение f_1 score не менее 0.59. В процессе обучения модели классификации учтена несбалансированность классов. Разница значений на выборках с несбалансированными данными и сбалансированными не значительная."
   ]
  }
 ],
 "metadata": {
  "accelerator": "GPU",
  "colab": {
   "collapsed_sections": [],
   "name": "Копия блокнота \"e9362a5d-de9d-4641-9755-20edf63bfe54.ipynb\"",
   "provenance": [],
   "toc_visible": true
  },
  "kernelspec": {
   "display_name": "Python 3",
   "language": "python",
   "name": "python3"
  },
  "language_info": {
   "codemirror_mode": {
    "name": "ipython",
    "version": 3
   },
   "file_extension": ".py",
   "mimetype": "text/x-python",
   "name": "python",
   "nbconvert_exporter": "python",
   "pygments_lexer": "ipython3",
   "version": "3.8.5"
  },
  "toc": {
   "base_numbering": 1,
   "nav_menu": {},
   "number_sections": true,
   "sideBar": true,
   "skip_h1_title": true,
   "title_cell": "Содержание",
   "title_sidebar": "Contents",
   "toc_cell": true,
   "toc_position": {
    "height": "calc(100% - 180px)",
    "left": "10px",
    "top": "150px",
    "width": "164.997px"
   },
   "toc_section_display": true,
   "toc_window_display": true
  }
 },
 "nbformat": 4,
 "nbformat_minor": 1
}
